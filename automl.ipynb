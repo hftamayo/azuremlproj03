{
 "cells": [
  {
   "cell_type": "markdown",
   "metadata": {},
   "source": [
    "# Automated ML\n",
    "\n",
    "TODO: Import Dependencies. In the cell below, import all the dependencies that you will need to complete the project."
   ]
  },
  {
   "cell_type": "code",
   "execution_count": 1,
   "metadata": {
    "gather": {
     "logged": 1598423888013
    },
    "jupyter": {
     "outputs_hidden": false,
     "source_hidden": false
    },
    "nteract": {
     "transient": {
      "deleting": false
     }
    }
   },
   "outputs": [],
   "source": [
    "from azureml.core import Workspace, Experiment\n",
    "from azureml.core import Model \n",
    "from azureml.train.automl import AutoMLConfig\n",
    "from azureml.widgets import RunDetails\n",
    "from azureml.core.compute import ComputeTarget, AmlCompute\n",
    "from pprint import pprint \n",
    "import joblib\n",
    "import os"
   ]
  },
  {
   "cell_type": "markdown",
   "metadata": {},
   "source": [
    "## Dataset\n",
    "\n",
    "### Overview\n",
    "TODO: In this markdown cell, give an overview of the dataset you are using. Also mention the task you will be performing.\n",
    "\n",
    "\n",
    "TODO: Get data. In the cell below, write code to access the data you will be using in this project. Remember that the dataset needs to be external."
   ]
  },
  {
   "cell_type": "code",
   "execution_count": 2,
   "metadata": {},
   "outputs": [],
   "source": [
    "#getting data: the dataset was uploaded to and is accesible through my github repo\n",
    "from azureml.data.dataset_factory import TabularDatasetFactory\n",
    "\n",
    "rawdata_homic2018 = \"https://raw.githubusercontent.com/hftamayo/azuremlproj03/main/cad2018.csv\"\n",
    "dshomic2018 = TabularDatasetFactory.from_delimited_files(path=rawdata_homic2018, separator=',')\n",
    "pdhomic2018 = dshomic2018.to_pandas_dataframe().dropna()"
   ]
  },
  {
   "cell_type": "code",
   "execution_count": 3,
   "metadata": {
    "gather": {
     "logged": 1598423890461
    },
    "jupyter": {
     "outputs_hidden": false,
     "source_hidden": false
    },
    "nteract": {
     "transient": {
      "deleting": false
     }
    }
   },
   "outputs": [],
   "source": [
    "#setting up workspace and experiment\n",
    "ws = Workspace.from_config()\n",
    "\n",
    "# choose a name for experiment\n",
    "experiment_name = 'expp03ht'\n",
    "\n",
    "experiment=Experiment(ws, experiment_name)"
   ]
  },
  {
   "cell_type": "code",
   "execution_count": 4,
   "metadata": {},
   "outputs": [
    {
     "name": "stdout",
     "output_type": "stream",
     "text": [
      "Creating\n",
      "Succeeded\n",
      "AmlCompute wait for completion finished\n",
      "\n",
      "Minimum number of nodes requested have been provisioned\n"
     ]
    }
   ],
   "source": [
    "# setting up IaaS where the experiment will run on it\n",
    "ccname = \"ccp03aml\"\n",
    "try:\n",
    "    ccluster = ComputeTarget(ws, ccname)\n",
    "    print(f\"{ccname} exists or is in use!, choose a different name\")\n",
    "except:\n",
    "    ccconfig = AmlCompute.provisioning_configuration(vm_size=\"Standard_D2_V2\", max_nodes=5)\n",
    "    ccluster = ComputeTarget.create(ws, ccname, ccconfig)\n",
    "ccluster.wait_for_completion(show_output=True)"
   ]
  },
  {
   "cell_type": "markdown",
   "metadata": {},
   "source": [
    "## AutoML Configuration\n",
    "\n",
    "TODO: Explain why you chose the automl settings and cofiguration you used below."
   ]
  },
  {
   "cell_type": "code",
   "execution_count": 5,
   "metadata": {
    "gather": {
     "logged": 1598429217746
    },
    "jupyter": {
     "outputs_hidden": false,
     "source_hidden": false
    },
    "nteract": {
     "transient": {
      "deleting": false
     }
    }
   },
   "outputs": [],
   "source": [
    "# TODO: Put your automl settings here\n",
    "automl_settings = {\n",
    "    \"experiment_timeout_minutes\": 20,\n",
    "    \"max_concurrent_iterations\": 5,\n",
    "    \"primary_metric\" : 'accuracy'\n",
    "}\n",
    "\n",
    "# TODO: Put your automl config here\n",
    "automl_config = AutoMLConfig(\n",
    "        task='classification',\n",
    "        compute_target=ccluster,\n",
    "        training_data=dshomic2018,\n",
    "        label_column_name='sexo',\n",
    "        n_cross_validations=5,\n",
    "        **automl_settings\n",
    ")"
   ]
  },
  {
   "cell_type": "code",
   "execution_count": 6,
   "metadata": {
    "gather": {
     "logged": 1598431107951
    },
    "jupyter": {
     "outputs_hidden": false,
     "source_hidden": false
    },
    "nteract": {
     "transient": {
      "deleting": false
     }
    },
    "scrolled": false
   },
   "outputs": [
    {
     "name": "stdout",
     "output_type": "stream",
     "text": [
      "Running on remote.\n"
     ]
    }
   ],
   "source": [
    "# TODO: Submit your experiment\n",
    "exprun = experiment.submit(automl_config)"
   ]
  },
  {
   "cell_type": "markdown",
   "metadata": {},
   "source": [
    "## Run Details\n",
    "\n",
    "OPTIONAL: Write about the different models trained and their performance. Why do you think some models did better than others?\n",
    "\n",
    "TODO: In the cell below, use the `RunDetails` widget to show the different experiments."
   ]
  },
  {
   "cell_type": "code",
   "execution_count": 7,
   "metadata": {
    "gather": {
     "logged": 1598431121770
    },
    "jupyter": {
     "outputs_hidden": false,
     "source_hidden": false
    },
    "nteract": {
     "transient": {
      "deleting": false
     }
    },
    "scrolled": false
   },
   "outputs": [
    {
     "data": {
      "application/vnd.jupyter.widget-view+json": {
       "model_id": "773e52a8ca394852a8fe927cd04c6720",
       "version_major": 2,
       "version_minor": 0
      },
      "text/plain": [
       "_AutoMLWidget(widget_settings={'childWidgetDisplay': 'popup', 'send_telemetry': False, 'log_level': 'INFO', 's…"
      ]
     },
     "metadata": {},
     "output_type": "display_data"
    },
    {
     "data": {
      "application/aml.mini.widget.v1": "{\"status\": \"Completed\", \"workbench_run_details_uri\": \"https://ml.azure.com/experiments/expp03ht/runs/AutoML_4d4ae00d-b3c4-4fab-9d9b-ad149eaaaa3b?wsid=/subscriptions/1b944a9b-fdae-4f97-aeb1-b7eea0beac53/resourcegroups/aml-quickstarts-136496/workspaces/quick-starts-ws-136496\", \"run_id\": \"AutoML_4d4ae00d-b3c4-4fab-9d9b-ad149eaaaa3b\", \"run_properties\": {\"run_id\": \"AutoML_4d4ae00d-b3c4-4fab-9d9b-ad149eaaaa3b\", \"created_utc\": \"2021-01-29T10:32:53.717988Z\", \"properties\": {\"num_iterations\": \"1000\", \"training_type\": \"TrainFull\", \"acquisition_function\": \"EI\", \"primary_metric\": \"accuracy\", \"train_split\": \"0\", \"acquisition_parameter\": \"0\", \"num_cross_validation\": \"5\", \"target\": \"ccp03aml\", \"AMLSettingsJsonString\": \"{\\\"path\\\":null,\\\"name\\\":\\\"expp03ht\\\",\\\"subscription_id\\\":\\\"1b944a9b-fdae-4f97-aeb1-b7eea0beac53\\\",\\\"resource_group\\\":\\\"aml-quickstarts-136496\\\",\\\"workspace_name\\\":\\\"quick-starts-ws-136496\\\",\\\"region\\\":\\\"southcentralus\\\",\\\"compute_target\\\":\\\"ccp03aml\\\",\\\"spark_service\\\":null,\\\"azure_service\\\":\\\"remote\\\",\\\"many_models\\\":false,\\\"pipeline_fetch_max_batch_size\\\":1,\\\"iterations\\\":1000,\\\"primary_metric\\\":\\\"accuracy\\\",\\\"task_type\\\":\\\"classification\\\",\\\"data_script\\\":null,\\\"validation_size\\\":0.0,\\\"n_cross_validations\\\":5,\\\"y_min\\\":null,\\\"y_max\\\":null,\\\"num_classes\\\":null,\\\"featurization\\\":\\\"auto\\\",\\\"_ignore_package_version_incompatibilities\\\":false,\\\"is_timeseries\\\":false,\\\"max_cores_per_iteration\\\":1,\\\"max_concurrent_iterations\\\":5,\\\"iteration_timeout_minutes\\\":null,\\\"mem_in_mb\\\":null,\\\"enforce_time_on_windows\\\":false,\\\"experiment_timeout_minutes\\\":20,\\\"experiment_exit_score\\\":null,\\\"whitelist_models\\\":null,\\\"blacklist_algos\\\":[\\\"TensorFlowLinearClassifier\\\",\\\"TensorFlowDNN\\\"],\\\"supported_models\\\":[\\\"LightGBM\\\",\\\"AveragedPerceptronClassifier\\\",\\\"LogisticRegression\\\",\\\"SGD\\\",\\\"BernoulliNaiveBayes\\\",\\\"MultinomialNaiveBayes\\\",\\\"KNN\\\",\\\"RandomForest\\\",\\\"ExtremeRandomTrees\\\",\\\"SVM\\\",\\\"XGBoostClassifier\\\",\\\"GradientBoosting\\\",\\\"TensorFlowLinearClassifier\\\",\\\"TensorFlowDNN\\\",\\\"DecisionTree\\\",\\\"LinearSVM\\\"],\\\"auto_blacklist\\\":true,\\\"blacklist_samples_reached\\\":false,\\\"exclude_nan_labels\\\":true,\\\"verbosity\\\":20,\\\"_debug_log\\\":\\\"azureml_automl.log\\\",\\\"show_warnings\\\":false,\\\"model_explainability\\\":true,\\\"service_url\\\":null,\\\"sdk_url\\\":null,\\\"sdk_packages\\\":null,\\\"enable_onnx_compatible_models\\\":false,\\\"enable_split_onnx_featurizer_estimator_models\\\":false,\\\"vm_type\\\":\\\"STANDARD_D2_V2\\\",\\\"telemetry_verbosity\\\":20,\\\"send_telemetry\\\":true,\\\"enable_dnn\\\":false,\\\"scenario\\\":\\\"SDK-1.13.0\\\",\\\"environment_label\\\":null,\\\"force_text_dnn\\\":false,\\\"enable_feature_sweeping\\\":true,\\\"enable_early_stopping\\\":false,\\\"early_stopping_n_iters\\\":10,\\\"metrics\\\":null,\\\"enable_ensembling\\\":true,\\\"enable_stack_ensembling\\\":true,\\\"ensemble_iterations\\\":15,\\\"enable_tf\\\":false,\\\"enable_subsampling\\\":null,\\\"subsample_seed\\\":null,\\\"enable_nimbusml\\\":false,\\\"enable_streaming\\\":false,\\\"force_streaming\\\":false,\\\"track_child_runs\\\":true,\\\"allowed_private_models\\\":[],\\\"label_column_name\\\":\\\"sexo\\\",\\\"weight_column_name\\\":null,\\\"cv_split_column_names\\\":null,\\\"enable_local_managed\\\":false,\\\"_local_managed_run_id\\\":null,\\\"cost_mode\\\":1,\\\"lag_length\\\":0,\\\"metric_operation\\\":\\\"maximize\\\",\\\"preprocess\\\":true}\", \"DataPrepJsonString\": \"{\\\\\\\"training_data\\\\\\\": \\\\\\\"{\\\\\\\\\\\\\\\"blocks\\\\\\\\\\\\\\\": [{\\\\\\\\\\\\\\\"id\\\\\\\\\\\\\\\": \\\\\\\\\\\\\\\"d781c78a-7bc1-4170-8771-ec781cb006f0\\\\\\\\\\\\\\\", \\\\\\\\\\\\\\\"type\\\\\\\\\\\\\\\": \\\\\\\\\\\\\\\"Microsoft.DPrep.GetFilesBlock\\\\\\\\\\\\\\\", \\\\\\\\\\\\\\\"arguments\\\\\\\\\\\\\\\": {\\\\\\\\\\\\\\\"isArchive\\\\\\\\\\\\\\\": false, \\\\\\\\\\\\\\\"path\\\\\\\\\\\\\\\": {\\\\\\\\\\\\\\\"target\\\\\\\\\\\\\\\": 4, \\\\\\\\\\\\\\\"resourceDetails\\\\\\\\\\\\\\\": [{\\\\\\\\\\\\\\\"path\\\\\\\\\\\\\\\": \\\\\\\\\\\\\\\"https://raw.githubusercontent.com/hftamayo/azuremlproj03/main/cad2018.csv\\\\\\\\\\\\\\\"}]}}, \\\\\\\\\\\\\\\"localData\\\\\\\\\\\\\\\": {}, \\\\\\\\\\\\\\\"isEnabled\\\\\\\\\\\\\\\": true, \\\\\\\\\\\\\\\"name\\\\\\\\\\\\\\\": null, \\\\\\\\\\\\\\\"annotation\\\\\\\\\\\\\\\": null}, {\\\\\\\\\\\\\\\"id\\\\\\\\\\\\\\\": \\\\\\\\\\\\\\\"e0ac160c-c9ef-40fb-9a8e-6bc8635d5908\\\\\\\\\\\\\\\", \\\\\\\\\\\\\\\"type\\\\\\\\\\\\\\\": \\\\\\\\\\\\\\\"Microsoft.DPrep.ParseDelimitedBlock\\\\\\\\\\\\\\\", \\\\\\\\\\\\\\\"arguments\\\\\\\\\\\\\\\": {\\\\\\\\\\\\\\\"columnHeadersMode\\\\\\\\\\\\\\\": 3, \\\\\\\\\\\\\\\"fileEncoding\\\\\\\\\\\\\\\": 0, \\\\\\\\\\\\\\\"handleQuotedLineBreaks\\\\\\\\\\\\\\\": false, \\\\\\\\\\\\\\\"preview\\\\\\\\\\\\\\\": false, \\\\\\\\\\\\\\\"separator\\\\\\\\\\\\\\\": \\\\\\\\\\\\\\\",\\\\\\\\\\\\\\\", \\\\\\\\\\\\\\\"skipRows\\\\\\\\\\\\\\\": 0, \\\\\\\\\\\\\\\"skipRowsMode\\\\\\\\\\\\\\\": 0}, \\\\\\\\\\\\\\\"localData\\\\\\\\\\\\\\\": {}, \\\\\\\\\\\\\\\"isEnabled\\\\\\\\\\\\\\\": true, \\\\\\\\\\\\\\\"name\\\\\\\\\\\\\\\": null, \\\\\\\\\\\\\\\"annotation\\\\\\\\\\\\\\\": null}, {\\\\\\\\\\\\\\\"id\\\\\\\\\\\\\\\": \\\\\\\\\\\\\\\"66a5e446-94f3-4f37-b0f0-4404b27c2559\\\\\\\\\\\\\\\", \\\\\\\\\\\\\\\"type\\\\\\\\\\\\\\\": \\\\\\\\\\\\\\\"Microsoft.DPrep.DropColumnsBlock\\\\\\\\\\\\\\\", \\\\\\\\\\\\\\\"arguments\\\\\\\\\\\\\\\": {\\\\\\\\\\\\\\\"columns\\\\\\\\\\\\\\\": {\\\\\\\\\\\\\\\"type\\\\\\\\\\\\\\\": 0, \\\\\\\\\\\\\\\"details\\\\\\\\\\\\\\\": {\\\\\\\\\\\\\\\"selectedColumns\\\\\\\\\\\\\\\": [\\\\\\\\\\\\\\\"Path\\\\\\\\\\\\\\\"]}}}, \\\\\\\\\\\\\\\"localData\\\\\\\\\\\\\\\": {}, \\\\\\\\\\\\\\\"isEnabled\\\\\\\\\\\\\\\": true, \\\\\\\\\\\\\\\"name\\\\\\\\\\\\\\\": null, \\\\\\\\\\\\\\\"annotation\\\\\\\\\\\\\\\": null}, {\\\\\\\\\\\\\\\"id\\\\\\\\\\\\\\\": \\\\\\\\\\\\\\\"be0bb52d-5419-4c3a-880a-6086d37b8cfd\\\\\\\\\\\\\\\", \\\\\\\\\\\\\\\"type\\\\\\\\\\\\\\\": \\\\\\\\\\\\\\\"Microsoft.DPrep.SetColumnTypesBlock\\\\\\\\\\\\\\\", \\\\\\\\\\\\\\\"arguments\\\\\\\\\\\\\\\": {\\\\\\\\\\\\\\\"columnConversion\\\\\\\\\\\\\\\": [{\\\\\\\\\\\\\\\"column\\\\\\\\\\\\\\\": {\\\\\\\\\\\\\\\"type\\\\\\\\\\\\\\\": 2, \\\\\\\\\\\\\\\"details\\\\\\\\\\\\\\\": {\\\\\\\\\\\\\\\"selectedColumn\\\\\\\\\\\\\\\": \\\\\\\\\\\\\\\"id\\\\\\\\\\\\\\\"}}, \\\\\\\\\\\\\\\"typeProperty\\\\\\\\\\\\\\\": 2}, {\\\\\\\\\\\\\\\"column\\\\\\\\\\\\\\\": {\\\\\\\\\\\\\\\"type\\\\\\\\\\\\\\\": 2, \\\\\\\\\\\\\\\"details\\\\\\\\\\\\\\\": {\\\\\\\\\\\\\\\"selectedColumn\\\\\\\\\\\\\\\": \\\\\\\\\\\\\\\"regfalle\\\\\\\\\\\\\\\"}}, \\\\\\\\\\\\\\\"typeProperty\\\\\\\\\\\\\\\": 2}, {\\\\\\\\\\\\\\\"column\\\\\\\\\\\\\\\": {\\\\\\\\\\\\\\\"type\\\\\\\\\\\\\\\": 2, \\\\\\\\\\\\\\\"details\\\\\\\\\\\\\\\": {\\\\\\\\\\\\\\\"selectedColumn\\\\\\\\\\\\\\\": \\\\\\\\\\\\\\\"edad\\\\\\\\\\\\\\\"}}, \\\\\\\\\\\\\\\"typeProperty\\\\\\\\\\\\\\\": 2}, {\\\\\\\\\\\\\\\"column\\\\\\\\\\\\\\\": {\\\\\\\\\\\\\\\"type\\\\\\\\\\\\\\\": 2, \\\\\\\\\\\\\\\"details\\\\\\\\\\\\\\\": {\\\\\\\\\\\\\\\"selectedColumn\\\\\\\\\\\\\\\": \\\\\\\\\\\\\\\"sexo\\\\\\\\\\\\\\\"}}, \\\\\\\\\\\\\\\"typeProperty\\\\\\\\\\\\\\\": 2}, {\\\\\\\\\\\\\\\"column\\\\\\\\\\\\\\\": {\\\\\\\\\\\\\\\"type\\\\\\\\\\\\\\\": 2, \\\\\\\\\\\\\\\"details\\\\\\\\\\\\\\\": {\\\\\\\\\\\\\\\"selectedColumn\\\\\\\\\\\\\\\": \\\\\\\\\\\\\\\"deptoocuhe\\\\\\\\\\\\\\\"}}, \\\\\\\\\\\\\\\"typeProperty\\\\\\\\\\\\\\\": 2}, {\\\\\\\\\\\\\\\"column\\\\\\\\\\\\\\\": {\\\\\\\\\\\\\\\"type\\\\\\\\\\\\\\\": 2, \\\\\\\\\\\\\\\"details\\\\\\\\\\\\\\\": {\\\\\\\\\\\\\\\"selectedColumn\\\\\\\\\\\\\\\": \\\\\\\\\\\\\\\"tipoarma\\\\\\\\\\\\\\\"}}, \\\\\\\\\\\\\\\"typeProperty\\\\\\\\\\\\\\\": 2}, {\\\\\\\\\\\\\\\"column\\\\\\\\\\\\\\\": {\\\\\\\\\\\\\\\"type\\\\\\\\\\\\\\\": 2, \\\\\\\\\\\\\\\"details\\\\\\\\\\\\\\\": {\\\\\\\\\\\\\\\"selectedColumn\\\\\\\\\\\\\\\": \\\\\\\\\\\\\\\"pracaut\\\\\\\\\\\\\\\"}}, \\\\\\\\\\\\\\\"typeProperty\\\\\\\\\\\\\\\": 2}]}, \\\\\\\\\\\\\\\"localData\\\\\\\\\\\\\\\": {}, \\\\\\\\\\\\\\\"isEnabled\\\\\\\\\\\\\\\": true, \\\\\\\\\\\\\\\"name\\\\\\\\\\\\\\\": null, \\\\\\\\\\\\\\\"annotation\\\\\\\\\\\\\\\": null}], \\\\\\\\\\\\\\\"inspectors\\\\\\\\\\\\\\\": [], \\\\\\\\\\\\\\\"meta\\\\\\\\\\\\\\\": {\\\\\\\\\\\\\\\"savedDatasetId\\\\\\\\\\\\\\\": \\\\\\\\\\\\\\\"83126fd9-f456-48a6-ae73-466351bfaa69\\\\\\\\\\\\\\\", \\\\\\\\\\\\\\\"datasetType\\\\\\\\\\\\\\\": \\\\\\\\\\\\\\\"tabular\\\\\\\\\\\\\\\", \\\\\\\\\\\\\\\"subscriptionId\\\\\\\\\\\\\\\": \\\\\\\\\\\\\\\"1b944a9b-fdae-4f97-aeb1-b7eea0beac53\\\\\\\\\\\\\\\", \\\\\\\\\\\\\\\"workspaceId\\\\\\\\\\\\\\\": \\\\\\\\\\\\\\\"2bc4379e-e9ea-4b1a-9fb9-b7297d2b4a58\\\\\\\\\\\\\\\", \\\\\\\\\\\\\\\"workspaceLocation\\\\\\\\\\\\\\\": \\\\\\\\\\\\\\\"southcentralus\\\\\\\\\\\\\\\"}}\\\\\\\", \\\\\\\"activities\\\\\\\": 0}\", \"EnableSubsampling\": null, \"runTemplate\": \"AutoML\", \"azureml.runsource\": \"automl\", \"display_task_type\": \"classification\", \"dependencies_versions\": \"{\\\"azureml-widgets\\\": \\\"1.20.0\\\", \\\"azureml-train\\\": \\\"1.20.0\\\", \\\"azureml-train-restclients-hyperdrive\\\": \\\"1.20.0\\\", \\\"azureml-train-core\\\": \\\"1.20.0\\\", \\\"azureml-train-automl\\\": \\\"1.20.0\\\", \\\"azureml-train-automl-runtime\\\": \\\"1.20.0\\\", \\\"azureml-train-automl-client\\\": \\\"1.20.0\\\", \\\"azureml-tensorboard\\\": \\\"1.20.0\\\", \\\"azureml-telemetry\\\": \\\"1.20.0\\\", \\\"azureml-sdk\\\": \\\"1.20.0\\\", \\\"azureml-samples\\\": \\\"0+unknown\\\", \\\"azureml-pipeline\\\": \\\"1.20.0\\\", \\\"azureml-pipeline-steps\\\": \\\"1.20.0\\\", \\\"azureml-pipeline-core\\\": \\\"1.20.0\\\", \\\"azureml-opendatasets\\\": \\\"1.20.0\\\", \\\"azureml-model-management-sdk\\\": \\\"1.0.1b6.post1\\\", \\\"azureml-mlflow\\\": \\\"1.20.0.post1\\\", \\\"azureml-interpret\\\": \\\"1.20.0\\\", \\\"azureml-explain-model\\\": \\\"1.20.0\\\", \\\"azureml-defaults\\\": \\\"1.20.0\\\", \\\"azureml-dataset-runtime\\\": \\\"1.20.0\\\", \\\"azureml-dataprep\\\": \\\"2.7.3\\\", \\\"azureml-dataprep-rslex\\\": \\\"1.5.0\\\", \\\"azureml-dataprep-native\\\": \\\"27.0.0\\\", \\\"azureml-datadrift\\\": \\\"1.20.0\\\", \\\"azureml-core\\\": \\\"1.20.0\\\", \\\"azureml-contrib-services\\\": \\\"1.20.0\\\", \\\"azureml-contrib-server\\\": \\\"1.20.0\\\", \\\"azureml-contrib-reinforcementlearning\\\": \\\"1.20.0\\\", \\\"azureml-contrib-pipeline-steps\\\": \\\"1.20.0\\\", \\\"azureml-contrib-notebook\\\": \\\"1.20.0\\\", \\\"azureml-contrib-interpret\\\": \\\"1.20.0\\\", \\\"azureml-contrib-gbdt\\\": \\\"1.20.0\\\", \\\"azureml-contrib-fairness\\\": \\\"1.20.0\\\", \\\"azureml-contrib-dataset\\\": \\\"1.20.0\\\", \\\"azureml-cli-common\\\": \\\"1.20.0\\\", \\\"azureml-automl-runtime\\\": \\\"1.20.0\\\", \\\"azureml-automl-core\\\": \\\"1.20.0\\\", \\\"azureml-accel-models\\\": \\\"1.20.0\\\"}\", \"_aml_system_scenario_identification\": \"Remote.Parent\", \"ClientType\": \"SDK\", \"environment_cpu_name\": \"AzureML-AutoML\", \"environment_cpu_label\": \"prod\", \"environment_gpu_name\": \"AzureML-AutoML-GPU\", \"environment_gpu_label\": \"prod\", \"root_attribution\": \"automl\", \"attribution\": \"AutoML\", \"Orchestrator\": \"AutoML\", \"CancelUri\": \"https://southcentralus.experiments.azureml.net/jasmine/v1.0/subscriptions/1b944a9b-fdae-4f97-aeb1-b7eea0beac53/resourceGroups/aml-quickstarts-136496/providers/Microsoft.MachineLearningServices/workspaces/quick-starts-ws-136496/experimentids/7229f264-e173-4e00-b190-95618964ceaf/cancel/AutoML_4d4ae00d-b3c4-4fab-9d9b-ad149eaaaa3b\", \"ClientSdkVersion\": \"1.20.0.post1\", \"snapshotId\": \"00000000-0000-0000-0000-000000000000\", \"SetupRunId\": \"AutoML_4d4ae00d-b3c4-4fab-9d9b-ad149eaaaa3b_setup\", \"SetupRunContainerId\": \"dcid.AutoML_4d4ae00d-b3c4-4fab-9d9b-ad149eaaaa3b_setup\", \"FeaturizationRunJsonPath\": \"featurizer_container.json\", \"FeaturizationRunId\": \"AutoML_4d4ae00d-b3c4-4fab-9d9b-ad149eaaaa3b_featurize\", \"ProblemInfoJsonString\": \"{\\\"dataset_num_categorical\\\": 0, \\\"is_sparse\\\": true, \\\"subsampling\\\": false, \\\"dataset_classes\\\": 2, \\\"dataset_features\\\": 34, \\\"dataset_samples\\\": 3346, \\\"single_frequency_class_detected\\\": false}\", \"ModelExplainRunId\": \"AutoML_4d4ae00d-b3c4-4fab-9d9b-ad149eaaaa3b_ModelExplain\"}, \"tags\": {\"model_explain_run\": \"best_run\", \"_aml_system_azureml.automlComponent\": \"AutoML\", \"pipeline_id\": \"\", \"score\": \"\", \"predicted_cost\": \"\", \"fit_time\": \"\", \"training_percent\": \"\", \"iteration\": \"\", \"run_preprocessor\": \"\", \"run_algorithm\": \"\", \"dynamic_whitelisting_iterations\": \"<25>;<30>;<35>;<40>;<45>;<50>;<55>;<60>;\", \"automl_best_child_run_id\": \"AutoML_4d4ae00d-b3c4-4fab-9d9b-ad149eaaaa3b_62\", \"model_explain_best_run_child_id\": \"AutoML_4d4ae00d-b3c4-4fab-9d9b-ad149eaaaa3b_62\"}, \"end_time_utc\": \"2021-01-29T11:06:47.974305Z\", \"status\": \"Completed\", \"log_files\": {}, \"log_groups\": [], \"run_duration\": \"0:33:54\"}, \"child_runs\": [{\"run_id\": \"AutoML_4d4ae00d-b3c4-4fab-9d9b-ad149eaaaa3b_0\", \"run_number\": 5, \"metric\": null, \"status\": \"Completed\", \"run_type\": \"azureml.scriptrun\", \"training_percent\": \"100\", \"start_time\": \"2021-01-29T10:45:33.298014Z\", \"end_time\": \"2021-01-29T10:46:23.195597Z\", \"created_time\": \"2021-01-29T10:44:19.557056Z\", \"created_time_dt\": \"2021-01-29T10:44:19.557056Z\", \"duration\": \"0:02:03\", \"iteration\": \"0\", \"goal\": \"accuracy_max\", \"run_name\": \"MaxAbsScaler, LightGBM\", \"run_properties\": \"copy=True\", \"primary_metric\": 0.87238605, \"best_metric\": 0.87238605}, {\"run_id\": \"AutoML_4d4ae00d-b3c4-4fab-9d9b-ad149eaaaa3b_1\", \"run_number\": 6, \"metric\": null, \"status\": \"Completed\", \"run_type\": \"azureml.scriptrun\", \"training_percent\": \"100\", \"start_time\": \"2021-01-29T10:46:26.91657Z\", \"end_time\": \"2021-01-29T10:47:29.336016Z\", \"created_time\": \"2021-01-29T10:44:19.58349Z\", \"created_time_dt\": \"2021-01-29T10:44:19.58349Z\", \"duration\": \"0:03:09\", \"iteration\": \"1\", \"goal\": \"accuracy_max\", \"run_name\": \"MaxAbsScaler, XGBoostClassifier\", \"run_properties\": \"copy=True\", \"primary_metric\": 0.87985499, \"best_metric\": 0.87985499}, {\"run_id\": \"AutoML_4d4ae00d-b3c4-4fab-9d9b-ad149eaaaa3b_4\", \"run_number\": 7, \"metric\": null, \"status\": \"Completed\", \"run_type\": \"azureml.scriptrun\", \"training_percent\": \"100\", \"start_time\": \"2021-01-29T10:44:30.277094Z\", \"end_time\": \"2021-01-29T10:45:25.591387Z\", \"created_time\": \"2021-01-29T10:44:19.59326Z\", \"created_time_dt\": \"2021-01-29T10:44:19.59326Z\", \"duration\": \"0:01:05\", \"iteration\": \"4\", \"goal\": \"accuracy_max\", \"run_name\": \"MaxAbsScaler, RandomForest\", \"run_properties\": \"copy=True\", \"primary_metric\": 0.661696, \"best_metric\": 0.87985499}, {\"run_id\": \"AutoML_4d4ae00d-b3c4-4fab-9d9b-ad149eaaaa3b_3\", \"run_number\": 8, \"metric\": null, \"status\": \"Completed\", \"run_type\": \"azureml.scriptrun\", \"training_percent\": \"100\", \"start_time\": \"2021-01-29T10:47:59.765774Z\", \"end_time\": \"2021-01-29T10:53:20.734408Z\", \"created_time\": \"2021-01-29T10:44:19.612942Z\", \"created_time_dt\": \"2021-01-29T10:44:19.612942Z\", \"duration\": \"0:09:01\", \"iteration\": \"3\", \"goal\": \"accuracy_max\", \"run_name\": \"MaxAbsScaler, RandomForest\", \"run_properties\": \"copy=True\", \"primary_metric\": 0.87895946, \"best_metric\": 0.87985499}, {\"run_id\": \"AutoML_4d4ae00d-b3c4-4fab-9d9b-ad149eaaaa3b_2\", \"run_number\": 9, \"metric\": null, \"status\": \"Completed\", \"run_type\": \"azureml.scriptrun\", \"training_percent\": \"100\", \"start_time\": \"2021-01-29T10:47:30.294341Z\", \"end_time\": \"2021-01-29T10:48:35.700374Z\", \"created_time\": \"2021-01-29T10:44:19.944899Z\", \"created_time_dt\": \"2021-01-29T10:44:19.944899Z\", \"duration\": \"0:04:15\", \"iteration\": \"2\", \"goal\": \"accuracy_max\", \"run_name\": \"MaxAbsScaler, RandomForest\", \"run_properties\": \"copy=True\", \"primary_metric\": 0.87895946, \"best_metric\": 0.87985499}, {\"run_id\": \"AutoML_4d4ae00d-b3c4-4fab-9d9b-ad149eaaaa3b_5\", \"run_number\": 10, \"metric\": null, \"status\": \"Completed\", \"run_type\": \"azureml.scriptrun\", \"training_percent\": \"100\", \"start_time\": \"2021-01-29T10:48:02.895238Z\", \"end_time\": \"2021-01-29T10:53:26.132245Z\", \"created_time\": \"2021-01-29T10:45:28.311737Z\", \"created_time_dt\": \"2021-01-29T10:45:28.311737Z\", \"duration\": \"0:07:57\", \"iteration\": \"5\", \"goal\": \"accuracy_max\", \"run_name\": \"MaxAbsScaler, RandomForest\", \"run_properties\": \"copy=True\", \"primary_metric\": 0.63151105, \"best_metric\": 0.87985499}, {\"run_id\": \"AutoML_4d4ae00d-b3c4-4fab-9d9b-ad149eaaaa3b_6\", \"run_number\": 11, \"metric\": null, \"status\": \"Completed\", \"run_type\": \"azureml.scriptrun\", \"training_percent\": \"100\", \"start_time\": \"2021-01-29T10:48:03.240409Z\", \"end_time\": \"2021-01-29T10:53:33.121867Z\", \"created_time\": \"2021-01-29T10:46:26.277207Z\", \"created_time_dt\": \"2021-01-29T10:46:26.277207Z\", \"duration\": \"0:07:06\", \"iteration\": \"6\", \"goal\": \"accuracy_max\", \"run_name\": \"SparseNormalizer, XGBoostClassifier\", \"run_properties\": \"<azureml.automl.runtime.shared.model_wrappers.SparseNormalizer object at 0x7f9bd07ec748\", \"primary_metric\": 0.87746469, \"best_metric\": 0.87985499}, {\"run_id\": \"AutoML_4d4ae00d-b3c4-4fab-9d9b-ad149eaaaa3b_7\", \"run_number\": 12, \"metric\": null, \"status\": \"Completed\", \"run_type\": \"azureml.scriptrun\", \"training_percent\": \"100\", \"start_time\": \"2021-01-29T10:48:01.269714Z\", \"end_time\": \"2021-01-29T10:53:25.989448Z\", \"created_time\": \"2021-01-29T10:47:32.829767Z\", \"created_time_dt\": \"2021-01-29T10:47:32.829767Z\", \"duration\": \"0:05:53\", \"iteration\": \"7\", \"goal\": \"accuracy_max\", \"run_name\": \"StandardScalerWrapper, LogisticRegression\", \"run_properties\": \"<azureml.automl.runtime.shared.model_wrappers.StandardScalerWrapper object at 0x7f3c786a36d8\", \"primary_metric\": 0.65720099, \"best_metric\": 0.87985499}, {\"run_id\": \"AutoML_4d4ae00d-b3c4-4fab-9d9b-ad149eaaaa3b_8\", \"run_number\": 13, \"metric\": null, \"status\": \"Completed\", \"run_type\": \"azureml.scriptrun\", \"training_percent\": \"100\", \"start_time\": \"2021-01-29T10:48:51.674925Z\", \"end_time\": \"2021-01-29T10:49:47.166575Z\", \"created_time\": \"2021-01-29T10:48:38.028314Z\", \"created_time_dt\": \"2021-01-29T10:48:38.028314Z\", \"duration\": \"0:01:09\", \"iteration\": \"8\", \"goal\": \"accuracy_max\", \"run_name\": \"SparseNormalizer, XGBoostClassifier\", \"run_properties\": \"<azureml.automl.runtime.shared.model_wrappers.SparseNormalizer object at 0x7f44f468ee10\", \"primary_metric\": 0.88045423, \"best_metric\": 0.88045423}, {\"run_id\": \"AutoML_4d4ae00d-b3c4-4fab-9d9b-ad149eaaaa3b_9\", \"run_number\": 14, \"metric\": null, \"status\": \"Completed\", \"run_type\": \"azureml.scriptrun\", \"training_percent\": \"100\", \"start_time\": \"2021-01-29T10:50:01.865724Z\", \"end_time\": \"2021-01-29T10:50:49.440226Z\", \"created_time\": \"2021-01-29T10:49:49.995956Z\", \"created_time_dt\": \"2021-01-29T10:49:49.995956Z\", \"duration\": \"0:00:59\", \"iteration\": \"9\", \"goal\": \"accuracy_max\", \"run_name\": \"MaxAbsScaler, LightGBM\", \"run_properties\": \"copy=True\", \"primary_metric\": 0.87895946, \"best_metric\": 0.88045423}, {\"run_id\": \"AutoML_4d4ae00d-b3c4-4fab-9d9b-ad149eaaaa3b_10\", \"run_number\": 15, \"metric\": null, \"status\": \"Completed\", \"run_type\": \"azureml.scriptrun\", \"training_percent\": \"100\", \"start_time\": \"2021-01-29T10:51:04.952655Z\", \"end_time\": \"2021-01-29T10:51:53.806249Z\", \"created_time\": \"2021-01-29T10:50:52.198144Z\", \"created_time_dt\": \"2021-01-29T10:50:52.198144Z\", \"duration\": \"0:01:01\", \"iteration\": \"10\", \"goal\": \"accuracy_max\", \"run_name\": \"StandardScalerWrapper, LightGBM\", \"run_properties\": \"<azureml.automl.runtime.shared.model_wrappers.StandardScalerWrapper object at 0x7fe8f34c7828\", \"primary_metric\": 0.87895946, \"best_metric\": 0.88045423}, {\"run_id\": \"AutoML_4d4ae00d-b3c4-4fab-9d9b-ad149eaaaa3b_11\", \"run_number\": 16, \"metric\": null, \"status\": \"Completed\", \"run_type\": \"azureml.scriptrun\", \"training_percent\": \"100\", \"start_time\": \"2021-01-29T10:52:10.544204Z\", \"end_time\": \"2021-01-29T10:52:59.760351Z\", \"created_time\": \"2021-01-29T10:51:56.992044Z\", \"created_time_dt\": \"2021-01-29T10:51:56.992044Z\", \"duration\": \"0:01:02\", \"iteration\": \"11\", \"goal\": \"accuracy_max\", \"run_name\": \"MaxAbsScaler, LightGBM\", \"run_properties\": \"copy=True\", \"primary_metric\": 0.87895946, \"best_metric\": 0.88045423}, {\"run_id\": \"AutoML_4d4ae00d-b3c4-4fab-9d9b-ad149eaaaa3b_12\", \"run_number\": 17, \"metric\": null, \"status\": \"Completed\", \"run_type\": \"azureml.scriptrun\", \"training_percent\": \"100\", \"start_time\": \"2021-01-29T10:53:14.634616Z\", \"end_time\": \"2021-01-29T10:54:01.305622Z\", \"created_time\": \"2021-01-29T10:53:02.789762Z\", \"created_time_dt\": \"2021-01-29T10:53:02.789762Z\", \"duration\": \"0:00:58\", \"iteration\": \"12\", \"goal\": \"accuracy_max\", \"run_name\": \"MaxAbsScaler, LogisticRegression\", \"run_properties\": \"copy=True\", \"primary_metric\": 0.8780626, \"best_metric\": 0.88045423}, {\"run_id\": \"AutoML_4d4ae00d-b3c4-4fab-9d9b-ad149eaaaa3b_13\", \"run_number\": 18, \"metric\": null, \"status\": \"Completed\", \"run_type\": \"azureml.scriptrun\", \"training_percent\": \"100\", \"start_time\": \"2021-01-29T10:53:35.619674Z\", \"end_time\": \"2021-01-29T10:54:30.107702Z\", \"created_time\": \"2021-01-29T10:53:23.310702Z\", \"created_time_dt\": \"2021-01-29T10:53:23.310702Z\", \"duration\": \"0:01:06\", \"iteration\": \"13\", \"goal\": \"accuracy_max\", \"run_name\": \"SparseNormalizer, XGBoostClassifier\", \"run_properties\": \"<azureml.automl.runtime.shared.model_wrappers.SparseNormalizer object at 0x7fc8f1a5d710\", \"primary_metric\": 0.87895946, \"best_metric\": 0.88045423}, {\"run_id\": \"AutoML_4d4ae00d-b3c4-4fab-9d9b-ad149eaaaa3b_14\", \"run_number\": 19, \"metric\": null, \"status\": \"Completed\", \"run_type\": \"azureml.scriptrun\", \"training_percent\": \"100\", \"start_time\": \"2021-01-29T10:53:40.177566Z\", \"end_time\": \"2021-01-29T10:54:31.631098Z\", \"created_time\": \"2021-01-29T10:53:28.532805Z\", \"created_time_dt\": \"2021-01-29T10:53:28.532805Z\", \"duration\": \"0:01:03\", \"iteration\": \"14\", \"goal\": \"accuracy_max\", \"run_name\": \"SparseNormalizer, LightGBM\", \"run_properties\": \"<azureml.automl.runtime.shared.model_wrappers.SparseNormalizer object at 0x7fd0aaa0a9e8\", \"primary_metric\": 0.87895946, \"best_metric\": 0.88045423}, {\"run_id\": \"AutoML_4d4ae00d-b3c4-4fab-9d9b-ad149eaaaa3b_15\", \"run_number\": 20, \"metric\": null, \"status\": \"Completed\", \"run_type\": \"azureml.scriptrun\", \"training_percent\": \"100\", \"start_time\": \"2021-01-29T10:53:40.732135Z\", \"end_time\": \"2021-01-29T10:54:28.637371Z\", \"created_time\": \"2021-01-29T10:53:28.685027Z\", \"created_time_dt\": \"2021-01-29T10:53:28.685027Z\", \"duration\": \"0:00:59\", \"iteration\": \"15\", \"goal\": \"accuracy_max\", \"run_name\": \"MaxAbsScaler, LightGBM\", \"run_properties\": \"copy=True\", \"primary_metric\": 0.87895946, \"best_metric\": 0.88045423}, {\"run_id\": \"AutoML_4d4ae00d-b3c4-4fab-9d9b-ad149eaaaa3b_16\", \"run_number\": 21, \"metric\": null, \"status\": \"Completed\", \"run_type\": \"azureml.scriptrun\", \"training_percent\": \"100\", \"start_time\": \"2021-01-29T10:53:47.123151Z\", \"end_time\": \"2021-01-29T10:54:38.083607Z\", \"created_time\": \"2021-01-29T10:53:35.284869Z\", \"created_time_dt\": \"2021-01-29T10:53:35.284869Z\", \"duration\": \"0:01:02\", \"iteration\": \"16\", \"goal\": \"accuracy_max\", \"run_name\": \"MaxAbsScaler, LightGBM\", \"run_properties\": \"copy=True\", \"primary_metric\": 0.87895946, \"best_metric\": 0.88045423}, {\"run_id\": \"AutoML_4d4ae00d-b3c4-4fab-9d9b-ad149eaaaa3b_17\", \"run_number\": 22, \"metric\": null, \"status\": \"Completed\", \"run_type\": \"azureml.scriptrun\", \"training_percent\": \"100\", \"start_time\": \"2021-01-29T10:54:15.794274Z\", \"end_time\": \"2021-01-29T10:55:07.576592Z\", \"created_time\": \"2021-01-29T10:54:03.788758Z\", \"created_time_dt\": \"2021-01-29T10:54:03.788758Z\", \"duration\": \"0:01:03\", \"iteration\": \"17\", \"goal\": \"accuracy_max\", \"run_name\": \"StandardScalerWrapper, LightGBM\", \"run_properties\": \"<azureml.automl.runtime.shared.model_wrappers.StandardScalerWrapper object at 0x7fdfe6b91c18\", \"primary_metric\": 0.87895946, \"best_metric\": 0.88045423}, {\"run_id\": \"AutoML_4d4ae00d-b3c4-4fab-9d9b-ad149eaaaa3b_18\", \"run_number\": 23, \"metric\": null, \"status\": \"Completed\", \"run_type\": \"azureml.scriptrun\", \"training_percent\": \"100\", \"start_time\": \"2021-01-29T10:54:42.327515Z\", \"end_time\": \"2021-01-29T10:55:35.615352Z\", \"created_time\": \"2021-01-29T10:54:31.40299Z\", \"created_time_dt\": \"2021-01-29T10:54:31.40299Z\", \"duration\": \"0:01:04\", \"iteration\": \"18\", \"goal\": \"accuracy_max\", \"run_name\": \"StandardScalerWrapper, XGBoostClassifier\", \"run_properties\": \"<azureml.automl.runtime.shared.model_wrappers.StandardScalerWrapper object at 0x7f4f5336c550\", \"primary_metric\": 0.88015483, \"best_metric\": 0.88045423}, {\"run_id\": \"AutoML_4d4ae00d-b3c4-4fab-9d9b-ad149eaaaa3b_19\", \"run_number\": 24, \"metric\": null, \"status\": \"Completed\", \"run_type\": \"azureml.scriptrun\", \"training_percent\": \"100\", \"start_time\": \"2021-01-29T10:54:49.186055Z\", \"end_time\": \"2021-01-29T10:55:44.291238Z\", \"created_time\": \"2021-01-29T10:54:36.329952Z\", \"created_time_dt\": \"2021-01-29T10:54:36.329952Z\", \"duration\": \"0:01:07\", \"iteration\": \"19\", \"goal\": \"accuracy_max\", \"run_name\": \"MaxAbsScaler, LightGBM\", \"run_properties\": \"copy=True\", \"primary_metric\": 0.87895946, \"best_metric\": 0.88045423}, {\"run_id\": \"AutoML_4d4ae00d-b3c4-4fab-9d9b-ad149eaaaa3b_20\", \"run_number\": 25, \"metric\": null, \"status\": \"Completed\", \"run_type\": \"azureml.scriptrun\", \"training_percent\": \"100\", \"start_time\": \"2021-01-29T10:54:48.204297Z\", \"end_time\": \"2021-01-29T10:55:40.343493Z\", \"created_time\": \"2021-01-29T10:54:36.335615Z\", \"created_time_dt\": \"2021-01-29T10:54:36.335615Z\", \"duration\": \"0:01:04\", \"iteration\": \"20\", \"goal\": \"accuracy_max\", \"run_name\": \"StandardScalerWrapper, LightGBM\", \"run_properties\": \"<azureml.automl.runtime.shared.model_wrappers.StandardScalerWrapper object at 0x7f53129fff28\", \"primary_metric\": 0.87895946, \"best_metric\": 0.88045423}, {\"run_id\": \"AutoML_4d4ae00d-b3c4-4fab-9d9b-ad149eaaaa3b_21\", \"run_number\": 26, \"metric\": null, \"status\": \"Completed\", \"run_type\": \"azureml.scriptrun\", \"training_percent\": \"100\", \"start_time\": \"2021-01-29T10:54:51.603008Z\", \"end_time\": \"2021-01-29T10:55:42.31906Z\", \"created_time\": \"2021-01-29T10:54:40.752652Z\", \"created_time_dt\": \"2021-01-29T10:54:40.752652Z\", \"duration\": \"0:01:01\", \"iteration\": \"21\", \"goal\": \"accuracy_max\", \"run_name\": \"StandardScalerWrapper, LightGBM\", \"run_properties\": \"<azureml.automl.runtime.shared.model_wrappers.StandardScalerWrapper object at 0x7f95d16c4358\", \"primary_metric\": 0.87925842, \"best_metric\": 0.88045423}, {\"run_id\": \"AutoML_4d4ae00d-b3c4-4fab-9d9b-ad149eaaaa3b_22\", \"run_number\": 27, \"metric\": null, \"status\": \"Completed\", \"run_type\": \"azureml.scriptrun\", \"training_percent\": \"100\", \"start_time\": \"2021-01-29T10:55:20.318318Z\", \"end_time\": \"2021-01-29T10:56:16.380614Z\", \"created_time\": \"2021-01-29T10:55:09.613424Z\", \"created_time_dt\": \"2021-01-29T10:55:09.613424Z\", \"duration\": \"0:01:06\", \"iteration\": \"22\", \"goal\": \"accuracy_max\", \"run_name\": \"SparseNormalizer, LightGBM\", \"run_properties\": \"<azureml.automl.runtime.shared.model_wrappers.SparseNormalizer object at 0x7fce74bf85f8\", \"primary_metric\": 0.87895946, \"best_metric\": 0.88045423}, {\"run_id\": \"AutoML_4d4ae00d-b3c4-4fab-9d9b-ad149eaaaa3b_23\", \"run_number\": 28, \"metric\": null, \"status\": \"Completed\", \"run_type\": \"azureml.scriptrun\", \"training_percent\": \"100\", \"start_time\": \"2021-01-29T10:55:50.046845Z\", \"end_time\": \"2021-01-29T10:56:44.058587Z\", \"created_time\": \"2021-01-29T10:55:37.746963Z\", \"created_time_dt\": \"2021-01-29T10:55:37.746963Z\", \"duration\": \"0:01:06\", \"iteration\": \"23\", \"goal\": \"accuracy_max\", \"run_name\": \"StandardScalerWrapper, LightGBM\", \"run_properties\": \"<azureml.automl.runtime.shared.model_wrappers.StandardScalerWrapper object at 0x7f0aeac5bb70\", \"primary_metric\": 0.87895946, \"best_metric\": 0.88045423}, {\"run_id\": \"AutoML_4d4ae00d-b3c4-4fab-9d9b-ad149eaaaa3b_24\", \"run_number\": 29, \"metric\": null, \"status\": \"Completed\", \"run_type\": \"azureml.scriptrun\", \"training_percent\": \"100\", \"start_time\": \"2021-01-29T10:55:56.123886Z\", \"end_time\": \"2021-01-29T10:56:51.273222Z\", \"created_time\": \"2021-01-29T10:55:42.892223Z\", \"created_time_dt\": \"2021-01-29T10:55:42.892223Z\", \"duration\": \"0:01:08\", \"iteration\": \"24\", \"goal\": \"accuracy_max\", \"run_name\": \"MaxAbsScaler, ExtremeRandomTrees\", \"run_properties\": \"copy=True\", \"primary_metric\": 0.87895946, \"best_metric\": 0.88045423}, {\"run_id\": \"AutoML_4d4ae00d-b3c4-4fab-9d9b-ad149eaaaa3b_26\", \"run_number\": 30, \"metric\": null, \"status\": \"Completed\", \"run_type\": \"azureml.scriptrun\", \"training_percent\": \"100\", \"start_time\": \"2021-01-29T10:56:00.686687Z\", \"end_time\": \"2021-01-29T10:56:52.685626Z\", \"created_time\": \"2021-01-29T10:55:48.857188Z\", \"created_time_dt\": \"2021-01-29T10:55:48.857188Z\", \"duration\": \"0:01:03\", \"iteration\": \"26\", \"goal\": \"accuracy_max\", \"run_name\": \"StandardScalerWrapper, LightGBM\", \"run_properties\": \"<azureml.automl.runtime.shared.model_wrappers.StandardScalerWrapper object at 0x7f6d7c5f3278\", \"primary_metric\": 0.87895946, \"best_metric\": 0.88045423}, {\"run_id\": \"AutoML_4d4ae00d-b3c4-4fab-9d9b-ad149eaaaa3b_25\", \"run_number\": 31, \"metric\": null, \"status\": \"Completed\", \"run_type\": \"azureml.scriptrun\", \"training_percent\": \"100\", \"start_time\": \"2021-01-29T10:55:59.172193Z\", \"end_time\": \"2021-01-29T10:56:46.543327Z\", \"created_time\": \"2021-01-29T10:55:48.86424Z\", \"created_time_dt\": \"2021-01-29T10:55:48.86424Z\", \"duration\": \"0:00:57\", \"iteration\": \"25\", \"goal\": \"accuracy_max\", \"run_name\": \"TruncatedSVDWrapper, XGBoostClassifier\", \"run_properties\": \"n_components=0.01, random_state=None\", \"primary_metric\": 0.87895946, \"best_metric\": 0.88045423}, {\"run_id\": \"AutoML_4d4ae00d-b3c4-4fab-9d9b-ad149eaaaa3b_27\", \"run_number\": 32, \"metric\": null, \"status\": \"Completed\", \"run_type\": \"azureml.scriptrun\", \"training_percent\": \"100\", \"start_time\": \"2021-01-29T10:56:30.055019Z\", \"end_time\": \"2021-01-29T10:57:29.22998Z\", \"created_time\": \"2021-01-29T10:56:18.787015Z\", \"created_time_dt\": \"2021-01-29T10:56:18.787015Z\", \"duration\": \"0:01:10\", \"iteration\": \"27\", \"goal\": \"accuracy_max\", \"run_name\": \"SparseNormalizer, LightGBM\", \"run_properties\": \"<azureml.automl.runtime.shared.model_wrappers.SparseNormalizer object at 0x7f41b868b3c8\", \"primary_metric\": 0.87895946, \"best_metric\": 0.88045423}, {\"run_id\": \"AutoML_4d4ae00d-b3c4-4fab-9d9b-ad149eaaaa3b_28\", \"run_number\": 33, \"metric\": null, \"status\": \"Completed\", \"run_type\": \"azureml.scriptrun\", \"training_percent\": \"100\", \"start_time\": \"2021-01-29T10:56:59.516225Z\", \"end_time\": \"2021-01-29T10:57:48.99434Z\", \"created_time\": \"2021-01-29T10:56:46.733766Z\", \"created_time_dt\": \"2021-01-29T10:56:46.733766Z\", \"duration\": \"0:01:02\", \"iteration\": \"28\", \"goal\": \"accuracy_max\", \"run_name\": \"SparseNormalizer, LightGBM\", \"run_properties\": \"<azureml.automl.runtime.shared.model_wrappers.SparseNormalizer object at 0x7f0ce0b93080\", \"primary_metric\": 0.87895946, \"best_metric\": 0.88045423}, {\"run_id\": \"AutoML_4d4ae00d-b3c4-4fab-9d9b-ad149eaaaa3b_29\", \"run_number\": 34, \"metric\": null, \"status\": \"Completed\", \"run_type\": \"azureml.scriptrun\", \"training_percent\": \"100\", \"start_time\": \"2021-01-29T10:57:01.655614Z\", \"end_time\": \"2021-01-29T10:58:07.303059Z\", \"created_time\": \"2021-01-29T10:56:51.010156Z\", \"created_time_dt\": \"2021-01-29T10:56:51.010156Z\", \"duration\": \"0:01:16\", \"iteration\": \"29\", \"goal\": \"accuracy_max\", \"run_name\": \"StandardScalerWrapper, XGBoostClassifier\", \"run_properties\": \"<azureml.automl.runtime.shared.model_wrappers.StandardScalerWrapper object at 0x7f72001d5400\", \"primary_metric\": 0.86073311, \"best_metric\": 0.88045423}, {\"run_id\": \"AutoML_4d4ae00d-b3c4-4fab-9d9b-ad149eaaaa3b_30\", \"run_number\": 35, \"metric\": null, \"status\": \"Completed\", \"run_type\": \"azureml.scriptrun\", \"training_percent\": \"100\", \"start_time\": \"2021-01-29T10:57:09.087122Z\", \"end_time\": \"2021-01-29T10:58:13.149349Z\", \"created_time\": \"2021-01-29T10:56:56.263732Z\", \"created_time_dt\": \"2021-01-29T10:56:56.263732Z\", \"duration\": \"0:01:16\", \"iteration\": \"30\", \"goal\": \"accuracy_max\", \"run_name\": \"StandardScalerWrapper, XGBoostClassifier\", \"run_properties\": \"<azureml.automl.runtime.shared.model_wrappers.StandardScalerWrapper object at 0x7f7668b25978\", \"primary_metric\": 0.85565, \"best_metric\": 0.88045423}, {\"run_id\": \"AutoML_4d4ae00d-b3c4-4fab-9d9b-ad149eaaaa3b_31\", \"run_number\": 36, \"metric\": null, \"status\": \"Completed\", \"run_type\": \"azureml.scriptrun\", \"training_percent\": \"100\", \"start_time\": \"2021-01-29T10:57:08.298632Z\", \"end_time\": \"2021-01-29T10:57:59.391523Z\", \"created_time\": \"2021-01-29T10:56:56.269481Z\", \"created_time_dt\": \"2021-01-29T10:56:56.269481Z\", \"duration\": \"0:01:03\", \"iteration\": \"31\", \"goal\": \"accuracy_max\", \"run_name\": \"StandardScalerWrapper, XGBoostClassifier\", \"run_properties\": \"<azureml.automl.runtime.shared.model_wrappers.StandardScalerWrapper object at 0x7fd799e11cc0\", \"primary_metric\": 0.86820204, \"best_metric\": 0.88045423}, {\"run_id\": \"AutoML_4d4ae00d-b3c4-4fab-9d9b-ad149eaaaa3b_32\", \"run_number\": 37, \"metric\": null, \"status\": \"Completed\", \"run_type\": \"azureml.scriptrun\", \"training_percent\": \"100\", \"start_time\": \"2021-01-29T10:57:42.322598Z\", \"end_time\": \"2021-01-29T10:58:32.944407Z\", \"created_time\": \"2021-01-29T10:57:31.791181Z\", \"created_time_dt\": \"2021-01-29T10:57:31.791181Z\", \"duration\": \"0:01:01\", \"iteration\": \"32\", \"goal\": \"accuracy_max\", \"run_name\": \"StandardScalerWrapper, XGBoostClassifier\", \"run_properties\": \"<azureml.automl.runtime.shared.model_wrappers.StandardScalerWrapper object at 0x7f01fe39d470\", \"primary_metric\": 0.86909801, \"best_metric\": 0.88045423}, {\"run_id\": \"AutoML_4d4ae00d-b3c4-4fab-9d9b-ad149eaaaa3b_33\", \"run_number\": 38, \"metric\": null, \"status\": \"Completed\", \"run_type\": \"azureml.scriptrun\", \"training_percent\": \"100\", \"start_time\": \"2021-01-29T10:58:04.031426Z\", \"end_time\": \"2021-01-29T10:59:02.04589Z\", \"created_time\": \"2021-01-29T10:57:51.144106Z\", \"created_time_dt\": \"2021-01-29T10:57:51.144106Z\", \"duration\": \"0:01:10\", \"iteration\": \"33\", \"goal\": \"accuracy_max\", \"run_name\": \"StandardScalerWrapper, XGBoostClassifier\", \"run_properties\": \"<azureml.automl.runtime.shared.model_wrappers.StandardScalerWrapper object at 0x7f21e1d60b70\", \"primary_metric\": 0.8589376, \"best_metric\": 0.88045423}, {\"run_id\": \"AutoML_4d4ae00d-b3c4-4fab-9d9b-ad149eaaaa3b_34\", \"run_number\": 39, \"metric\": null, \"status\": \"Completed\", \"run_type\": \"azureml.scriptrun\", \"training_percent\": \"100\", \"start_time\": \"2021-01-29T10:58:12.931376Z\", \"end_time\": \"2021-01-29T10:59:09.305081Z\", \"created_time\": \"2021-01-29T10:58:01.888412Z\", \"created_time_dt\": \"2021-01-29T10:58:01.888412Z\", \"duration\": \"0:01:07\", \"iteration\": \"34\", \"goal\": \"accuracy_max\", \"run_name\": \"SparseNormalizer, LightGBM\", \"run_properties\": \"<azureml.automl.runtime.shared.model_wrappers.SparseNormalizer object at 0x7fa7fec10f98\", \"primary_metric\": 0.87895946, \"best_metric\": 0.88045423}, {\"run_id\": \"AutoML_4d4ae00d-b3c4-4fab-9d9b-ad149eaaaa3b_35\", \"run_number\": 40, \"metric\": null, \"status\": \"Completed\", \"run_type\": \"azureml.scriptrun\", \"training_percent\": \"100\", \"start_time\": \"2021-01-29T10:58:24.247431Z\", \"end_time\": \"2021-01-29T10:59:15.043913Z\", \"created_time\": \"2021-01-29T10:58:12.228584Z\", \"created_time_dt\": \"2021-01-29T10:58:12.228584Z\", \"duration\": \"0:01:02\", \"iteration\": \"35\", \"goal\": \"accuracy_max\", \"run_name\": \"SparseNormalizer, XGBoostClassifier\", \"run_properties\": \"<azureml.automl.runtime.shared.model_wrappers.SparseNormalizer object at 0x7f265292c240\", \"primary_metric\": 0.87895946, \"best_metric\": 0.88045423}, {\"run_id\": \"AutoML_4d4ae00d-b3c4-4fab-9d9b-ad149eaaaa3b_36\", \"run_number\": 41, \"metric\": null, \"status\": \"Completed\", \"run_type\": \"azureml.scriptrun\", \"training_percent\": \"100\", \"start_time\": \"2021-01-29T10:58:28.593466Z\", \"end_time\": \"2021-01-29T10:59:26.570078Z\", \"created_time\": \"2021-01-29T10:58:16.445846Z\", \"created_time_dt\": \"2021-01-29T10:58:16.445846Z\", \"duration\": \"0:01:10\", \"iteration\": \"36\", \"goal\": \"accuracy_max\", \"run_name\": \"MaxAbsScaler, ExtremeRandomTrees\", \"run_properties\": \"copy=True\", \"primary_metric\": 0.87895946, \"best_metric\": 0.88045423}, {\"run_id\": \"AutoML_4d4ae00d-b3c4-4fab-9d9b-ad149eaaaa3b_37\", \"run_number\": 42, \"metric\": null, \"status\": \"Completed\", \"run_type\": \"azureml.scriptrun\", \"training_percent\": \"100\", \"start_time\": \"2021-01-29T10:58:47.251476Z\", \"end_time\": \"2021-01-29T10:59:41.849158Z\", \"created_time\": \"2021-01-29T10:58:34.949261Z\", \"created_time_dt\": \"2021-01-29T10:58:34.949261Z\", \"duration\": \"0:01:06\", \"iteration\": \"37\", \"goal\": \"accuracy_max\", \"run_name\": \"StandardScalerWrapper, ExtremeRandomTrees\", \"run_properties\": \"<azureml.automl.runtime.shared.model_wrappers.StandardScalerWrapper object at 0x7efcad048780\", \"primary_metric\": 0.87895946, \"best_metric\": 0.88045423}, {\"run_id\": \"AutoML_4d4ae00d-b3c4-4fab-9d9b-ad149eaaaa3b_38\", \"run_number\": 43, \"metric\": null, \"status\": \"Completed\", \"run_type\": \"azureml.scriptrun\", \"training_percent\": \"100\", \"start_time\": \"2021-01-29T10:59:15.724513Z\", \"end_time\": \"2021-01-29T11:00:11.983697Z\", \"created_time\": \"2021-01-29T10:59:04.798028Z\", \"created_time_dt\": \"2021-01-29T10:59:04.798028Z\", \"duration\": \"0:01:07\", \"iteration\": \"38\", \"goal\": \"accuracy_max\", \"run_name\": \"StandardScalerWrapper, LightGBM\", \"run_properties\": \"<azureml.automl.runtime.shared.model_wrappers.StandardScalerWrapper object at 0x7fc3628a4198\", \"primary_metric\": 0.87895946, \"best_metric\": 0.88045423}, {\"run_id\": \"AutoML_4d4ae00d-b3c4-4fab-9d9b-ad149eaaaa3b_39\", \"run_number\": 44, \"metric\": null, \"status\": \"Completed\", \"run_type\": \"azureml.scriptrun\", \"training_percent\": \"100\", \"start_time\": \"2021-01-29T10:59:23.963538Z\", \"end_time\": \"2021-01-29T11:00:20.244834Z\", \"created_time\": \"2021-01-29T10:59:13.003729Z\", \"created_time_dt\": \"2021-01-29T10:59:13.003729Z\", \"duration\": \"0:01:07\", \"iteration\": \"39\", \"goal\": \"accuracy_max\", \"run_name\": \"SparseNormalizer, XGBoostClassifier\", \"run_properties\": \"<azureml.automl.runtime.shared.model_wrappers.SparseNormalizer object at 0x7fd9cf04e400\", \"primary_metric\": 0.88015528, \"best_metric\": 0.88045423}, {\"run_id\": \"AutoML_4d4ae00d-b3c4-4fab-9d9b-ad149eaaaa3b_40\", \"run_number\": 45, \"metric\": null, \"status\": \"Completed\", \"run_type\": \"azureml.scriptrun\", \"training_percent\": \"100\", \"start_time\": \"2021-01-29T10:59:30.338829Z\", \"end_time\": \"2021-01-29T11:00:26.17028Z\", \"created_time\": \"2021-01-29T10:59:18.375606Z\", \"created_time_dt\": \"2021-01-29T10:59:18.375606Z\", \"duration\": \"0:01:07\", \"iteration\": \"40\", \"goal\": \"accuracy_max\", \"run_name\": \"SparseNormalizer, XGBoostClassifier\", \"run_properties\": \"<azureml.automl.runtime.shared.model_wrappers.SparseNormalizer object at 0x7f3ad463ecf8\", \"primary_metric\": 0.87895946, \"best_metric\": 0.88045423}, {\"run_id\": \"AutoML_4d4ae00d-b3c4-4fab-9d9b-ad149eaaaa3b_41\", \"run_number\": 46, \"metric\": null, \"status\": \"Completed\", \"run_type\": \"azureml.scriptrun\", \"training_percent\": \"100\", \"start_time\": \"2021-01-29T10:59:41.922308Z\", \"end_time\": \"2021-01-29T11:00:35.093839Z\", \"created_time\": \"2021-01-29T10:59:28.538812Z\", \"created_time_dt\": \"2021-01-29T10:59:28.538812Z\", \"duration\": \"0:01:06\", \"iteration\": \"41\", \"goal\": \"accuracy_max\", \"run_name\": \"SparseNormalizer, LightGBM\", \"run_properties\": \"<azureml.automl.runtime.shared.model_wrappers.SparseNormalizer object at 0x7f7154baccc0\", \"primary_metric\": 0.87895946, \"best_metric\": 0.88045423}, {\"run_id\": \"AutoML_4d4ae00d-b3c4-4fab-9d9b-ad149eaaaa3b_42\", \"run_number\": 47, \"metric\": null, \"status\": \"Completed\", \"run_type\": \"azureml.scriptrun\", \"training_percent\": \"100\", \"start_time\": \"2021-01-29T10:59:56.08805Z\", \"end_time\": \"2021-01-29T11:00:55.702625Z\", \"created_time\": \"2021-01-29T10:59:44.040824Z\", \"created_time_dt\": \"2021-01-29T10:59:44.040824Z\", \"duration\": \"0:01:11\", \"iteration\": \"42\", \"goal\": \"accuracy_max\", \"run_name\": \"SparseNormalizer, LightGBM\", \"run_properties\": \"<azureml.automl.runtime.shared.model_wrappers.SparseNormalizer object at 0x7fb4665fef98\", \"primary_metric\": 0.87895946, \"best_metric\": 0.88045423}, {\"run_id\": \"AutoML_4d4ae00d-b3c4-4fab-9d9b-ad149eaaaa3b_43\", \"run_number\": 48, \"metric\": null, \"status\": \"Completed\", \"run_type\": \"azureml.scriptrun\", \"training_percent\": \"100\", \"start_time\": \"2021-01-29T11:00:27.09197Z\", \"end_time\": \"2021-01-29T11:01:13.142451Z\", \"created_time\": \"2021-01-29T11:00:14.76488Z\", \"created_time_dt\": \"2021-01-29T11:00:14.76488Z\", \"duration\": \"0:00:58\", \"iteration\": \"43\", \"goal\": \"accuracy_max\", \"run_name\": \"SparseNormalizer, XGBoostClassifier\", \"run_properties\": \"<azureml.automl.runtime.shared.model_wrappers.SparseNormalizer object at 0x7fb157151eb8\", \"primary_metric\": 0.87925842, \"best_metric\": 0.88045423}, {\"run_id\": \"AutoML_4d4ae00d-b3c4-4fab-9d9b-ad149eaaaa3b_44\", \"run_number\": 49, \"metric\": null, \"status\": \"Completed\", \"run_type\": \"azureml.scriptrun\", \"training_percent\": \"100\", \"start_time\": \"2021-01-29T11:00:34.711977Z\", \"end_time\": \"2021-01-29T11:01:30.484246Z\", \"created_time\": \"2021-01-29T11:00:22.414847Z\", \"created_time_dt\": \"2021-01-29T11:00:22.414847Z\", \"duration\": \"0:01:08\", \"iteration\": \"44\", \"goal\": \"accuracy_max\", \"run_name\": \"StandardScalerWrapper, LightGBM\", \"run_properties\": \"<azureml.automl.runtime.shared.model_wrappers.StandardScalerWrapper object at 0x7f91b347c588\", \"primary_metric\": 0.87895946, \"best_metric\": 0.88045423}, {\"run_id\": \"AutoML_4d4ae00d-b3c4-4fab-9d9b-ad149eaaaa3b_45\", \"run_number\": 50, \"metric\": null, \"status\": \"Completed\", \"run_type\": \"azureml.scriptrun\", \"training_percent\": \"100\", \"start_time\": \"2021-01-29T11:00:41.110599Z\", \"end_time\": \"2021-01-29T11:01:36.263447Z\", \"created_time\": \"2021-01-29T11:00:29.383785Z\", \"created_time_dt\": \"2021-01-29T11:00:29.383785Z\", \"duration\": \"0:01:06\", \"iteration\": \"45\", \"goal\": \"accuracy_max\", \"run_name\": \"TruncatedSVDWrapper, XGBoostClassifier\", \"run_properties\": \"n_components=0.20789473684210527, random_state=None\", \"primary_metric\": 0.87895946, \"best_metric\": 0.88045423}, {\"run_id\": \"AutoML_4d4ae00d-b3c4-4fab-9d9b-ad149eaaaa3b_46\", \"run_number\": 51, \"metric\": null, \"status\": \"Completed\", \"run_type\": \"azureml.scriptrun\", \"training_percent\": \"100\", \"start_time\": \"2021-01-29T11:00:50.81308Z\", \"end_time\": \"2021-01-29T11:01:47.541869Z\", \"created_time\": \"2021-01-29T11:00:39.534194Z\", \"created_time_dt\": \"2021-01-29T11:00:39.534194Z\", \"duration\": \"0:01:08\", \"iteration\": \"46\", \"goal\": \"accuracy_max\", \"run_name\": \"StandardScalerWrapper, XGBoostClassifier\", \"run_properties\": \"<azureml.automl.runtime.shared.model_wrappers.StandardScalerWrapper object at 0x7f3402caceb8\", \"primary_metric\": 0.85744372, \"best_metric\": 0.88045423}, {\"run_id\": \"AutoML_4d4ae00d-b3c4-4fab-9d9b-ad149eaaaa3b_47\", \"run_number\": 52, \"metric\": null, \"status\": \"Completed\", \"run_type\": \"azureml.scriptrun\", \"training_percent\": \"100\", \"start_time\": \"2021-01-29T11:01:10.210224Z\", \"end_time\": \"2021-01-29T11:02:05.783612Z\", \"created_time\": \"2021-01-29T11:00:57.914107Z\", \"created_time_dt\": \"2021-01-29T11:00:57.914107Z\", \"duration\": \"0:01:07\", \"iteration\": \"47\", \"goal\": \"accuracy_max\", \"run_name\": \"MaxAbsScaler, LightGBM\", \"run_properties\": \"copy=True\", \"primary_metric\": 0.87895946, \"best_metric\": 0.88045423}, {\"run_id\": \"AutoML_4d4ae00d-b3c4-4fab-9d9b-ad149eaaaa3b_48\", \"run_number\": 53, \"metric\": null, \"status\": \"Completed\", \"run_type\": \"azureml.scriptrun\", \"training_percent\": \"100\", \"start_time\": \"2021-01-29T11:01:28.38052Z\", \"end_time\": \"2021-01-29T11:02:23.790765Z\", \"created_time\": \"2021-01-29T11:01:16.031585Z\", \"created_time_dt\": \"2021-01-29T11:01:16.031585Z\", \"duration\": \"0:01:07\", \"iteration\": \"48\", \"goal\": \"accuracy_max\", \"run_name\": \"StandardScalerWrapper, RandomForest\", \"run_properties\": \"<azureml.automl.runtime.shared.model_wrappers.StandardScalerWrapper object at 0x7fa3d092d5c0\", \"primary_metric\": 0.87895946, \"best_metric\": 0.88045423}, {\"run_id\": \"AutoML_4d4ae00d-b3c4-4fab-9d9b-ad149eaaaa3b_49\", \"run_number\": 54, \"metric\": null, \"status\": \"Completed\", \"run_type\": \"azureml.scriptrun\", \"training_percent\": \"100\", \"start_time\": \"2021-01-29T11:01:44.807565Z\", \"end_time\": \"2021-01-29T11:02:30.525081Z\", \"created_time\": \"2021-01-29T11:01:32.622193Z\", \"created_time_dt\": \"2021-01-29T11:01:32.622193Z\", \"duration\": \"0:00:57\", \"iteration\": \"49\", \"goal\": \"accuracy_max\", \"run_name\": \"MaxAbsScaler, LightGBM\", \"run_properties\": \"copy=True\", \"primary_metric\": 0.87895946, \"best_metric\": 0.88045423}, {\"run_id\": \"AutoML_4d4ae00d-b3c4-4fab-9d9b-ad149eaaaa3b_50\", \"run_number\": 55, \"metric\": null, \"status\": \"Completed\", \"run_type\": \"azureml.scriptrun\", \"training_percent\": \"100\", \"start_time\": \"2021-01-29T11:01:51.782128Z\", \"end_time\": \"2021-01-29T11:02:45.998233Z\", \"created_time\": \"2021-01-29T11:01:39.59443Z\", \"created_time_dt\": \"2021-01-29T11:01:39.59443Z\", \"duration\": \"0:01:06\", \"iteration\": \"50\", \"goal\": \"accuracy_max\", \"run_name\": \"TruncatedSVDWrapper, XGBoostClassifier\", \"run_properties\": \"n_components=0.01, random_state=None\", \"primary_metric\": 0.87895946, \"best_metric\": 0.88045423}, {\"run_id\": \"AutoML_4d4ae00d-b3c4-4fab-9d9b-ad149eaaaa3b_51\", \"run_number\": 56, \"metric\": null, \"status\": \"Completed\", \"run_type\": \"azureml.scriptrun\", \"training_percent\": \"100\", \"start_time\": \"2021-01-29T11:02:03.388442Z\", \"end_time\": \"2021-01-29T11:02:52.034657Z\", \"created_time\": \"2021-01-29T11:01:49.936889Z\", \"created_time_dt\": \"2021-01-29T11:01:49.936889Z\", \"duration\": \"0:01:02\", \"iteration\": \"51\", \"goal\": \"accuracy_max\", \"run_name\": \"SparseNormalizer, LightGBM\", \"run_properties\": \"<azureml.automl.runtime.shared.model_wrappers.SparseNormalizer object at 0x7f8231a5c4e0\", \"primary_metric\": 0.87895946, \"best_metric\": 0.88045423}, {\"run_id\": \"AutoML_4d4ae00d-b3c4-4fab-9d9b-ad149eaaaa3b_52\", \"run_number\": 57, \"metric\": null, \"status\": \"Completed\", \"run_type\": \"azureml.scriptrun\", \"training_percent\": \"100\", \"start_time\": \"2021-01-29T11:02:21.440329Z\", \"end_time\": \"2021-01-29T11:03:07.27426Z\", \"created_time\": \"2021-01-29T11:02:08.182207Z\", \"created_time_dt\": \"2021-01-29T11:02:08.182207Z\", \"duration\": \"0:00:59\", \"iteration\": \"52\", \"goal\": \"accuracy_max\", \"run_name\": \"SparseNormalizer, LightGBM\", \"run_properties\": \"<azureml.automl.runtime.shared.model_wrappers.SparseNormalizer object at 0x7f6d49f61550\", \"primary_metric\": 0.87895946, \"best_metric\": 0.88045423}, {\"run_id\": \"AutoML_4d4ae00d-b3c4-4fab-9d9b-ad149eaaaa3b_53\", \"run_number\": 58, \"metric\": null, \"status\": \"Completed\", \"run_type\": \"azureml.scriptrun\", \"training_percent\": \"100\", \"start_time\": \"2021-01-29T11:02:37.901392Z\", \"end_time\": \"2021-01-29T11:03:29.562305Z\", \"created_time\": \"2021-01-29T11:02:25.893875Z\", \"created_time_dt\": \"2021-01-29T11:02:25.893875Z\", \"duration\": \"0:01:03\", \"iteration\": \"53\", \"goal\": \"accuracy_max\", \"run_name\": \"StandardScalerWrapper, LightGBM\", \"run_properties\": \"<azureml.automl.runtime.shared.model_wrappers.StandardScalerWrapper object at 0x7fa654a9ee10\", \"primary_metric\": 0.87895946, \"best_metric\": 0.88045423}, {\"run_id\": \"AutoML_4d4ae00d-b3c4-4fab-9d9b-ad149eaaaa3b_54\", \"run_number\": 59, \"metric\": null, \"status\": \"Completed\", \"run_type\": \"azureml.scriptrun\", \"training_percent\": \"100\", \"start_time\": \"2021-01-29T11:02:44.67342Z\", \"end_time\": \"2021-01-29T11:04:05.411638Z\", \"created_time\": \"2021-01-29T11:02:32.597371Z\", \"created_time_dt\": \"2021-01-29T11:02:32.597371Z\", \"duration\": \"0:01:32\", \"iteration\": \"54\", \"goal\": \"accuracy_max\", \"run_name\": \"SparseNormalizer, XGBoostClassifier\", \"run_properties\": \"<azureml.automl.runtime.shared.model_wrappers.SparseNormalizer object at 0x7fcffe64b7b8\", \"primary_metric\": 0.87925842, \"best_metric\": 0.88045423}, {\"run_id\": \"AutoML_4d4ae00d-b3c4-4fab-9d9b-ad149eaaaa3b_55\", \"run_number\": 60, \"metric\": null, \"status\": \"Completed\", \"run_type\": \"azureml.scriptrun\", \"training_percent\": \"100\", \"start_time\": \"2021-01-29T11:03:04.775821Z\", \"end_time\": \"2021-01-29T11:03:53.845487Z\", \"created_time\": \"2021-01-29T11:02:50.326551Z\", \"created_time_dt\": \"2021-01-29T11:02:50.326551Z\", \"duration\": \"0:01:03\", \"iteration\": \"55\", \"goal\": \"accuracy_max\", \"run_name\": \"SparseNormalizer, XGBoostClassifier\", \"run_properties\": \"<azureml.automl.runtime.shared.model_wrappers.SparseNormalizer object at 0x7fad31f85320\", \"primary_metric\": 0.87895946, \"best_metric\": 0.88045423}, {\"run_id\": \"AutoML_4d4ae00d-b3c4-4fab-9d9b-ad149eaaaa3b_56\", \"run_number\": 61, \"metric\": null, \"status\": \"Completed\", \"run_type\": \"azureml.scriptrun\", \"training_percent\": \"100\", \"start_time\": \"2021-01-29T11:03:09.069983Z\", \"end_time\": \"2021-01-29T11:03:57.960156Z\", \"created_time\": \"2021-01-29T11:02:56.565144Z\", \"created_time_dt\": \"2021-01-29T11:02:56.565144Z\", \"duration\": \"0:01:01\", \"iteration\": \"56\", \"goal\": \"accuracy_max\", \"run_name\": \"StandardScalerWrapper, LightGBM\", \"run_properties\": \"<azureml.automl.runtime.shared.model_wrappers.StandardScalerWrapper object at 0x7fc3f28c5940\", \"primary_metric\": 0.87895946, \"best_metric\": 0.88045423}, {\"run_id\": \"AutoML_4d4ae00d-b3c4-4fab-9d9b-ad149eaaaa3b_57\", \"run_number\": 62, \"metric\": null, \"status\": \"Completed\", \"run_type\": \"azureml.scriptrun\", \"training_percent\": \"100\", \"start_time\": \"2021-01-29T11:03:21.255968Z\", \"end_time\": \"2021-01-29T11:04:18.860036Z\", \"created_time\": \"2021-01-29T11:03:09.334708Z\", \"created_time_dt\": \"2021-01-29T11:03:09.334708Z\", \"duration\": \"0:01:09\", \"iteration\": \"57\", \"goal\": \"accuracy_max\", \"run_name\": \"StandardScalerWrapper, LightGBM\", \"run_properties\": \"<azureml.automl.runtime.shared.model_wrappers.StandardScalerWrapper object at 0x7fc1340f9cc0\", \"primary_metric\": 0.87895946, \"best_metric\": 0.88045423}, {\"run_id\": \"AutoML_4d4ae00d-b3c4-4fab-9d9b-ad149eaaaa3b_58\", \"run_number\": 63, \"metric\": null, \"status\": \"Canceled\", \"run_type\": \"azureml.scriptrun\", \"training_percent\": \"100\", \"start_time\": \"2021-01-29T11:03:44.234902Z\", \"end_time\": \"2021-01-29T11:04:26.926551Z\", \"created_time\": \"2021-01-29T11:03:31.681271Z\", \"created_time_dt\": \"2021-01-29T11:03:31.681271Z\", \"duration\": \"0:00:55\", \"iteration\": \"58\", \"goal\": \"accuracy_max\", \"run_name\": \"SparseNormalizer, LightGBM\", \"run_properties\": \"<azureml.automl.runtime.shared.model_wrappers.SparseNormalizer object at 0x7fb71807be48\", \"primary_metric\": 0.87895946, \"best_metric\": 0.88045423}, {\"run_id\": \"AutoML_4d4ae00d-b3c4-4fab-9d9b-ad149eaaaa3b_59\", \"run_number\": 64, \"metric\": null, \"status\": \"Canceled\", \"run_type\": \"azureml.scriptrun\", \"training_percent\": \"100\", \"start_time\": \"2021-01-29T11:04:08.27618Z\", \"end_time\": \"2021-01-29T11:04:27.57914Z\", \"created_time\": \"2021-01-29T11:03:56.568392Z\", \"created_time_dt\": \"2021-01-29T11:03:56.568392Z\", \"duration\": \"0:00:31\", \"iteration\": \"59\", \"goal\": null, \"run_name\": \"Canceled\", \"run_properties\": null}, {\"run_id\": \"AutoML_4d4ae00d-b3c4-4fab-9d9b-ad149eaaaa3b_60\", \"run_number\": 65, \"metric\": null, \"status\": \"Canceled\", \"run_type\": \"azureml.scriptrun\", \"training_percent\": \"100\", \"start_time\": \"2021-01-29T11:04:13.340698Z\", \"end_time\": \"2021-01-29T11:04:27.86053Z\", \"created_time\": \"2021-01-29T11:04:01.509881Z\", \"created_time_dt\": \"2021-01-29T11:04:01.509881Z\", \"duration\": \"0:00:26\", \"iteration\": \"60\", \"goal\": null, \"run_name\": \"Canceled\", \"run_properties\": null}, {\"run_id\": \"AutoML_4d4ae00d-b3c4-4fab-9d9b-ad149eaaaa3b_61\", \"run_number\": 66, \"metric\": null, \"status\": \"Canceled\", \"run_type\": \"azureml.scriptrun\", \"training_percent\": \"100\", \"start_time\": \"2021-01-29T11:04:19.634559Z\", \"end_time\": \"2021-01-29T11:04:27.387684Z\", \"created_time\": \"2021-01-29T11:04:07.61025Z\", \"created_time_dt\": \"2021-01-29T11:04:07.61025Z\", \"duration\": \"0:00:19\", \"iteration\": \"61\", \"goal\": null, \"run_name\": \"Canceled\", \"run_properties\": null}, {\"run_id\": \"AutoML_4d4ae00d-b3c4-4fab-9d9b-ad149eaaaa3b_63\", \"run_number\": 67, \"metric\": null, \"status\": \"Completed\", \"run_type\": \"azureml.scriptrun\", \"training_percent\": \"100\", \"start_time\": \"2021-01-29T11:04:41.802284Z\", \"end_time\": \"2021-01-29T11:06:27.918466Z\", \"created_time\": \"2021-01-29T11:04:30.0408Z\", \"created_time_dt\": \"2021-01-29T11:04:30.0408Z\", \"duration\": \"0:01:57\", \"iteration\": \"63\", \"goal\": \"accuracy_max\", \"run_name\": \"StackEnsemble\", \"run_properties\": \"base_learners=[('8',\\n                                        Pipeline(memory=None,\\n                                                 steps=[('sparsenormalizer',\\n                                                         <azureml.automl.runtime.shared.model_wrappers.SparseNormalizer object at 0x7f17d057ac50>\", \"primary_metric\": 0.87985543, \"best_metric\": 0.88224661}, {\"run_id\": \"AutoML_4d4ae00d-b3c4-4fab-9d9b-ad149eaaaa3b_62\", \"run_number\": 68, \"metric\": null, \"status\": \"Completed\", \"run_type\": \"azureml.scriptrun\", \"training_percent\": \"100\", \"start_time\": \"2021-01-29T11:04:45.120836Z\", \"end_time\": \"2021-01-29T11:06:35.332416Z\", \"created_time\": \"2021-01-29T11:04:30.040114Z\", \"created_time_dt\": \"2021-01-29T11:04:30.040114Z\", \"duration\": \"0:02:05\", \"iteration\": \"62\", \"goal\": \"accuracy_max\", \"run_name\": \"VotingEnsemble\", \"run_properties\": \"classification_labels=None,\\n                              estimators=[('8',\\n                                           Pipeline(memory=None,\\n                                                    steps=[('sparsenormalizer',\\n                                                            <azureml.automl.runtime.shared.model_wrappers.SparseNormalizer object at 0x7fac283ce4a8>\", \"primary_metric\": 0.88224661, \"best_metric\": 0.88224661}], \"children_metrics\": {\"categories\": [0], \"series\": {\"f1_score_micro\": [{\"categories\": [\"0\", \"1\", \"2\", \"3\", \"4\", \"5\", \"6\", \"7\", \"8\", \"9\", \"10\", \"11\", \"12\", \"13\", \"14\", \"15\", \"16\", \"17\", \"18\", \"19\", \"20\", \"21\", \"22\", \"23\", \"24\", \"25\", \"26\", \"27\", \"28\", \"29\", \"30\", \"31\", \"32\", \"33\", \"34\", \"35\", \"36\", \"37\", \"38\", \"39\", \"40\", \"41\", \"42\", \"43\", \"44\", \"45\", \"46\", \"47\", \"48\", \"49\", \"50\", \"51\", \"52\", \"53\", \"54\", \"55\", \"56\", \"57\", \"58\", \"62\", \"63\"], \"mode\": \"markers\", \"name\": \"f1_score_micro\", \"stepped\": false, \"type\": \"scatter\", \"data\": [0.8723860518037615, 0.8798549851638668, 0.878959462775807, 0.878959462775807, 0.6616960042835152, 0.6315110545925083, 0.8774646944648954, 0.6572009905628806, 0.8804542310867189, 0.878959462775807, 0.878959462775807, 0.878959462775807, 0.8780626017892599, 0.878959462775807, 0.878959462775807, 0.878959462775807, 0.878959462775807, 0.878959462775807, 0.8801548312250407, 0.878959462775807, 0.878959462775807, 0.8792584164379894, 0.878959462775807, 0.878959462775807, 0.878959462775807, 0.878959462775807, 0.878959462775807, 0.878959462775807, 0.878959462775807, 0.8607331057715906, 0.8556500011154988, 0.8682020391316959, 0.8690980077192514, 0.858937599000513, 0.878959462775807, 0.878959462775807, 0.878959462775807, 0.878959462775807, 0.878959462775807, 0.8801552774245364, 0.878959462775807, 0.878959462775807, 0.878959462775807, 0.8792584164379894, 0.878959462775807, 0.878959462775807, 0.8574437230885931, 0.878959462775807, 0.878959462775807, 0.878959462775807, 0.878959462775807, 0.878959462775807, 0.878959462775807, 0.878959462775807, 0.8792584164379894, 0.878959462775807, 0.878959462775807, 0.878959462775807, 0.878959462775807, 0.8822466144613257, 0.8798554313633626]}, {\"categories\": [\"0\", \"1\", \"2\", \"3\", \"4\", \"5\", \"6\", \"7\", \"8\", \"9\", \"10\", \"11\", \"12\", \"13\", \"14\", \"15\", \"16\", \"17\", \"18\", \"19\", \"20\", \"21\", \"22\", \"23\", \"24\", \"25\", \"26\", \"27\", \"28\", \"29\", \"30\", \"31\", \"32\", \"33\", \"34\", \"35\", \"36\", \"37\", \"38\", \"39\", \"40\", \"41\", \"42\", \"43\", \"44\", \"45\", \"46\", \"47\", \"48\", \"49\", \"50\", \"51\", \"52\", \"53\", \"54\", \"55\", \"56\", \"57\", \"58\", \"62\", \"63\"], \"mode\": \"lines\", \"name\": \"f1_score_micro_max\", \"stepped\": true, \"type\": \"scatter\", \"data\": [0.8723860518037615, 0.8798549851638668, 0.8798549851638668, 0.8798549851638668, 0.8798549851638668, 0.8798549851638668, 0.8798549851638668, 0.8798549851638668, 0.8804542310867189, 0.8804542310867189, 0.8804542310867189, 0.8804542310867189, 0.8804542310867189, 0.8804542310867189, 0.8804542310867189, 0.8804542310867189, 0.8804542310867189, 0.8804542310867189, 0.8804542310867189, 0.8804542310867189, 0.8804542310867189, 0.8804542310867189, 0.8804542310867189, 0.8804542310867189, 0.8804542310867189, 0.8804542310867189, 0.8804542310867189, 0.8804542310867189, 0.8804542310867189, 0.8804542310867189, 0.8804542310867189, 0.8804542310867189, 0.8804542310867189, 0.8804542310867189, 0.8804542310867189, 0.8804542310867189, 0.8804542310867189, 0.8804542310867189, 0.8804542310867189, 0.8804542310867189, 0.8804542310867189, 0.8804542310867189, 0.8804542310867189, 0.8804542310867189, 0.8804542310867189, 0.8804542310867189, 0.8804542310867189, 0.8804542310867189, 0.8804542310867189, 0.8804542310867189, 0.8804542310867189, 0.8804542310867189, 0.8804542310867189, 0.8804542310867189, 0.8804542310867189, 0.8804542310867189, 0.8804542310867189, 0.8804542310867189, 0.8804542310867189, 0.8822466144613257, 0.8822466144613257]}], \"accuracy\": [{\"categories\": [\"0\", \"1\", \"2\", \"3\", \"4\", \"5\", \"6\", \"7\", \"8\", \"9\", \"10\", \"11\", \"12\", \"13\", \"14\", \"15\", \"16\", \"17\", \"18\", \"19\", \"20\", \"21\", \"22\", \"23\", \"24\", \"25\", \"26\", \"27\", \"28\", \"29\", \"30\", \"31\", \"32\", \"33\", \"34\", \"35\", \"36\", \"37\", \"38\", \"39\", \"40\", \"41\", \"42\", \"43\", \"44\", \"45\", \"46\", \"47\", \"48\", \"49\", \"50\", \"51\", \"52\", \"53\", \"54\", \"55\", \"56\", \"57\", \"58\", \"62\", \"63\"], \"mode\": \"markers\", \"name\": \"accuracy\", \"stepped\": false, \"type\": \"scatter\", \"data\": [0.8723860518037615, 0.8798549851638668, 0.878959462775807, 0.878959462775807, 0.6616960042835152, 0.6315110545925083, 0.8774646944648954, 0.6572009905628806, 0.8804542310867187, 0.878959462775807, 0.878959462775807, 0.878959462775807, 0.8780626017892599, 0.878959462775807, 0.878959462775807, 0.878959462775807, 0.878959462775807, 0.878959462775807, 0.8801548312250407, 0.878959462775807, 0.878959462775807, 0.8792584164379894, 0.878959462775807, 0.878959462775807, 0.878959462775807, 0.878959462775807, 0.878959462775807, 0.878959462775807, 0.878959462775807, 0.8607331057715906, 0.8556500011154988, 0.8682020391316957, 0.8690980077192514, 0.858937599000513, 0.878959462775807, 0.878959462775807, 0.878959462775807, 0.878959462775807, 0.878959462775807, 0.8801552774245364, 0.878959462775807, 0.878959462775807, 0.878959462775807, 0.8792584164379894, 0.878959462775807, 0.878959462775807, 0.8574437230885931, 0.878959462775807, 0.878959462775807, 0.878959462775807, 0.878959462775807, 0.878959462775807, 0.878959462775807, 0.878959462775807, 0.8792584164379894, 0.878959462775807, 0.878959462775807, 0.878959462775807, 0.878959462775807, 0.8822466144613257, 0.8798554313633626]}, {\"categories\": [\"0\", \"1\", \"2\", \"3\", \"4\", \"5\", \"6\", \"7\", \"8\", \"9\", \"10\", \"11\", \"12\", \"13\", \"14\", \"15\", \"16\", \"17\", \"18\", \"19\", \"20\", \"21\", \"22\", \"23\", \"24\", \"25\", \"26\", \"27\", \"28\", \"29\", \"30\", \"31\", \"32\", \"33\", \"34\", \"35\", \"36\", \"37\", \"38\", \"39\", \"40\", \"41\", \"42\", \"43\", \"44\", \"45\", \"46\", \"47\", \"48\", \"49\", \"50\", \"51\", \"52\", \"53\", \"54\", \"55\", \"56\", \"57\", \"58\", \"62\", \"63\"], \"mode\": \"lines\", \"name\": \"accuracy_max\", \"stepped\": true, \"type\": \"scatter\", \"data\": [0.8723860518037615, 0.8798549851638668, 0.8798549851638668, 0.8798549851638668, 0.8798549851638668, 0.8798549851638668, 0.8798549851638668, 0.8798549851638668, 0.8804542310867187, 0.8804542310867187, 0.8804542310867187, 0.8804542310867187, 0.8804542310867187, 0.8804542310867187, 0.8804542310867187, 0.8804542310867187, 0.8804542310867187, 0.8804542310867187, 0.8804542310867187, 0.8804542310867187, 0.8804542310867187, 0.8804542310867187, 0.8804542310867187, 0.8804542310867187, 0.8804542310867187, 0.8804542310867187, 0.8804542310867187, 0.8804542310867187, 0.8804542310867187, 0.8804542310867187, 0.8804542310867187, 0.8804542310867187, 0.8804542310867187, 0.8804542310867187, 0.8804542310867187, 0.8804542310867187, 0.8804542310867187, 0.8804542310867187, 0.8804542310867187, 0.8804542310867187, 0.8804542310867187, 0.8804542310867187, 0.8804542310867187, 0.8804542310867187, 0.8804542310867187, 0.8804542310867187, 0.8804542310867187, 0.8804542310867187, 0.8804542310867187, 0.8804542310867187, 0.8804542310867187, 0.8804542310867187, 0.8804542310867187, 0.8804542310867187, 0.8804542310867187, 0.8804542310867187, 0.8804542310867187, 0.8804542310867187, 0.8804542310867187, 0.8822466144613257, 0.8822466144613257]}], \"log_loss\": [{\"categories\": [\"0\", \"1\", \"2\", \"3\", \"4\", \"5\", \"6\", \"7\", \"8\", \"9\", \"10\", \"11\", \"12\", \"13\", \"14\", \"15\", \"16\", \"17\", \"18\", \"19\", \"20\", \"21\", \"22\", \"23\", \"24\", \"25\", \"26\", \"27\", \"28\", \"29\", \"30\", \"31\", \"32\", \"33\", \"34\", \"35\", \"36\", \"37\", \"38\", \"39\", \"40\", \"41\", \"42\", \"43\", \"44\", \"45\", \"46\", \"47\", \"48\", \"49\", \"50\", \"51\", \"52\", \"53\", \"54\", \"55\", \"56\", \"57\", \"58\", \"62\", \"63\"], \"mode\": \"markers\", \"name\": \"log_loss\", \"stepped\": false, \"type\": \"scatter\", \"data\": [0.4128544260681367, 0.3581560383870387, 0.3594110450688397, 0.362023653087204, 0.6176183813993046, 0.6505973877577474, 0.36771371548993875, 0.6692707173911875, 0.3695518602990576, 0.35757169314511, 0.3585776514599269, 0.35957904773677984, 0.3619255203771786, 0.36237428856413667, 0.3609146165049539, 0.3600002617145662, 0.35895357265912253, 0.36090161657721054, 0.4184875758320465, 0.3622852477262996, 0.3589271986673549, 0.36242572878320495, 0.36120914214398236, 0.35978936262359507, 0.3581329463781747, 0.4246570201132589, 0.36011871077041324, 0.3595082541618444, 0.3650087622026475, 0.4708884533954604, 0.5146765623368086, 0.4046863586027036, 0.4094825109138158, 0.5024094745366151, 0.3627027277858854, 0.36907150272375905, 0.35862959997422317, 0.3587476119171343, 0.3614220140874923, 0.36456131899637373, 0.372382200535751, 0.35991915701364324, 0.3602989811242744, 0.36290887608792816, 0.3625201211522671, 0.3690440791387606, 0.4723513112241953, 0.357025188851106, 0.3576967949749187, 0.35741980713908933, 0.3689523390146552, 0.3610420363663427, 0.36202290985502394, 0.3582792497317019, 0.4211341175239113, 0.3690386289310361, 0.3586493911870906, 0.3584164260147748, 0.365110810199965, 0.36128769225985524, 0.3567342632718104]}, {\"categories\": [\"0\", \"1\", \"2\", \"3\", \"4\", \"5\", \"6\", \"7\", \"8\", \"9\", \"10\", \"11\", \"12\", \"13\", \"14\", \"15\", \"16\", \"17\", \"18\", \"19\", \"20\", \"21\", \"22\", \"23\", \"24\", \"25\", \"26\", \"27\", \"28\", \"29\", \"30\", \"31\", \"32\", \"33\", \"34\", \"35\", \"36\", \"37\", \"38\", \"39\", \"40\", \"41\", \"42\", \"43\", \"44\", \"45\", \"46\", \"47\", \"48\", \"49\", \"50\", \"51\", \"52\", \"53\", \"54\", \"55\", \"56\", \"57\", \"58\", \"62\", \"63\"], \"mode\": \"lines\", \"name\": \"log_loss_min\", \"stepped\": true, \"type\": \"scatter\", \"data\": [0.4128544260681367, 0.3581560383870387, 0.3581560383870387, 0.3581560383870387, 0.3581560383870387, 0.3581560383870387, 0.3581560383870387, 0.3581560383870387, 0.3581560383870387, 0.35757169314511, 0.35757169314511, 0.35757169314511, 0.35757169314511, 0.35757169314511, 0.35757169314511, 0.35757169314511, 0.35757169314511, 0.35757169314511, 0.35757169314511, 0.35757169314511, 0.35757169314511, 0.35757169314511, 0.35757169314511, 0.35757169314511, 0.35757169314511, 0.35757169314511, 0.35757169314511, 0.35757169314511, 0.35757169314511, 0.35757169314511, 0.35757169314511, 0.35757169314511, 0.35757169314511, 0.35757169314511, 0.35757169314511, 0.35757169314511, 0.35757169314511, 0.35757169314511, 0.35757169314511, 0.35757169314511, 0.35757169314511, 0.35757169314511, 0.35757169314511, 0.35757169314511, 0.35757169314511, 0.35757169314511, 0.35757169314511, 0.357025188851106, 0.357025188851106, 0.357025188851106, 0.357025188851106, 0.357025188851106, 0.357025188851106, 0.357025188851106, 0.357025188851106, 0.357025188851106, 0.357025188851106, 0.357025188851106, 0.357025188851106, 0.357025188851106, 0.3567342632718104]}], \"weighted_accuracy\": [{\"categories\": [\"0\", \"1\", \"2\", \"3\", \"4\", \"5\", \"6\", \"7\", \"8\", \"9\", \"10\", \"11\", \"12\", \"13\", \"14\", \"15\", \"16\", \"17\", \"18\", \"19\", \"20\", \"21\", \"22\", \"23\", \"24\", \"25\", \"26\", \"27\", \"28\", \"29\", \"30\", \"31\", \"32\", \"33\", \"34\", \"35\", \"36\", \"37\", \"38\", \"39\", \"40\", \"41\", \"42\", \"43\", \"44\", \"45\", \"46\", \"47\", \"48\", \"49\", \"50\", \"51\", \"52\", \"53\", \"54\", \"55\", \"56\", \"57\", \"58\", \"62\", \"63\"], \"mode\": \"markers\", \"name\": \"weighted_accuracy\", \"stepped\": false, \"type\": \"scatter\", \"data\": [0.9665117770787506, 0.9786065299501534, 0.9813554620305336, 0.9813554620305336, 0.683853291527658, 0.6429164190119853, 0.9779482898129723, 0.6742076276461454, 0.977253787038137, 0.9813554620305336, 0.9813554620305336, 0.9813554620305336, 0.9768964161365838, 0.9813554620305336, 0.9813554620305336, 0.9813554620305336, 0.9813554620305336, 0.9813554620305336, 0.9815330388127952, 0.9813554620305336, 0.9813554620305336, 0.9808230645257471, 0.9813554620305336, 0.9813554620305336, 0.9813554620305336, 0.9813554620305336, 0.9813554620305336, 0.9813554620305336, 0.9813554620305336, 0.949461712176974, 0.9423594407826796, 0.9601230723682157, 0.9619724813809267, 0.9469013664584534, 0.9813554620305336, 0.9813554620305336, 0.9813554620305336, 0.9813554620305336, 0.9813554620305336, 0.979809920140187, 0.9813554620305336, 0.9813554620305336, 0.9813554620305336, 0.9811151228169258, 0.9813554620305336, 0.9813554620305336, 0.9458047701386455, 0.9813554620305336, 0.9813554620305336, 0.9813554620305336, 0.9813554620305336, 0.9813554620305336, 0.9813554620305336, 0.9813554620305336, 0.9811151228169257, 0.9813554620305336, 0.9813554620305336, 0.9813554620305336, 0.9813554620305336, 0.9809836270291413, 0.97890108805097]}, {\"categories\": [\"0\", \"1\", \"2\", \"3\", \"4\", \"5\", \"6\", \"7\", \"8\", \"9\", \"10\", \"11\", \"12\", \"13\", \"14\", \"15\", \"16\", \"17\", \"18\", \"19\", \"20\", \"21\", \"22\", \"23\", \"24\", \"25\", \"26\", \"27\", \"28\", \"29\", \"30\", \"31\", \"32\", \"33\", \"34\", \"35\", \"36\", \"37\", \"38\", \"39\", \"40\", \"41\", \"42\", \"43\", \"44\", \"45\", \"46\", \"47\", \"48\", \"49\", \"50\", \"51\", \"52\", \"53\", \"54\", \"55\", \"56\", \"57\", \"58\", \"62\", \"63\"], \"mode\": \"lines\", \"name\": \"weighted_accuracy_max\", \"stepped\": true, \"type\": \"scatter\", \"data\": [0.9665117770787506, 0.9786065299501534, 0.9813554620305336, 0.9813554620305336, 0.9813554620305336, 0.9813554620305336, 0.9813554620305336, 0.9813554620305336, 0.9813554620305336, 0.9813554620305336, 0.9813554620305336, 0.9813554620305336, 0.9813554620305336, 0.9813554620305336, 0.9813554620305336, 0.9813554620305336, 0.9813554620305336, 0.9813554620305336, 0.9815330388127952, 0.9815330388127952, 0.9815330388127952, 0.9815330388127952, 0.9815330388127952, 0.9815330388127952, 0.9815330388127952, 0.9815330388127952, 0.9815330388127952, 0.9815330388127952, 0.9815330388127952, 0.9815330388127952, 0.9815330388127952, 0.9815330388127952, 0.9815330388127952, 0.9815330388127952, 0.9815330388127952, 0.9815330388127952, 0.9815330388127952, 0.9815330388127952, 0.9815330388127952, 0.9815330388127952, 0.9815330388127952, 0.9815330388127952, 0.9815330388127952, 0.9815330388127952, 0.9815330388127952, 0.9815330388127952, 0.9815330388127952, 0.9815330388127952, 0.9815330388127952, 0.9815330388127952, 0.9815330388127952, 0.9815330388127952, 0.9815330388127952, 0.9815330388127952, 0.9815330388127952, 0.9815330388127952, 0.9815330388127952, 0.9815330388127952, 0.9815330388127952, 0.9815330388127952, 0.9815330388127952]}], \"f1_score_weighted\": [{\"categories\": [\"0\", \"1\", \"2\", \"3\", \"4\", \"5\", \"6\", \"7\", \"8\", \"9\", \"10\", \"11\", \"12\", \"13\", \"14\", \"15\", \"16\", \"17\", \"18\", \"19\", \"20\", \"21\", \"22\", \"23\", \"24\", \"25\", \"26\", \"27\", \"28\", \"29\", \"30\", \"31\", \"32\", \"33\", \"34\", \"35\", \"36\", \"37\", \"38\", \"39\", \"40\", \"41\", \"42\", \"43\", \"44\", \"45\", \"46\", \"47\", \"48\", \"49\", \"50\", \"51\", \"52\", \"53\", \"54\", \"55\", \"56\", \"57\", \"58\", \"62\", \"63\"], \"mode\": \"markers\", \"name\": \"f1_score_weighted\", \"stepped\": false, \"type\": \"scatter\", \"data\": [0.8317049505588496, 0.8298557104668042, 0.8223432579203689, 0.8223432579203689, 0.7167463414046245, 0.6943771146720202, 0.8248280819226007, 0.7142201758465312, 0.8336324442288431, 0.8223432579203689, 0.8223432579203689, 0.8223432579203689, 0.8283320254742186, 0.8223432579203689, 0.8223432579203689, 0.8223432579203689, 0.8223432579203689, 0.8223432579203689, 0.8252147639474552, 0.8223432579203689, 0.8223432579203689, 0.8241955417609356, 0.8223432579203689, 0.8223432579203689, 0.8223432579203689, 0.8223432579203689, 0.8223432579203689, 0.8223432579203689, 0.8223432579203689, 0.8300291930752705, 0.8285212584787697, 0.8315566513635881, 0.8309947554894572, 0.8294291406414533, 0.8223432579203689, 0.8223432579203689, 0.8223432579203689, 0.8223432579203689, 0.8223432579203689, 0.8284670145127391, 0.8223432579203689, 0.8223432579203689, 0.8223432579203689, 0.8236291863135168, 0.8223432579203689, 0.8223432579203689, 0.8279544612318214, 0.8223432579203689, 0.8223432579203689, 0.8223432579203689, 0.8223432579203689, 0.8223432579203689, 0.8223432579203689, 0.8223432579203689, 0.8236291863135168, 0.8223432579203689, 0.8223432579203689, 0.8223432579203689, 0.8223432579203689, 0.8316884986041069, 0.8293320509851437]}, {\"categories\": [\"0\", \"1\", \"2\", \"3\", \"4\", \"5\", \"6\", \"7\", \"8\", \"9\", \"10\", \"11\", \"12\", \"13\", \"14\", \"15\", \"16\", \"17\", \"18\", \"19\", \"20\", \"21\", \"22\", \"23\", \"24\", \"25\", \"26\", \"27\", \"28\", \"29\", \"30\", \"31\", \"32\", \"33\", \"34\", \"35\", \"36\", \"37\", \"38\", \"39\", \"40\", \"41\", \"42\", \"43\", \"44\", \"45\", \"46\", \"47\", \"48\", \"49\", \"50\", \"51\", \"52\", \"53\", \"54\", \"55\", \"56\", \"57\", \"58\", \"62\", \"63\"], \"mode\": \"lines\", \"name\": \"f1_score_weighted_max\", \"stepped\": true, \"type\": \"scatter\", \"data\": [0.8317049505588496, 0.8317049505588496, 0.8317049505588496, 0.8317049505588496, 0.8317049505588496, 0.8317049505588496, 0.8317049505588496, 0.8317049505588496, 0.8336324442288431, 0.8336324442288431, 0.8336324442288431, 0.8336324442288431, 0.8336324442288431, 0.8336324442288431, 0.8336324442288431, 0.8336324442288431, 0.8336324442288431, 0.8336324442288431, 0.8336324442288431, 0.8336324442288431, 0.8336324442288431, 0.8336324442288431, 0.8336324442288431, 0.8336324442288431, 0.8336324442288431, 0.8336324442288431, 0.8336324442288431, 0.8336324442288431, 0.8336324442288431, 0.8336324442288431, 0.8336324442288431, 0.8336324442288431, 0.8336324442288431, 0.8336324442288431, 0.8336324442288431, 0.8336324442288431, 0.8336324442288431, 0.8336324442288431, 0.8336324442288431, 0.8336324442288431, 0.8336324442288431, 0.8336324442288431, 0.8336324442288431, 0.8336324442288431, 0.8336324442288431, 0.8336324442288431, 0.8336324442288431, 0.8336324442288431, 0.8336324442288431, 0.8336324442288431, 0.8336324442288431, 0.8336324442288431, 0.8336324442288431, 0.8336324442288431, 0.8336324442288431, 0.8336324442288431, 0.8336324442288431, 0.8336324442288431, 0.8336324442288431, 0.8336324442288431, 0.8336324442288431]}], \"AUC_micro\": [{\"categories\": [\"0\", \"1\", \"2\", \"3\", \"4\", \"5\", \"6\", \"7\", \"8\", \"9\", \"10\", \"11\", \"12\", \"13\", \"14\", \"15\", \"16\", \"17\", \"18\", \"19\", \"20\", \"21\", \"22\", \"23\", \"24\", \"25\", \"26\", \"27\", \"28\", \"29\", \"30\", \"31\", \"32\", \"33\", \"34\", \"35\", \"36\", \"37\", \"38\", \"39\", \"40\", \"41\", \"42\", \"43\", \"44\", \"45\", \"46\", \"47\", \"48\", \"49\", \"50\", \"51\", \"52\", \"53\", \"54\", \"55\", \"56\", \"57\", \"58\", \"62\", \"63\"], \"mode\": \"markers\", \"name\": \"AUC_micro\", \"stepped\": false, \"type\": \"scatter\", \"data\": [0.8944236958602897, 0.90665702245026, 0.9035964370575555, 0.9055200275585504, 0.7485214295002838, 0.6940216877562974, 0.9017029394060991, 0.6829804354322837, 0.9010311833127058, 0.9087475257351741, 0.9069030076073382, 0.9066493187522052, 0.9033047332318, 0.9026301551523188, 0.9019122140304952, 0.9064174960286435, 0.9059607258614282, 0.9063083876343402, 0.9028440602290797, 0.9045587431563538, 0.9058118696779778, 0.9035041396411321, 0.9054750133431424, 0.907142547358297, 0.9067664604138044, 0.8847569619511212, 0.9047579569571823, 0.9046040606128134, 0.9020694323815264, 0.8907242417179247, 0.8904550101743525, 0.896296177630969, 0.8960450976626675, 0.8905147169986268, 0.9026723615402078, 0.878959462775807, 0.9073641627997748, 0.9070984545369338, 0.9074416526424984, 0.9020589795060555, 0.878959462775807, 0.9042169542928015, 0.9053280642561358, 0.9043908689883704, 0.9075883454726441, 0.878959462775807, 0.8916948726601536, 0.9087147928505501, 0.9070084454321716, 0.9070031833391914, 0.8803429800000894, 0.9030961385661401, 0.9044324578942131, 0.9069823422330732, 0.8966076502177257, 0.878959462775807, 0.90616075808489, 0.9063454432287621, 0.9021584331180342, 0.9040676022588008, 0.9067226068506573]}, {\"categories\": [\"0\", \"1\", \"2\", \"3\", \"4\", \"5\", \"6\", \"7\", \"8\", \"9\", \"10\", \"11\", \"12\", \"13\", \"14\", \"15\", \"16\", \"17\", \"18\", \"19\", \"20\", \"21\", \"22\", \"23\", \"24\", \"25\", \"26\", \"27\", \"28\", \"29\", \"30\", \"31\", \"32\", \"33\", \"34\", \"35\", \"36\", \"37\", \"38\", \"39\", \"40\", \"41\", \"42\", \"43\", \"44\", \"45\", \"46\", \"47\", \"48\", \"49\", \"50\", \"51\", \"52\", \"53\", \"54\", \"55\", \"56\", \"57\", \"58\", \"62\", \"63\"], \"mode\": \"lines\", \"name\": \"AUC_micro_max\", \"stepped\": true, \"type\": \"scatter\", \"data\": [0.8944236958602897, 0.90665702245026, 0.90665702245026, 0.90665702245026, 0.90665702245026, 0.90665702245026, 0.90665702245026, 0.90665702245026, 0.90665702245026, 0.9087475257351741, 0.9087475257351741, 0.9087475257351741, 0.9087475257351741, 0.9087475257351741, 0.9087475257351741, 0.9087475257351741, 0.9087475257351741, 0.9087475257351741, 0.9087475257351741, 0.9087475257351741, 0.9087475257351741, 0.9087475257351741, 0.9087475257351741, 0.9087475257351741, 0.9087475257351741, 0.9087475257351741, 0.9087475257351741, 0.9087475257351741, 0.9087475257351741, 0.9087475257351741, 0.9087475257351741, 0.9087475257351741, 0.9087475257351741, 0.9087475257351741, 0.9087475257351741, 0.9087475257351741, 0.9087475257351741, 0.9087475257351741, 0.9087475257351741, 0.9087475257351741, 0.9087475257351741, 0.9087475257351741, 0.9087475257351741, 0.9087475257351741, 0.9087475257351741, 0.9087475257351741, 0.9087475257351741, 0.9087475257351741, 0.9087475257351741, 0.9087475257351741, 0.9087475257351741, 0.9087475257351741, 0.9087475257351741, 0.9087475257351741, 0.9087475257351741, 0.9087475257351741, 0.9087475257351741, 0.9087475257351741, 0.9087475257351741, 0.9087475257351741, 0.9087475257351741]}], \"AUC_macro\": [{\"categories\": [\"0\", \"1\", \"2\", \"3\", \"4\", \"5\", \"6\", \"7\", \"8\", \"9\", \"10\", \"11\", \"12\", \"13\", \"14\", \"15\", \"16\", \"17\", \"18\", \"19\", \"20\", \"21\", \"22\", \"23\", \"24\", \"25\", \"26\", \"27\", \"28\", \"29\", \"30\", \"31\", \"32\", \"33\", \"34\", \"35\", \"36\", \"37\", \"38\", \"39\", \"40\", \"41\", \"42\", \"43\", \"44\", \"45\", \"46\", \"47\", \"48\", \"49\", \"50\", \"51\", \"52\", \"53\", \"54\", \"55\", \"56\", \"57\", \"58\", \"62\", \"63\"], \"mode\": \"markers\", \"name\": \"AUC_macro\", \"stepped\": false, \"type\": \"scatter\", \"data\": [0.5777155368356112, 0.6305110509347944, 0.6161623854892612, 0.6253151950143644, 0.6335722652370095, 0.6172515782747177, 0.6080265045520811, 0.622011546255235, 0.6050144196235603, 0.6404840078835182, 0.6319119220327073, 0.6306429372526398, 0.618165377728949, 0.6115481098977333, 0.6082930022540679, 0.6293083772589999, 0.6274198054021178, 0.6291960950386978, 0.6130036700540654, 0.6208566077448749, 0.6268751766171302, 0.6157278630082875, 0.6249836146382834, 0.6329197616274644, 0.6312663869953362, 0.5277651871385697, 0.621665485062799, 0.621261192123822, 0.6091289007263379, 0.5752414551629947, 0.5785677628537629, 0.5872086676836452, 0.587244025642742, 0.573827545583325, 0.6117686850723691, 0.5, 0.6336877838114521, 0.6325657614321692, 0.6342059072766204, 0.6093574508360327, 0.5, 0.6190213810423357, 0.6243506896655318, 0.6198216726320412, 0.6350308699974029, 0.5, 0.5770577868888347, 0.6403289324259205, 0.6323325039118309, 0.6323514175982934, 0.506494907665958, 0.6139126555507943, 0.6200823976030382, 0.632017318100363, 0.5832462705547183, 0.5, 0.6284817410898801, 0.628901207132899, 0.609405293272987, 0.6183238946164712, 0.6308512738258207]}, {\"categories\": [\"0\", \"1\", \"2\", \"3\", \"4\", \"5\", \"6\", \"7\", \"8\", \"9\", \"10\", \"11\", \"12\", \"13\", \"14\", \"15\", \"16\", \"17\", \"18\", \"19\", \"20\", \"21\", \"22\", \"23\", \"24\", \"25\", \"26\", \"27\", \"28\", \"29\", \"30\", \"31\", \"32\", \"33\", \"34\", \"35\", \"36\", \"37\", \"38\", \"39\", \"40\", \"41\", \"42\", \"43\", \"44\", \"45\", \"46\", \"47\", \"48\", \"49\", \"50\", \"51\", \"52\", \"53\", \"54\", \"55\", \"56\", \"57\", \"58\", \"62\", \"63\"], \"mode\": \"lines\", \"name\": \"AUC_macro_max\", \"stepped\": true, \"type\": \"scatter\", \"data\": [0.5777155368356112, 0.6305110509347944, 0.6305110509347944, 0.6305110509347944, 0.6335722652370095, 0.6335722652370095, 0.6335722652370095, 0.6335722652370095, 0.6335722652370095, 0.6404840078835182, 0.6404840078835182, 0.6404840078835182, 0.6404840078835182, 0.6404840078835182, 0.6404840078835182, 0.6404840078835182, 0.6404840078835182, 0.6404840078835182, 0.6404840078835182, 0.6404840078835182, 0.6404840078835182, 0.6404840078835182, 0.6404840078835182, 0.6404840078835182, 0.6404840078835182, 0.6404840078835182, 0.6404840078835182, 0.6404840078835182, 0.6404840078835182, 0.6404840078835182, 0.6404840078835182, 0.6404840078835182, 0.6404840078835182, 0.6404840078835182, 0.6404840078835182, 0.6404840078835182, 0.6404840078835182, 0.6404840078835182, 0.6404840078835182, 0.6404840078835182, 0.6404840078835182, 0.6404840078835182, 0.6404840078835182, 0.6404840078835182, 0.6404840078835182, 0.6404840078835182, 0.6404840078835182, 0.6404840078835182, 0.6404840078835182, 0.6404840078835182, 0.6404840078835182, 0.6404840078835182, 0.6404840078835182, 0.6404840078835182, 0.6404840078835182, 0.6404840078835182, 0.6404840078835182, 0.6404840078835182, 0.6404840078835182, 0.6404840078835182, 0.6404840078835182]}], \"f1_score_macro\": [{\"categories\": [\"0\", \"1\", \"2\", \"3\", \"4\", \"5\", \"6\", \"7\", \"8\", \"9\", \"10\", \"11\", \"12\", \"13\", \"14\", \"15\", \"16\", \"17\", \"18\", \"19\", \"20\", \"21\", \"22\", \"23\", \"24\", \"25\", \"26\", \"27\", \"28\", \"29\", \"30\", \"31\", \"32\", \"33\", \"34\", \"35\", \"36\", \"37\", \"38\", \"39\", \"40\", \"41\", \"42\", \"43\", \"44\", \"45\", \"46\", \"47\", \"48\", \"49\", \"50\", \"51\", \"52\", \"53\", \"54\", \"55\", \"56\", \"57\", \"58\", \"62\", \"63\"], \"mode\": \"markers\", \"name\": \"f1_score_macro\", \"stepped\": false, \"type\": \"scatter\", \"data\": [0.520574928174174, 0.4985077022912276, 0.4677878338156226, 0.4677878338156226, 0.5162649363154527, 0.5072507753113655, 0.48151973822564037, 0.5200246307640611, 0.5136670148598398, 0.4677878338156226, 0.4677878338156226, 0.4677878338156226, 0.4952293850060273, 0.4677878338156226, 0.4677878338156226, 0.4677878338156226, 0.4677878338156226, 0.4677878338156226, 0.4780641541780641, 0.4677878338156226, 0.4677878338156226, 0.47523107793182173, 0.4677878338156226, 0.4677878338156226, 0.4677878338156226, 0.4677878338156226, 0.4677878338156226, 0.4677878338156226, 0.4677878338156226, 0.536076776293877, 0.5392626170494769, 0.5276813669101055, 0.5237240552216095, 0.5366739891998815, 0.4677878338156226, 0.4677878338156226, 0.4677878338156226, 0.4677878338156226, 0.4677878338156226, 0.49188716438430785, 0.4677878338156226, 0.4677878338156226, 0.4677878338156226, 0.4726721873156833, 0.4677878338156226, 0.4677878338156226, 0.5331140569641261, 0.4677878338156226, 0.4677878338156226, 0.4677878338156226, 0.4677878338156226, 0.4677878338156226, 0.4677878338156226, 0.4677878338156226, 0.4726721873156833, 0.4677878338156226, 0.4677878338156226, 0.4677878338156226, 0.4677878338156226, 0.5020454945811144, 0.49614183759312336]}, {\"categories\": [\"0\", \"1\", \"2\", \"3\", \"4\", \"5\", \"6\", \"7\", \"8\", \"9\", \"10\", \"11\", \"12\", \"13\", \"14\", \"15\", \"16\", \"17\", \"18\", \"19\", \"20\", \"21\", \"22\", \"23\", \"24\", \"25\", \"26\", \"27\", \"28\", \"29\", \"30\", \"31\", \"32\", \"33\", \"34\", \"35\", \"36\", \"37\", \"38\", \"39\", \"40\", \"41\", \"42\", \"43\", \"44\", \"45\", \"46\", \"47\", \"48\", \"49\", \"50\", \"51\", \"52\", \"53\", \"54\", \"55\", \"56\", \"57\", \"58\", \"62\", \"63\"], \"mode\": \"lines\", \"name\": \"f1_score_macro_max\", \"stepped\": true, \"type\": \"scatter\", \"data\": [0.520574928174174, 0.520574928174174, 0.520574928174174, 0.520574928174174, 0.520574928174174, 0.520574928174174, 0.520574928174174, 0.520574928174174, 0.520574928174174, 0.520574928174174, 0.520574928174174, 0.520574928174174, 0.520574928174174, 0.520574928174174, 0.520574928174174, 0.520574928174174, 0.520574928174174, 0.520574928174174, 0.520574928174174, 0.520574928174174, 0.520574928174174, 0.520574928174174, 0.520574928174174, 0.520574928174174, 0.520574928174174, 0.520574928174174, 0.520574928174174, 0.520574928174174, 0.520574928174174, 0.536076776293877, 0.5392626170494769, 0.5392626170494769, 0.5392626170494769, 0.5392626170494769, 0.5392626170494769, 0.5392626170494769, 0.5392626170494769, 0.5392626170494769, 0.5392626170494769, 0.5392626170494769, 0.5392626170494769, 0.5392626170494769, 0.5392626170494769, 0.5392626170494769, 0.5392626170494769, 0.5392626170494769, 0.5392626170494769, 0.5392626170494769, 0.5392626170494769, 0.5392626170494769, 0.5392626170494769, 0.5392626170494769, 0.5392626170494769, 0.5392626170494769, 0.5392626170494769, 0.5392626170494769, 0.5392626170494769, 0.5392626170494769, 0.5392626170494769, 0.5392626170494769, 0.5392626170494769]}], \"precision_score_micro\": [{\"categories\": [\"0\", \"1\", \"2\", \"3\", \"4\", \"5\", \"6\", \"7\", \"8\", \"9\", \"10\", \"11\", \"12\", \"13\", \"14\", \"15\", \"16\", \"17\", \"18\", \"19\", \"20\", \"21\", \"22\", \"23\", \"24\", \"25\", \"26\", \"27\", \"28\", \"29\", \"30\", \"31\", \"32\", \"33\", \"34\", \"35\", \"36\", \"37\", \"38\", \"39\", \"40\", \"41\", \"42\", \"43\", \"44\", \"45\", \"46\", \"47\", \"48\", \"49\", \"50\", \"51\", \"52\", \"53\", \"54\", \"55\", \"56\", \"57\", \"58\", \"62\", \"63\"], \"mode\": \"markers\", \"name\": \"precision_score_micro\", \"stepped\": false, \"type\": \"scatter\", \"data\": [0.8723860518037615, 0.8798549851638668, 0.878959462775807, 0.878959462775807, 0.6616960042835152, 0.6315110545925083, 0.8774646944648954, 0.6572009905628806, 0.8804542310867187, 0.878959462775807, 0.878959462775807, 0.878959462775807, 0.8780626017892599, 0.878959462775807, 0.878959462775807, 0.878959462775807, 0.878959462775807, 0.878959462775807, 0.8801548312250407, 0.878959462775807, 0.878959462775807, 0.8792584164379894, 0.878959462775807, 0.878959462775807, 0.878959462775807, 0.878959462775807, 0.878959462775807, 0.878959462775807, 0.878959462775807, 0.8607331057715906, 0.8556500011154988, 0.8682020391316957, 0.8690980077192514, 0.858937599000513, 0.878959462775807, 0.878959462775807, 0.878959462775807, 0.878959462775807, 0.878959462775807, 0.8801552774245364, 0.878959462775807, 0.878959462775807, 0.878959462775807, 0.8792584164379894, 0.878959462775807, 0.878959462775807, 0.8574437230885931, 0.878959462775807, 0.878959462775807, 0.878959462775807, 0.878959462775807, 0.878959462775807, 0.878959462775807, 0.878959462775807, 0.8792584164379894, 0.878959462775807, 0.878959462775807, 0.878959462775807, 0.878959462775807, 0.8822466144613257, 0.8798554313633626]}, {\"categories\": [\"0\", \"1\", \"2\", \"3\", \"4\", \"5\", \"6\", \"7\", \"8\", \"9\", \"10\", \"11\", \"12\", \"13\", \"14\", \"15\", \"16\", \"17\", \"18\", \"19\", \"20\", \"21\", \"22\", \"23\", \"24\", \"25\", \"26\", \"27\", \"28\", \"29\", \"30\", \"31\", \"32\", \"33\", \"34\", \"35\", \"36\", \"37\", \"38\", \"39\", \"40\", \"41\", \"42\", \"43\", \"44\", \"45\", \"46\", \"47\", \"48\", \"49\", \"50\", \"51\", \"52\", \"53\", \"54\", \"55\", \"56\", \"57\", \"58\", \"62\", \"63\"], \"mode\": \"lines\", \"name\": \"precision_score_micro_max\", \"stepped\": true, \"type\": \"scatter\", \"data\": [0.8723860518037615, 0.8798549851638668, 0.8798549851638668, 0.8798549851638668, 0.8798549851638668, 0.8798549851638668, 0.8798549851638668, 0.8798549851638668, 0.8804542310867187, 0.8804542310867187, 0.8804542310867187, 0.8804542310867187, 0.8804542310867187, 0.8804542310867187, 0.8804542310867187, 0.8804542310867187, 0.8804542310867187, 0.8804542310867187, 0.8804542310867187, 0.8804542310867187, 0.8804542310867187, 0.8804542310867187, 0.8804542310867187, 0.8804542310867187, 0.8804542310867187, 0.8804542310867187, 0.8804542310867187, 0.8804542310867187, 0.8804542310867187, 0.8804542310867187, 0.8804542310867187, 0.8804542310867187, 0.8804542310867187, 0.8804542310867187, 0.8804542310867187, 0.8804542310867187, 0.8804542310867187, 0.8804542310867187, 0.8804542310867187, 0.8804542310867187, 0.8804542310867187, 0.8804542310867187, 0.8804542310867187, 0.8804542310867187, 0.8804542310867187, 0.8804542310867187, 0.8804542310867187, 0.8804542310867187, 0.8804542310867187, 0.8804542310867187, 0.8804542310867187, 0.8804542310867187, 0.8804542310867187, 0.8804542310867187, 0.8804542310867187, 0.8804542310867187, 0.8804542310867187, 0.8804542310867187, 0.8804542310867187, 0.8822466144613257, 0.8822466144613257]}], \"average_precision_score_micro\": [{\"categories\": [\"0\", \"1\", \"2\", \"3\", \"4\", \"5\", \"6\", \"7\", \"8\", \"9\", \"10\", \"11\", \"12\", \"13\", \"14\", \"15\", \"16\", \"17\", \"18\", \"19\", \"20\", \"21\", \"22\", \"23\", \"24\", \"25\", \"26\", \"27\", \"28\", \"29\", \"30\", \"31\", \"32\", \"33\", \"34\", \"35\", \"36\", \"37\", \"38\", \"39\", \"40\", \"41\", \"42\", \"43\", \"44\", \"45\", \"46\", \"47\", \"48\", \"49\", \"50\", \"51\", \"52\", \"53\", \"54\", \"55\", \"56\", \"57\", \"58\", \"62\", \"63\"], \"mode\": \"markers\", \"name\": \"average_precision_score_micro\", \"stepped\": false, \"type\": \"scatter\", \"data\": [0.8755859487731611, 0.8895267269038122, 0.8854153621135705, 0.8858842881932241, 0.7485783700073847, 0.6882874007509601, 0.8845037270661085, 0.6408232651051854, 0.8815326716892106, 0.8947798642913929, 0.8928757809687928, 0.8933601401579588, 0.8816740031287873, 0.8844738313662563, 0.8842085570687284, 0.8917067053730336, 0.8907569274186798, 0.8899994003670149, 0.8781321646011098, 0.8875400204817676, 0.8895167640145883, 0.8867244857593878, 0.8884493151741498, 0.8905668768181322, 0.8896087421708436, 0.8516692163010126, 0.8898149607648488, 0.888559521139104, 0.8817017062164298, 0.8714559417869634, 0.873073180862353, 0.8744064290597506, 0.8758998861375705, 0.8711461767512947, 0.8843620466794017, 0.8331079922848431, 0.8900504924601492, 0.8932062815231866, 0.892523507714062, 0.8834827175523303, 0.8331079922848431, 0.8868942181136867, 0.8895512840282223, 0.8889814219533843, 0.8919875956118869, 0.8331079922848431, 0.8717042495414511, 0.8918497765255303, 0.8892218943336025, 0.8926060594930687, 0.8384401488875758, 0.8868242439517363, 0.8869814000091495, 0.8924600965151457, 0.8678458234929819, 0.8331079922848431, 0.8895994691929264, 0.8906728234148339, 0.8846691778781063, 0.8863526702255718, 0.8905764074376901]}, {\"categories\": [\"0\", \"1\", \"2\", \"3\", \"4\", \"5\", \"6\", \"7\", \"8\", \"9\", \"10\", \"11\", \"12\", \"13\", \"14\", \"15\", \"16\", \"17\", \"18\", \"19\", \"20\", \"21\", \"22\", \"23\", \"24\", \"25\", \"26\", \"27\", \"28\", \"29\", \"30\", \"31\", \"32\", \"33\", \"34\", \"35\", \"36\", \"37\", \"38\", \"39\", \"40\", \"41\", \"42\", \"43\", \"44\", \"45\", \"46\", \"47\", \"48\", \"49\", \"50\", \"51\", \"52\", \"53\", \"54\", \"55\", \"56\", \"57\", \"58\", \"62\", \"63\"], \"mode\": \"lines\", \"name\": \"average_precision_score_micro_max\", \"stepped\": true, \"type\": \"scatter\", \"data\": [0.8755859487731611, 0.8895267269038122, 0.8895267269038122, 0.8895267269038122, 0.8895267269038122, 0.8895267269038122, 0.8895267269038122, 0.8895267269038122, 0.8895267269038122, 0.8947798642913929, 0.8947798642913929, 0.8947798642913929, 0.8947798642913929, 0.8947798642913929, 0.8947798642913929, 0.8947798642913929, 0.8947798642913929, 0.8947798642913929, 0.8947798642913929, 0.8947798642913929, 0.8947798642913929, 0.8947798642913929, 0.8947798642913929, 0.8947798642913929, 0.8947798642913929, 0.8947798642913929, 0.8947798642913929, 0.8947798642913929, 0.8947798642913929, 0.8947798642913929, 0.8947798642913929, 0.8947798642913929, 0.8947798642913929, 0.8947798642913929, 0.8947798642913929, 0.8947798642913929, 0.8947798642913929, 0.8947798642913929, 0.8947798642913929, 0.8947798642913929, 0.8947798642913929, 0.8947798642913929, 0.8947798642913929, 0.8947798642913929, 0.8947798642913929, 0.8947798642913929, 0.8947798642913929, 0.8947798642913929, 0.8947798642913929, 0.8947798642913929, 0.8947798642913929, 0.8947798642913929, 0.8947798642913929, 0.8947798642913929, 0.8947798642913929, 0.8947798642913929, 0.8947798642913929, 0.8947798642913929, 0.8947798642913929, 0.8947798642913929, 0.8947798642913929]}], \"AUC_weighted\": [{\"categories\": [\"0\", \"1\", \"2\", \"3\", \"4\", \"5\", \"6\", \"7\", \"8\", \"9\", \"10\", \"11\", \"12\", \"13\", \"14\", \"15\", \"16\", \"17\", \"18\", \"19\", \"20\", \"21\", \"22\", \"23\", \"24\", \"25\", \"26\", \"27\", \"28\", \"29\", \"30\", \"31\", \"32\", \"33\", \"34\", \"35\", \"36\", \"37\", \"38\", \"39\", \"40\", \"41\", \"42\", \"43\", \"44\", \"45\", \"46\", \"47\", \"48\", \"49\", \"50\", \"51\", \"52\", \"53\", \"54\", \"55\", \"56\", \"57\", \"58\", \"62\", \"63\"], \"mode\": \"markers\", \"name\": \"AUC_weighted\", \"stepped\": false, \"type\": \"scatter\", \"data\": [0.577715536835611, 0.6305110509347944, 0.6161623854892612, 0.6253151950143645, 0.6335722652370095, 0.6172523623961255, 0.6080257425670144, 0.622011546255235, 0.6050144196235603, 0.6404840078835182, 0.6319119220327073, 0.6306429372526398, 0.6181653777289489, 0.6115481098977333, 0.6082930022540678, 0.6293083772589999, 0.6274198054021178, 0.6291960950386978, 0.6130036700540654, 0.6208566077448749, 0.6268751766171302, 0.6157278630082876, 0.6249836146382837, 0.6329197616274644, 0.6312663869953362, 0.5277651871385697, 0.621665485062799, 0.6212611921238219, 0.6091289007263379, 0.5752414551629947, 0.5785677628537629, 0.5872086676836452, 0.587244025642742, 0.573827545583325, 0.6117686850723691, 0.5, 0.6336877838114521, 0.6325657614321692, 0.6342059072766204, 0.6093574508360327, 0.5, 0.6190213810423357, 0.6243506896655318, 0.6198216726320412, 0.6350308699974029, 0.5, 0.5770577868888347, 0.6403289324259205, 0.6323325039118308, 0.6323514175982934, 0.506494907665958, 0.6139126555507943, 0.6200823976030383, 0.632017318100363, 0.5832462705547183, 0.5, 0.6284817410898801, 0.628901207132899, 0.609405293272987, 0.6183238946164711, 0.6308512738258207]}, {\"categories\": [\"0\", \"1\", \"2\", \"3\", \"4\", \"5\", \"6\", \"7\", \"8\", \"9\", \"10\", \"11\", \"12\", \"13\", \"14\", \"15\", \"16\", \"17\", \"18\", \"19\", \"20\", \"21\", \"22\", \"23\", \"24\", \"25\", \"26\", \"27\", \"28\", \"29\", \"30\", \"31\", \"32\", \"33\", \"34\", \"35\", \"36\", \"37\", \"38\", \"39\", \"40\", \"41\", \"42\", \"43\", \"44\", \"45\", \"46\", \"47\", \"48\", \"49\", \"50\", \"51\", \"52\", \"53\", \"54\", \"55\", \"56\", \"57\", \"58\", \"62\", \"63\"], \"mode\": \"lines\", \"name\": \"AUC_weighted_max\", \"stepped\": true, \"type\": \"scatter\", \"data\": [0.577715536835611, 0.6305110509347944, 0.6305110509347944, 0.6305110509347944, 0.6335722652370095, 0.6335722652370095, 0.6335722652370095, 0.6335722652370095, 0.6335722652370095, 0.6404840078835182, 0.6404840078835182, 0.6404840078835182, 0.6404840078835182, 0.6404840078835182, 0.6404840078835182, 0.6404840078835182, 0.6404840078835182, 0.6404840078835182, 0.6404840078835182, 0.6404840078835182, 0.6404840078835182, 0.6404840078835182, 0.6404840078835182, 0.6404840078835182, 0.6404840078835182, 0.6404840078835182, 0.6404840078835182, 0.6404840078835182, 0.6404840078835182, 0.6404840078835182, 0.6404840078835182, 0.6404840078835182, 0.6404840078835182, 0.6404840078835182, 0.6404840078835182, 0.6404840078835182, 0.6404840078835182, 0.6404840078835182, 0.6404840078835182, 0.6404840078835182, 0.6404840078835182, 0.6404840078835182, 0.6404840078835182, 0.6404840078835182, 0.6404840078835182, 0.6404840078835182, 0.6404840078835182, 0.6404840078835182, 0.6404840078835182, 0.6404840078835182, 0.6404840078835182, 0.6404840078835182, 0.6404840078835182, 0.6404840078835182, 0.6404840078835182, 0.6404840078835182, 0.6404840078835182, 0.6404840078835182, 0.6404840078835182, 0.6404840078835182, 0.6404840078835182]}], \"matthews_correlation\": [{\"categories\": [\"0\", \"1\", \"2\", \"3\", \"4\", \"5\", \"6\", \"7\", \"8\", \"9\", \"10\", \"11\", \"12\", \"13\", \"14\", \"15\", \"16\", \"17\", \"18\", \"19\", \"20\", \"21\", \"22\", \"23\", \"24\", \"25\", \"26\", \"27\", \"28\", \"29\", \"30\", \"31\", \"32\", \"33\", \"34\", \"35\", \"36\", \"37\", \"38\", \"39\", \"40\", \"41\", \"42\", \"43\", \"44\", \"45\", \"46\", \"47\", \"48\", \"49\", \"50\", \"51\", \"52\", \"53\", \"54\", \"55\", \"56\", \"57\", \"58\", \"62\", \"63\"], \"mode\": \"markers\", \"name\": \"matthews_correlation\", \"stepped\": false, \"type\": \"scatter\", \"data\": [0.11018258412797255, 0.11002904638722885, 0.0, 0.0, 0.11139515987628235, 0.12097908538659718, 0.043537621099711835, 0.1293479013896437, 0.1431693667028531, 0.0, 0.0, 0.0, 0.08515876016947388, 0.0, 0.0, 0.0, 0.0, 0.0, 0.07215194380456343, 0.0, 0.0, 0.046949241368489325, 0.0, 0.0, 0.0, 0.0, 0.0, 0.0, 0.0, 0.10967544139404514, 0.10566655898824617, 0.10874938773633755, 0.10549646628885403, 0.10523324001775021, 0.0, 0.0, 0.0, 0.0, 0.0, 0.11151209549648784, 0.0, 0.0, 0.0, 0.03340610378826443, 0.0, 0.0, 0.09656931731252813, 0.0, 0.0, 0.0, 0.0, 0.0, 0.0, 0.0, 0.03340610378826443, 0.0, 0.0, 0.0, 0.0, 0.15225145018505634, 0.11121565333051316]}, {\"categories\": [\"0\", \"1\", \"2\", \"3\", \"4\", \"5\", \"6\", \"7\", \"8\", \"9\", \"10\", \"11\", \"12\", \"13\", \"14\", \"15\", \"16\", \"17\", \"18\", \"19\", \"20\", \"21\", \"22\", \"23\", \"24\", \"25\", \"26\", \"27\", \"28\", \"29\", \"30\", \"31\", \"32\", \"33\", \"34\", \"35\", \"36\", \"37\", \"38\", \"39\", \"40\", \"41\", \"42\", \"43\", \"44\", \"45\", \"46\", \"47\", \"48\", \"49\", \"50\", \"51\", \"52\", \"53\", \"54\", \"55\", \"56\", \"57\", \"58\", \"62\", \"63\"], \"mode\": \"lines\", \"name\": \"matthews_correlation_max\", \"stepped\": true, \"type\": \"scatter\", \"data\": [0.11018258412797255, 0.11018258412797255, 0.11018258412797255, 0.11018258412797255, 0.11139515987628235, 0.12097908538659718, 0.12097908538659718, 0.1293479013896437, 0.1431693667028531, 0.1431693667028531, 0.1431693667028531, 0.1431693667028531, 0.1431693667028531, 0.1431693667028531, 0.1431693667028531, 0.1431693667028531, 0.1431693667028531, 0.1431693667028531, 0.1431693667028531, 0.1431693667028531, 0.1431693667028531, 0.1431693667028531, 0.1431693667028531, 0.1431693667028531, 0.1431693667028531, 0.1431693667028531, 0.1431693667028531, 0.1431693667028531, 0.1431693667028531, 0.1431693667028531, 0.1431693667028531, 0.1431693667028531, 0.1431693667028531, 0.1431693667028531, 0.1431693667028531, 0.1431693667028531, 0.1431693667028531, 0.1431693667028531, 0.1431693667028531, 0.1431693667028531, 0.1431693667028531, 0.1431693667028531, 0.1431693667028531, 0.1431693667028531, 0.1431693667028531, 0.1431693667028531, 0.1431693667028531, 0.1431693667028531, 0.1431693667028531, 0.1431693667028531, 0.1431693667028531, 0.1431693667028531, 0.1431693667028531, 0.1431693667028531, 0.1431693667028531, 0.1431693667028531, 0.1431693667028531, 0.1431693667028531, 0.1431693667028531, 0.15225145018505634, 0.15225145018505634]}], \"recall_score_micro\": [{\"categories\": [\"0\", \"1\", \"2\", \"3\", \"4\", \"5\", \"6\", \"7\", \"8\", \"9\", \"10\", \"11\", \"12\", \"13\", \"14\", \"15\", \"16\", \"17\", \"18\", \"19\", \"20\", \"21\", \"22\", \"23\", \"24\", \"25\", \"26\", \"27\", \"28\", \"29\", \"30\", \"31\", \"32\", \"33\", \"34\", \"35\", \"36\", \"37\", \"38\", \"39\", \"40\", \"41\", \"42\", \"43\", \"44\", \"45\", \"46\", \"47\", \"48\", \"49\", \"50\", \"51\", \"52\", \"53\", \"54\", \"55\", \"56\", \"57\", \"58\", \"62\", \"63\"], \"mode\": \"markers\", \"name\": \"recall_score_micro\", \"stepped\": false, \"type\": \"scatter\", \"data\": [0.8723860518037615, 0.8798549851638668, 0.878959462775807, 0.878959462775807, 0.6616960042835152, 0.6315110545925083, 0.8774646944648954, 0.6572009905628806, 0.8804542310867187, 0.878959462775807, 0.878959462775807, 0.878959462775807, 0.8780626017892599, 0.878959462775807, 0.878959462775807, 0.878959462775807, 0.878959462775807, 0.878959462775807, 0.8801548312250407, 0.878959462775807, 0.878959462775807, 0.8792584164379894, 0.878959462775807, 0.878959462775807, 0.878959462775807, 0.878959462775807, 0.878959462775807, 0.878959462775807, 0.878959462775807, 0.8607331057715906, 0.8556500011154988, 0.8682020391316957, 0.8690980077192514, 0.858937599000513, 0.878959462775807, 0.878959462775807, 0.878959462775807, 0.878959462775807, 0.878959462775807, 0.8801552774245364, 0.878959462775807, 0.878959462775807, 0.878959462775807, 0.8792584164379894, 0.878959462775807, 0.878959462775807, 0.8574437230885931, 0.878959462775807, 0.878959462775807, 0.878959462775807, 0.878959462775807, 0.878959462775807, 0.878959462775807, 0.878959462775807, 0.8792584164379894, 0.878959462775807, 0.878959462775807, 0.878959462775807, 0.878959462775807, 0.8822466144613257, 0.8798554313633626]}, {\"categories\": [\"0\", \"1\", \"2\", \"3\", \"4\", \"5\", \"6\", \"7\", \"8\", \"9\", \"10\", \"11\", \"12\", \"13\", \"14\", \"15\", \"16\", \"17\", \"18\", \"19\", \"20\", \"21\", \"22\", \"23\", \"24\", \"25\", \"26\", \"27\", \"28\", \"29\", \"30\", \"31\", \"32\", \"33\", \"34\", \"35\", \"36\", \"37\", \"38\", \"39\", \"40\", \"41\", \"42\", \"43\", \"44\", \"45\", \"46\", \"47\", \"48\", \"49\", \"50\", \"51\", \"52\", \"53\", \"54\", \"55\", \"56\", \"57\", \"58\", \"62\", \"63\"], \"mode\": \"lines\", \"name\": \"recall_score_micro_max\", \"stepped\": true, \"type\": \"scatter\", \"data\": [0.8723860518037615, 0.8798549851638668, 0.8798549851638668, 0.8798549851638668, 0.8798549851638668, 0.8798549851638668, 0.8798549851638668, 0.8798549851638668, 0.8804542310867187, 0.8804542310867187, 0.8804542310867187, 0.8804542310867187, 0.8804542310867187, 0.8804542310867187, 0.8804542310867187, 0.8804542310867187, 0.8804542310867187, 0.8804542310867187, 0.8804542310867187, 0.8804542310867187, 0.8804542310867187, 0.8804542310867187, 0.8804542310867187, 0.8804542310867187, 0.8804542310867187, 0.8804542310867187, 0.8804542310867187, 0.8804542310867187, 0.8804542310867187, 0.8804542310867187, 0.8804542310867187, 0.8804542310867187, 0.8804542310867187, 0.8804542310867187, 0.8804542310867187, 0.8804542310867187, 0.8804542310867187, 0.8804542310867187, 0.8804542310867187, 0.8804542310867187, 0.8804542310867187, 0.8804542310867187, 0.8804542310867187, 0.8804542310867187, 0.8804542310867187, 0.8804542310867187, 0.8804542310867187, 0.8804542310867187, 0.8804542310867187, 0.8804542310867187, 0.8804542310867187, 0.8804542310867187, 0.8804542310867187, 0.8804542310867187, 0.8804542310867187, 0.8804542310867187, 0.8804542310867187, 0.8804542310867187, 0.8804542310867187, 0.8822466144613257, 0.8822466144613257]}], \"balanced_accuracy\": [{\"categories\": [\"0\", \"1\", \"2\", \"3\", \"4\", \"5\", \"6\", \"7\", \"8\", \"9\", \"10\", \"11\", \"12\", \"13\", \"14\", \"15\", \"16\", \"17\", \"18\", \"19\", \"20\", \"21\", \"22\", \"23\", \"24\", \"25\", \"26\", \"27\", \"28\", \"29\", \"30\", \"31\", \"32\", \"33\", \"34\", \"35\", \"36\", \"37\", \"38\", \"39\", \"40\", \"41\", \"42\", \"43\", \"44\", \"45\", \"46\", \"47\", \"48\", \"49\", \"50\", \"51\", \"52\", \"53\", \"54\", \"55\", \"56\", \"57\", \"58\", \"62\", \"63\"], \"mode\": \"markers\", \"name\": \"balanced_accuracy\", \"stepped\": false, \"type\": \"scatter\", \"data\": [0.5243049052911477, 0.514603010539244, 0.5, 0.5, 0.5806794371145804, 0.5895777222626577, 0.5057596530345186, 0.5950377781271459, 0.5224976180213681, 0.5, 0.5, 0.5, 0.5124604256979335, 0.5, 0.5, 0.5, 0.5, 0.5, 0.5050863982244769, 0.5, 0.5, 0.5034304687612051, 0.5, 0.5, 0.5, 0.5, 0.5, 0.5, 0.5, 0.5327019464050619, 0.5349521229465137, 0.5281452617991462, 0.5255639900163397, 0.5336196742092583, 0.5, 0.5, 0.5, 0.5, 0.5, 0.5114848281313279, 0.5, 0.5, 0.5, 0.5022853277516848, 0.5, 0.5, 0.5305833984202086, 0.5, 0.5, 0.5, 0.5, 0.5, 0.5, 0.5, 0.5022853277516848, 0.5, 0.5, 0.5, 0.5, 0.517107879475379, 0.5134596098820163]}, {\"categories\": [\"0\", \"1\", \"2\", \"3\", \"4\", \"5\", \"6\", \"7\", \"8\", \"9\", \"10\", \"11\", \"12\", \"13\", \"14\", \"15\", \"16\", \"17\", \"18\", \"19\", \"20\", \"21\", \"22\", \"23\", \"24\", \"25\", \"26\", \"27\", \"28\", \"29\", \"30\", \"31\", \"32\", \"33\", \"34\", \"35\", \"36\", \"37\", \"38\", \"39\", \"40\", \"41\", \"42\", \"43\", \"44\", \"45\", \"46\", \"47\", \"48\", \"49\", \"50\", \"51\", \"52\", \"53\", \"54\", \"55\", \"56\", \"57\", \"58\", \"62\", \"63\"], \"mode\": \"lines\", \"name\": \"balanced_accuracy_max\", \"stepped\": true, \"type\": \"scatter\", \"data\": [0.5243049052911477, 0.5243049052911477, 0.5243049052911477, 0.5243049052911477, 0.5806794371145804, 0.5895777222626577, 0.5895777222626577, 0.5950377781271459, 0.5950377781271459, 0.5950377781271459, 0.5950377781271459, 0.5950377781271459, 0.5950377781271459, 0.5950377781271459, 0.5950377781271459, 0.5950377781271459, 0.5950377781271459, 0.5950377781271459, 0.5950377781271459, 0.5950377781271459, 0.5950377781271459, 0.5950377781271459, 0.5950377781271459, 0.5950377781271459, 0.5950377781271459, 0.5950377781271459, 0.5950377781271459, 0.5950377781271459, 0.5950377781271459, 0.5950377781271459, 0.5950377781271459, 0.5950377781271459, 0.5950377781271459, 0.5950377781271459, 0.5950377781271459, 0.5950377781271459, 0.5950377781271459, 0.5950377781271459, 0.5950377781271459, 0.5950377781271459, 0.5950377781271459, 0.5950377781271459, 0.5950377781271459, 0.5950377781271459, 0.5950377781271459, 0.5950377781271459, 0.5950377781271459, 0.5950377781271459, 0.5950377781271459, 0.5950377781271459, 0.5950377781271459, 0.5950377781271459, 0.5950377781271459, 0.5950377781271459, 0.5950377781271459, 0.5950377781271459, 0.5950377781271459, 0.5950377781271459, 0.5950377781271459, 0.5950377781271459, 0.5950377781271459]}], \"precision_score_weighted\": [{\"categories\": [\"0\", \"1\", \"2\", \"3\", \"4\", \"5\", \"6\", \"7\", \"8\", \"9\", \"10\", \"11\", \"12\", \"13\", \"14\", \"15\", \"16\", \"17\", \"18\", \"19\", \"20\", \"21\", \"22\", \"23\", \"24\", \"25\", \"26\", \"27\", \"28\", \"29\", \"30\", \"31\", \"32\", \"33\", \"34\", \"35\", \"36\", \"37\", \"38\", \"39\", \"40\", \"41\", \"42\", \"43\", \"44\", \"45\", \"46\", \"47\", \"48\", \"49\", \"50\", \"51\", \"52\", \"53\", \"54\", \"55\", \"56\", \"57\", \"58\", \"62\", \"63\"], \"mode\": \"markers\", \"name\": \"precision_score_weighted\", \"stepped\": false, \"type\": \"scatter\", \"data\": [0.8211084127437663, 0.8404274025740228, 0.7725877236727466, 0.7725877236727466, 0.8161100992597794, 0.8200766729061064, 0.8083019604636753, 0.8215264903465709, 0.8474444563298512, 0.7725877236727466, 0.7725877236727466, 0.7725877236727466, 0.8251456830974799, 0.7725877236727466, 0.7725877236727466, 0.7725877236727466, 0.7725877236727466, 0.7725877236727466, 0.8449346805564147, 0.7725877236727466, 0.7725877236727466, 0.820288484857576, 0.7725877236727466, 0.7725877236727466, 0.7725877236727466, 0.7725877236727466, 0.7725877236727466, 0.7725877236727466, 0.7725877236727466, 0.8147674101774092, 0.812448944565709, 0.8174075898129762, 0.8175068585063622, 0.8129522042818147, 0.7725877236727466, 0.7725877236727466, 0.7725877236727466, 0.7725877236727466, 0.7725877236727466, 0.861804237023114, 0.7725877236727466, 0.7725877236727466, 0.7725877236727466, 0.8097715851132291, 0.7725877236727466, 0.7725877236727466, 0.8107386874950198, 0.7725877236727466, 0.7725877236727466, 0.7725877236727466, 0.7725877236727466, 0.7725877236727466, 0.7725877236727466, 0.7725877236727466, 0.8097715851132291, 0.7725877236727466, 0.7725877236727466, 0.7725877236727466, 0.7725877236727466, 0.879767034650054, 0.8521584708546154]}, {\"categories\": [\"0\", \"1\", \"2\", \"3\", \"4\", \"5\", \"6\", \"7\", \"8\", \"9\", \"10\", \"11\", \"12\", \"13\", \"14\", \"15\", \"16\", \"17\", \"18\", \"19\", \"20\", \"21\", \"22\", \"23\", \"24\", \"25\", \"26\", \"27\", \"28\", \"29\", \"30\", \"31\", \"32\", \"33\", \"34\", \"35\", \"36\", \"37\", \"38\", \"39\", \"40\", \"41\", \"42\", \"43\", \"44\", \"45\", \"46\", \"47\", \"48\", \"49\", \"50\", \"51\", \"52\", \"53\", \"54\", \"55\", \"56\", \"57\", \"58\", \"62\", \"63\"], \"mode\": \"lines\", \"name\": \"precision_score_weighted_max\", \"stepped\": true, \"type\": \"scatter\", \"data\": [0.8211084127437663, 0.8404274025740228, 0.8404274025740228, 0.8404274025740228, 0.8404274025740228, 0.8404274025740228, 0.8404274025740228, 0.8404274025740228, 0.8474444563298512, 0.8474444563298512, 0.8474444563298512, 0.8474444563298512, 0.8474444563298512, 0.8474444563298512, 0.8474444563298512, 0.8474444563298512, 0.8474444563298512, 0.8474444563298512, 0.8474444563298512, 0.8474444563298512, 0.8474444563298512, 0.8474444563298512, 0.8474444563298512, 0.8474444563298512, 0.8474444563298512, 0.8474444563298512, 0.8474444563298512, 0.8474444563298512, 0.8474444563298512, 0.8474444563298512, 0.8474444563298512, 0.8474444563298512, 0.8474444563298512, 0.8474444563298512, 0.8474444563298512, 0.8474444563298512, 0.8474444563298512, 0.8474444563298512, 0.8474444563298512, 0.861804237023114, 0.861804237023114, 0.861804237023114, 0.861804237023114, 0.861804237023114, 0.861804237023114, 0.861804237023114, 0.861804237023114, 0.861804237023114, 0.861804237023114, 0.861804237023114, 0.861804237023114, 0.861804237023114, 0.861804237023114, 0.861804237023114, 0.861804237023114, 0.861804237023114, 0.861804237023114, 0.861804237023114, 0.861804237023114, 0.879767034650054, 0.879767034650054]}], \"norm_macro_recall\": [{\"categories\": [\"0\", \"1\", \"2\", \"3\", \"4\", \"5\", \"6\", \"7\", \"8\", \"9\", \"10\", \"11\", \"12\", \"13\", \"14\", \"15\", \"16\", \"17\", \"18\", \"19\", \"20\", \"21\", \"22\", \"23\", \"24\", \"25\", \"26\", \"27\", \"28\", \"29\", \"30\", \"31\", \"32\", \"33\", \"34\", \"35\", \"36\", \"37\", \"38\", \"39\", \"40\", \"41\", \"42\", \"43\", \"44\", \"45\", \"46\", \"47\", \"48\", \"49\", \"50\", \"51\", \"52\", \"53\", \"54\", \"55\", \"56\", \"57\", \"58\", \"62\", \"63\"], \"mode\": \"markers\", \"name\": \"norm_macro_recall\", \"stepped\": false, \"type\": \"scatter\", \"data\": [0.04860981058229541, 0.029206021078487777, 0.0, 0.0, 0.1613588742291608, 0.17915544452531512, 0.013907225691347013, 0.19007555625429168, 0.04499523604273583, 0.0, 0.0, 0.0, 0.024920851395867017, 0.0, 0.0, 0.0, 0.0, 0.0, 0.010172796448953702, 0.0, 0.0, 0.006860937522410193, 0.0, 0.0, 0.0, 0.0, 0.0, 0.0, 0.0, 0.06540389281012353, 0.06990424589302772, 0.056290523598292494, 0.05112798003267942, 0.06723934841851653, 0.0, 0.0, 0.0, 0.0, 0.0, 0.02296965626265579, 0.0, 0.0, 0.0, 0.004570655503369414, 0.0, 0.0, 0.06116679684041722, 0.0, 0.0, 0.0, 0.0, 0.0, 0.0, 0.0, 0.004570655503369414, 0.0, 0.0, 0.0, 0.0, 0.03421575895075786, 0.026919219764032574]}, {\"categories\": [\"0\", \"1\", \"2\", \"3\", \"4\", \"5\", \"6\", \"7\", \"8\", \"9\", \"10\", \"11\", \"12\", \"13\", \"14\", \"15\", \"16\", \"17\", \"18\", \"19\", \"20\", \"21\", \"22\", \"23\", \"24\", \"25\", \"26\", \"27\", \"28\", \"29\", \"30\", \"31\", \"32\", \"33\", \"34\", \"35\", \"36\", \"37\", \"38\", \"39\", \"40\", \"41\", \"42\", \"43\", \"44\", \"45\", \"46\", \"47\", \"48\", \"49\", \"50\", \"51\", \"52\", \"53\", \"54\", \"55\", \"56\", \"57\", \"58\", \"62\", \"63\"], \"mode\": \"lines\", \"name\": \"norm_macro_recall_max\", \"stepped\": true, \"type\": \"scatter\", \"data\": [0.04860981058229541, 0.04860981058229541, 0.04860981058229541, 0.04860981058229541, 0.1613588742291608, 0.17915544452531512, 0.17915544452531512, 0.19007555625429168, 0.19007555625429168, 0.19007555625429168, 0.19007555625429168, 0.19007555625429168, 0.19007555625429168, 0.19007555625429168, 0.19007555625429168, 0.19007555625429168, 0.19007555625429168, 0.19007555625429168, 0.19007555625429168, 0.19007555625429168, 0.19007555625429168, 0.19007555625429168, 0.19007555625429168, 0.19007555625429168, 0.19007555625429168, 0.19007555625429168, 0.19007555625429168, 0.19007555625429168, 0.19007555625429168, 0.19007555625429168, 0.19007555625429168, 0.19007555625429168, 0.19007555625429168, 0.19007555625429168, 0.19007555625429168, 0.19007555625429168, 0.19007555625429168, 0.19007555625429168, 0.19007555625429168, 0.19007555625429168, 0.19007555625429168, 0.19007555625429168, 0.19007555625429168, 0.19007555625429168, 0.19007555625429168, 0.19007555625429168, 0.19007555625429168, 0.19007555625429168, 0.19007555625429168, 0.19007555625429168, 0.19007555625429168, 0.19007555625429168, 0.19007555625429168, 0.19007555625429168, 0.19007555625429168, 0.19007555625429168, 0.19007555625429168, 0.19007555625429168, 0.19007555625429168, 0.19007555625429168, 0.19007555625429168]}], \"recall_score_macro\": [{\"categories\": [\"0\", \"1\", \"2\", \"3\", \"4\", \"5\", \"6\", \"7\", \"8\", \"9\", \"10\", \"11\", \"12\", \"13\", \"14\", \"15\", \"16\", \"17\", \"18\", \"19\", \"20\", \"21\", \"22\", \"23\", \"24\", \"25\", \"26\", \"27\", \"28\", \"29\", \"30\", \"31\", \"32\", \"33\", \"34\", \"35\", \"36\", \"37\", \"38\", \"39\", \"40\", \"41\", \"42\", \"43\", \"44\", \"45\", \"46\", \"47\", \"48\", \"49\", \"50\", \"51\", \"52\", \"53\", \"54\", \"55\", \"56\", \"57\", \"58\", \"62\", \"63\"], \"mode\": \"markers\", \"name\": \"recall_score_macro\", \"stepped\": false, \"type\": \"scatter\", \"data\": [0.5243049052911477, 0.514603010539244, 0.5, 0.5, 0.5806794371145804, 0.5895777222626577, 0.5057596530345186, 0.5950377781271459, 0.5224976180213681, 0.5, 0.5, 0.5, 0.5124604256979335, 0.5, 0.5, 0.5, 0.5, 0.5, 0.5050863982244769, 0.5, 0.5, 0.5034304687612051, 0.5, 0.5, 0.5, 0.5, 0.5, 0.5, 0.5, 0.5327019464050619, 0.5349521229465137, 0.5281452617991462, 0.5255639900163397, 0.5336196742092583, 0.5, 0.5, 0.5, 0.5, 0.5, 0.5114848281313279, 0.5, 0.5, 0.5, 0.5022853277516848, 0.5, 0.5, 0.5305833984202086, 0.5, 0.5, 0.5, 0.5, 0.5, 0.5, 0.5, 0.5022853277516848, 0.5, 0.5, 0.5, 0.5, 0.517107879475379, 0.5134596098820163]}, {\"categories\": [\"0\", \"1\", \"2\", \"3\", \"4\", \"5\", \"6\", \"7\", \"8\", \"9\", \"10\", \"11\", \"12\", \"13\", \"14\", \"15\", \"16\", \"17\", \"18\", \"19\", \"20\", \"21\", \"22\", \"23\", \"24\", \"25\", \"26\", \"27\", \"28\", \"29\", \"30\", \"31\", \"32\", \"33\", \"34\", \"35\", \"36\", \"37\", \"38\", \"39\", \"40\", \"41\", \"42\", \"43\", \"44\", \"45\", \"46\", \"47\", \"48\", \"49\", \"50\", \"51\", \"52\", \"53\", \"54\", \"55\", \"56\", \"57\", \"58\", \"62\", \"63\"], \"mode\": \"lines\", \"name\": \"recall_score_macro_max\", \"stepped\": true, \"type\": \"scatter\", \"data\": [0.5243049052911477, 0.5243049052911477, 0.5243049052911477, 0.5243049052911477, 0.5806794371145804, 0.5895777222626577, 0.5895777222626577, 0.5950377781271459, 0.5950377781271459, 0.5950377781271459, 0.5950377781271459, 0.5950377781271459, 0.5950377781271459, 0.5950377781271459, 0.5950377781271459, 0.5950377781271459, 0.5950377781271459, 0.5950377781271459, 0.5950377781271459, 0.5950377781271459, 0.5950377781271459, 0.5950377781271459, 0.5950377781271459, 0.5950377781271459, 0.5950377781271459, 0.5950377781271459, 0.5950377781271459, 0.5950377781271459, 0.5950377781271459, 0.5950377781271459, 0.5950377781271459, 0.5950377781271459, 0.5950377781271459, 0.5950377781271459, 0.5950377781271459, 0.5950377781271459, 0.5950377781271459, 0.5950377781271459, 0.5950377781271459, 0.5950377781271459, 0.5950377781271459, 0.5950377781271459, 0.5950377781271459, 0.5950377781271459, 0.5950377781271459, 0.5950377781271459, 0.5950377781271459, 0.5950377781271459, 0.5950377781271459, 0.5950377781271459, 0.5950377781271459, 0.5950377781271459, 0.5950377781271459, 0.5950377781271459, 0.5950377781271459, 0.5950377781271459, 0.5950377781271459, 0.5950377781271459, 0.5950377781271459, 0.5950377781271459, 0.5950377781271459]}], \"recall_score_weighted\": [{\"categories\": [\"0\", \"1\", \"2\", \"3\", \"4\", \"5\", \"6\", \"7\", \"8\", \"9\", \"10\", \"11\", \"12\", \"13\", \"14\", \"15\", \"16\", \"17\", \"18\", \"19\", \"20\", \"21\", \"22\", \"23\", \"24\", \"25\", \"26\", \"27\", \"28\", \"29\", \"30\", \"31\", \"32\", \"33\", \"34\", \"35\", \"36\", \"37\", \"38\", \"39\", \"40\", \"41\", \"42\", \"43\", \"44\", \"45\", \"46\", \"47\", \"48\", \"49\", \"50\", \"51\", \"52\", \"53\", \"54\", \"55\", \"56\", \"57\", \"58\", \"62\", \"63\"], \"mode\": \"markers\", \"name\": \"recall_score_weighted\", \"stepped\": false, \"type\": \"scatter\", \"data\": [0.8723860518037615, 0.8798549851638668, 0.878959462775807, 0.878959462775807, 0.6616960042835152, 0.6315110545925083, 0.8774646944648954, 0.6572009905628806, 0.8804542310867187, 0.878959462775807, 0.878959462775807, 0.878959462775807, 0.8780626017892599, 0.878959462775807, 0.878959462775807, 0.878959462775807, 0.878959462775807, 0.878959462775807, 0.8801548312250407, 0.878959462775807, 0.878959462775807, 0.8792584164379894, 0.878959462775807, 0.878959462775807, 0.878959462775807, 0.878959462775807, 0.878959462775807, 0.878959462775807, 0.878959462775807, 0.8607331057715906, 0.8556500011154988, 0.8682020391316957, 0.8690980077192514, 0.858937599000513, 0.878959462775807, 0.878959462775807, 0.878959462775807, 0.878959462775807, 0.878959462775807, 0.8801552774245364, 0.878959462775807, 0.878959462775807, 0.878959462775807, 0.8792584164379894, 0.878959462775807, 0.878959462775807, 0.8574437230885931, 0.878959462775807, 0.878959462775807, 0.878959462775807, 0.878959462775807, 0.878959462775807, 0.878959462775807, 0.878959462775807, 0.8792584164379894, 0.878959462775807, 0.878959462775807, 0.878959462775807, 0.878959462775807, 0.8822466144613257, 0.8798554313633626]}, {\"categories\": [\"0\", \"1\", \"2\", \"3\", \"4\", \"5\", \"6\", \"7\", \"8\", \"9\", \"10\", \"11\", \"12\", \"13\", \"14\", \"15\", \"16\", \"17\", \"18\", \"19\", \"20\", \"21\", \"22\", \"23\", \"24\", \"25\", \"26\", \"27\", \"28\", \"29\", \"30\", \"31\", \"32\", \"33\", \"34\", \"35\", \"36\", \"37\", \"38\", \"39\", \"40\", \"41\", \"42\", \"43\", \"44\", \"45\", \"46\", \"47\", \"48\", \"49\", \"50\", \"51\", \"52\", \"53\", \"54\", \"55\", \"56\", \"57\", \"58\", \"62\", \"63\"], \"mode\": \"lines\", \"name\": \"recall_score_weighted_max\", \"stepped\": true, \"type\": \"scatter\", \"data\": [0.8723860518037615, 0.8798549851638668, 0.8798549851638668, 0.8798549851638668, 0.8798549851638668, 0.8798549851638668, 0.8798549851638668, 0.8798549851638668, 0.8804542310867187, 0.8804542310867187, 0.8804542310867187, 0.8804542310867187, 0.8804542310867187, 0.8804542310867187, 0.8804542310867187, 0.8804542310867187, 0.8804542310867187, 0.8804542310867187, 0.8804542310867187, 0.8804542310867187, 0.8804542310867187, 0.8804542310867187, 0.8804542310867187, 0.8804542310867187, 0.8804542310867187, 0.8804542310867187, 0.8804542310867187, 0.8804542310867187, 0.8804542310867187, 0.8804542310867187, 0.8804542310867187, 0.8804542310867187, 0.8804542310867187, 0.8804542310867187, 0.8804542310867187, 0.8804542310867187, 0.8804542310867187, 0.8804542310867187, 0.8804542310867187, 0.8804542310867187, 0.8804542310867187, 0.8804542310867187, 0.8804542310867187, 0.8804542310867187, 0.8804542310867187, 0.8804542310867187, 0.8804542310867187, 0.8804542310867187, 0.8804542310867187, 0.8804542310867187, 0.8804542310867187, 0.8804542310867187, 0.8804542310867187, 0.8804542310867187, 0.8804542310867187, 0.8804542310867187, 0.8804542310867187, 0.8804542310867187, 0.8804542310867187, 0.8822466144613257, 0.8822466144613257]}], \"average_precision_score_weighted\": [{\"categories\": [\"0\", \"1\", \"2\", \"3\", \"4\", \"5\", \"6\", \"7\", \"8\", \"9\", \"10\", \"11\", \"12\", \"13\", \"14\", \"15\", \"16\", \"17\", \"18\", \"19\", \"20\", \"21\", \"22\", \"23\", \"24\", \"25\", \"26\", \"27\", \"28\", \"29\", \"30\", \"31\", \"32\", \"33\", \"34\", \"35\", \"36\", \"37\", \"38\", \"39\", \"40\", \"41\", \"42\", \"43\", \"44\", \"45\", \"46\", \"47\", \"48\", \"49\", \"50\", \"51\", \"52\", \"53\", \"54\", \"55\", \"56\", \"57\", \"58\", \"62\", \"63\"], \"mode\": \"markers\", \"name\": \"average_precision_score_weighted\", \"stepped\": false, \"type\": \"scatter\", \"data\": [0.818001567591072, 0.8309574381689986, 0.8257584004416916, 0.8259781649043448, 0.8318132066550886, 0.8234662658762923, 0.8246124193174884, 0.8253912439148523, 0.8229335598127566, 0.8337399519612212, 0.8312066152578408, 0.8330300642967456, 0.8239101227167938, 0.8262316387416455, 0.8234314971879447, 0.8304114070009538, 0.8301511769932677, 0.8294201150145877, 0.8231566700073836, 0.8270119915078608, 0.8276549246765714, 0.8261005536571684, 0.8275790537928449, 0.8284665692854875, 0.8293149807955604, 0.7949091116994765, 0.8283906841138855, 0.8281853333402271, 0.8207283500964703, 0.8171092572782765, 0.8188845722546498, 0.8176260722170616, 0.8188589884227457, 0.8164809550697589, 0.8238619595992885, 0.7872565217938792, 0.8307210303680688, 0.8329884358176349, 0.8316248997498624, 0.8246653488697289, 0.7872565217938792, 0.8262735988335352, 0.8289250941264488, 0.8291985440819319, 0.8312781622282353, 0.7872565217938792, 0.8166458542301147, 0.8320409498137531, 0.8301230404463056, 0.832058156537746, 0.7887129130866742, 0.8251607417754376, 0.8256472537416618, 0.8305512924761211, 0.8129835223544912, 0.7872565217938792, 0.8284627426687834, 0.8301418272104358, 0.8236433532984748, 0.8288356587155766, 0.8323916076539402]}, {\"categories\": [\"0\", \"1\", \"2\", \"3\", \"4\", \"5\", \"6\", \"7\", \"8\", \"9\", \"10\", \"11\", \"12\", \"13\", \"14\", \"15\", \"16\", \"17\", \"18\", \"19\", \"20\", \"21\", \"22\", \"23\", \"24\", \"25\", \"26\", \"27\", \"28\", \"29\", \"30\", \"31\", \"32\", \"33\", \"34\", \"35\", \"36\", \"37\", \"38\", \"39\", \"40\", \"41\", \"42\", \"43\", \"44\", \"45\", \"46\", \"47\", \"48\", \"49\", \"50\", \"51\", \"52\", \"53\", \"54\", \"55\", \"56\", \"57\", \"58\", \"62\", \"63\"], \"mode\": \"lines\", \"name\": \"average_precision_score_weighted_max\", \"stepped\": true, \"type\": \"scatter\", \"data\": [0.818001567591072, 0.8309574381689986, 0.8309574381689986, 0.8309574381689986, 0.8318132066550886, 0.8318132066550886, 0.8318132066550886, 0.8318132066550886, 0.8318132066550886, 0.8337399519612212, 0.8337399519612212, 0.8337399519612212, 0.8337399519612212, 0.8337399519612212, 0.8337399519612212, 0.8337399519612212, 0.8337399519612212, 0.8337399519612212, 0.8337399519612212, 0.8337399519612212, 0.8337399519612212, 0.8337399519612212, 0.8337399519612212, 0.8337399519612212, 0.8337399519612212, 0.8337399519612212, 0.8337399519612212, 0.8337399519612212, 0.8337399519612212, 0.8337399519612212, 0.8337399519612212, 0.8337399519612212, 0.8337399519612212, 0.8337399519612212, 0.8337399519612212, 0.8337399519612212, 0.8337399519612212, 0.8337399519612212, 0.8337399519612212, 0.8337399519612212, 0.8337399519612212, 0.8337399519612212, 0.8337399519612212, 0.8337399519612212, 0.8337399519612212, 0.8337399519612212, 0.8337399519612212, 0.8337399519612212, 0.8337399519612212, 0.8337399519612212, 0.8337399519612212, 0.8337399519612212, 0.8337399519612212, 0.8337399519612212, 0.8337399519612212, 0.8337399519612212, 0.8337399519612212, 0.8337399519612212, 0.8337399519612212, 0.8337399519612212, 0.8337399519612212]}], \"precision_score_macro\": [{\"categories\": [\"0\", \"1\", \"2\", \"3\", \"4\", \"5\", \"6\", \"7\", \"8\", \"9\", \"10\", \"11\", \"12\", \"13\", \"14\", \"15\", \"16\", \"17\", \"18\", \"19\", \"20\", \"21\", \"22\", \"23\", \"24\", \"25\", \"26\", \"27\", \"28\", \"29\", \"30\", \"31\", \"32\", \"33\", \"34\", \"35\", \"36\", \"37\", \"38\", \"39\", \"40\", \"41\", \"42\", \"43\", \"44\", \"45\", \"46\", \"47\", \"48\", \"49\", \"50\", \"51\", \"52\", \"53\", \"54\", \"55\", \"56\", \"57\", \"58\", \"62\", \"63\"], \"mode\": \"markers\", \"name\": \"precision_score_macro\", \"stepped\": false, \"type\": \"scatter\", \"data\": [0.6257814464359828, 0.7114984973388535, 0.4394797313879035, 0.4394797313879035, 0.5385113269335334, 0.5408718686355621, 0.5900755047719286, 0.5440399951148007, 0.7359137655471809, 0.4394797313879035, 0.4394797313879035, 0.4394797313879035, 0.6491341770017877, 0.4394797313879035, 0.4394797313879035, 0.4394797313879035, 0.4394797313879035, 0.4394797313879035, 0.740008274507251, 0.4394797313879035, 0.4394797313879035, 0.6398391007498317, 0.4394797313879035, 0.4394797313879035, 0.4394797313879035, 0.4394797313879035, 0.4394797313879035, 0.4394797313879035, 0.4394797313879035, 0.5930975083008645, 0.5806451845752116, 0.6064955372080534, 0.6100011138674825, 0.5835288090261221, 0.4394797313879035, 0.4394797313879035, 0.4394797313879035, 0.4394797313879035, 0.4394797313879035, 0.7990280398447204, 0.4394797313879035, 0.4394797313879035, 0.4394797313879035, 0.5897248104687486, 0.4394797313879035, 0.4394797313879035, 0.5767307898610723, 0.4394797313879035, 0.4394797313879035, 0.4394797313879035, 0.4394797313879035, 0.4394797313879035, 0.4394797313879035, 0.4394797313879035, 0.5897248104687486, 0.4394797313879035, 0.4394797313879035, 0.4394797313879035, 0.4394797313879035, 0.8712795045625406, 0.7575746494483666]}, {\"categories\": [\"0\", \"1\", \"2\", \"3\", \"4\", \"5\", \"6\", \"7\", \"8\", \"9\", \"10\", \"11\", \"12\", \"13\", \"14\", \"15\", \"16\", \"17\", \"18\", \"19\", \"20\", \"21\", \"22\", \"23\", \"24\", \"25\", \"26\", \"27\", \"28\", \"29\", \"30\", \"31\", \"32\", \"33\", \"34\", \"35\", \"36\", \"37\", \"38\", \"39\", \"40\", \"41\", \"42\", \"43\", \"44\", \"45\", \"46\", \"47\", \"48\", \"49\", \"50\", \"51\", \"52\", \"53\", \"54\", \"55\", \"56\", \"57\", \"58\", \"62\", \"63\"], \"mode\": \"lines\", \"name\": \"precision_score_macro_max\", \"stepped\": true, \"type\": \"scatter\", \"data\": [0.6257814464359828, 0.7114984973388535, 0.7114984973388535, 0.7114984973388535, 0.7114984973388535, 0.7114984973388535, 0.7114984973388535, 0.7114984973388535, 0.7359137655471809, 0.7359137655471809, 0.7359137655471809, 0.7359137655471809, 0.7359137655471809, 0.7359137655471809, 0.7359137655471809, 0.7359137655471809, 0.7359137655471809, 0.7359137655471809, 0.740008274507251, 0.740008274507251, 0.740008274507251, 0.740008274507251, 0.740008274507251, 0.740008274507251, 0.740008274507251, 0.740008274507251, 0.740008274507251, 0.740008274507251, 0.740008274507251, 0.740008274507251, 0.740008274507251, 0.740008274507251, 0.740008274507251, 0.740008274507251, 0.740008274507251, 0.740008274507251, 0.740008274507251, 0.740008274507251, 0.740008274507251, 0.7990280398447204, 0.7990280398447204, 0.7990280398447204, 0.7990280398447204, 0.7990280398447204, 0.7990280398447204, 0.7990280398447204, 0.7990280398447204, 0.7990280398447204, 0.7990280398447204, 0.7990280398447204, 0.7990280398447204, 0.7990280398447204, 0.7990280398447204, 0.7990280398447204, 0.7990280398447204, 0.7990280398447204, 0.7990280398447204, 0.7990280398447204, 0.7990280398447204, 0.8712795045625406, 0.8712795045625406]}], \"average_precision_score_macro\": [{\"categories\": [\"0\", \"1\", \"2\", \"3\", \"4\", \"5\", \"6\", \"7\", \"8\", \"9\", \"10\", \"11\", \"12\", \"13\", \"14\", \"15\", \"16\", \"17\", \"18\", \"19\", \"20\", \"21\", \"22\", \"23\", \"24\", \"25\", \"26\", \"27\", \"28\", \"29\", \"30\", \"31\", \"32\", \"33\", \"34\", \"35\", \"36\", \"37\", \"38\", \"39\", \"40\", \"41\", \"42\", \"43\", \"44\", \"45\", \"46\", \"47\", \"48\", \"49\", \"50\", \"51\", \"52\", \"53\", \"54\", \"55\", \"56\", \"57\", \"58\", \"62\", \"63\"], \"mode\": \"markers\", \"name\": \"average_precision_score_macro\", \"stepped\": false, \"type\": \"scatter\", \"data\": [0.5502394688010714, 0.5666383423613146, 0.5563563157497662, 0.5570589659799741, 0.5650018113358136, 0.5519629912918478, 0.5541963754737023, 0.5592739436992786, 0.5576538581180837, 0.5603666617721101, 0.5552349005149471, 0.5609399416059464, 0.5585467433324119, 0.5615710469332317, 0.550498623282067, 0.5553673158339785, 0.5578350306724775, 0.5577541867506323, 0.5579319265305825, 0.5555067266174996, 0.5508929196220138, 0.553285712662512, 0.555004952080159, 0.5523581717613885, 0.5591701837093312, 0.5122061135345938, 0.5525286145196986, 0.5563451822711606, 0.5483185354583734, 0.5519675717972733, 0.550745132935633, 0.55496174432074, 0.5535322723170764, 0.550329126520636, 0.551637219092681, 0.5, 0.561669020221569, 0.561425689497258, 0.5586288383921709, 0.55863908993774, 0.5, 0.5532278697203598, 0.5561392729798611, 0.5579698069822673, 0.5596415132376007, 0.5, 0.5510981286804961, 0.5646591655993716, 0.5640071148536425, 0.5600037530624082, 0.501760293475915, 0.5480106409935888, 0.551223279170263, 0.5533552442706734, 0.5408473477461034, 0.5, 0.5552535243747494, 0.5583524749249913, 0.5491605461501601, 0.5675343988516062, 0.5689344772595023]}, {\"categories\": [\"0\", \"1\", \"2\", \"3\", \"4\", \"5\", \"6\", \"7\", \"8\", \"9\", \"10\", \"11\", \"12\", \"13\", \"14\", \"15\", \"16\", \"17\", \"18\", \"19\", \"20\", \"21\", \"22\", \"23\", \"24\", \"25\", \"26\", \"27\", \"28\", \"29\", \"30\", \"31\", \"32\", \"33\", \"34\", \"35\", \"36\", \"37\", \"38\", \"39\", \"40\", \"41\", \"42\", \"43\", \"44\", \"45\", \"46\", \"47\", \"48\", \"49\", \"50\", \"51\", \"52\", \"53\", \"54\", \"55\", \"56\", \"57\", \"58\", \"62\", \"63\"], \"mode\": \"lines\", \"name\": \"average_precision_score_macro_max\", \"stepped\": true, \"type\": \"scatter\", \"data\": [0.5502394688010714, 0.5666383423613146, 0.5666383423613146, 0.5666383423613146, 0.5666383423613146, 0.5666383423613146, 0.5666383423613146, 0.5666383423613146, 0.5666383423613146, 0.5666383423613146, 0.5666383423613146, 0.5666383423613146, 0.5666383423613146, 0.5666383423613146, 0.5666383423613146, 0.5666383423613146, 0.5666383423613146, 0.5666383423613146, 0.5666383423613146, 0.5666383423613146, 0.5666383423613146, 0.5666383423613146, 0.5666383423613146, 0.5666383423613146, 0.5666383423613146, 0.5666383423613146, 0.5666383423613146, 0.5666383423613146, 0.5666383423613146, 0.5666383423613146, 0.5666383423613146, 0.5666383423613146, 0.5666383423613146, 0.5666383423613146, 0.5666383423613146, 0.5666383423613146, 0.5666383423613146, 0.5666383423613146, 0.5666383423613146, 0.5666383423613146, 0.5666383423613146, 0.5666383423613146, 0.5666383423613146, 0.5666383423613146, 0.5666383423613146, 0.5666383423613146, 0.5666383423613146, 0.5666383423613146, 0.5666383423613146, 0.5666383423613146, 0.5666383423613146, 0.5666383423613146, 0.5666383423613146, 0.5666383423613146, 0.5666383423613146, 0.5666383423613146, 0.5666383423613146, 0.5666383423613146, 0.5666383423613146, 0.5675343988516062, 0.5689344772595023]}]}, \"metricName\": null, \"primaryMetricName\": \"accuracy\", \"showLegend\": false}, \"run_metrics\": [{\"name\": \"experiment_status\", \"run_id\": \"AutoML_4d4ae00d-b3c4-4fab-9d9b-ad149eaaaa3b\", \"categories\": [0, 1, 2, 3, 4, 5, 6, 7, 8, 9, 10, 11, 12, 13, 14], \"series\": [{\"data\": [\"DatasetEvaluation\", \"FeaturesGeneration\", \"DatasetFeaturization\", \"DatasetFeaturizationCompleted\", \"DatasetBalancing\", \"DatasetCrossValidationSplit\", \"ModelSelection\", \"BestRunExplainModel\", \"ModelExplanationDataSetSetup\", \"PickSurrogateModel\", \"EngineeredFeatureExplanations\", \"EngineeredFeatureExplanations\", \"RawFeaturesExplanations\", \"RawFeaturesExplanations\", \"BestRunExplainModel\"]}]}, {\"name\": \"experiment_status_description\", \"run_id\": \"AutoML_4d4ae00d-b3c4-4fab-9d9b-ad149eaaaa3b\", \"categories\": [0, 1, 2, 3, 4, 5, 6, 7, 8, 9, 10, 11, 12, 13, 14], \"series\": [{\"data\": [\"Gathering dataset statistics.\", \"Generating features for the dataset.\", \"Beginning to fit featurizers and featurize the dataset.\", \"Completed fit featurizers and featurizing the dataset.\", \"Performing class balancing sweeping\", \"Generating individually featurized CV splits.\", \"Beginning model selection.\", \"Best run model explanations started\", \"Model explanations data setup completed\", \"Choosing LightGBM as the surrogate model for explanations\", \"Computation of engineered features started\", \"Computation of engineered features completed\", \"Computation of raw features started\", \"Computation of raw features completed\", \"Best run model explanations completed\"]}]}, {\"name\": \"AUC_micro\", \"run_id\": \"AutoML_4d4ae00d-b3c4-4fab-9d9b-ad149eaaaa3b\", \"categories\": [0], \"series\": [{\"data\": [0.9040676022588008]}]}, {\"name\": \"accuracy\", \"run_id\": \"AutoML_4d4ae00d-b3c4-4fab-9d9b-ad149eaaaa3b\", \"categories\": [0], \"series\": [{\"data\": [0.8822466144613257]}]}, {\"name\": \"average_precision_score_weighted\", \"run_id\": \"AutoML_4d4ae00d-b3c4-4fab-9d9b-ad149eaaaa3b\", \"categories\": [0], \"series\": [{\"data\": [0.8288356587155766]}]}, {\"name\": \"precision_score_macro\", \"run_id\": \"AutoML_4d4ae00d-b3c4-4fab-9d9b-ad149eaaaa3b\", \"categories\": [0], \"series\": [{\"data\": [0.8712795045625406]}]}, {\"name\": \"matthews_correlation\", \"run_id\": \"AutoML_4d4ae00d-b3c4-4fab-9d9b-ad149eaaaa3b\", \"categories\": [0], \"series\": [{\"data\": [0.15225145018505634]}]}, {\"name\": \"norm_macro_recall\", \"run_id\": \"AutoML_4d4ae00d-b3c4-4fab-9d9b-ad149eaaaa3b\", \"categories\": [0], \"series\": [{\"data\": [0.03421575895075786]}]}, {\"name\": \"average_precision_score_macro\", \"run_id\": \"AutoML_4d4ae00d-b3c4-4fab-9d9b-ad149eaaaa3b\", \"categories\": [0], \"series\": [{\"data\": [0.5675343988516062]}]}, {\"name\": \"balanced_accuracy\", \"run_id\": \"AutoML_4d4ae00d-b3c4-4fab-9d9b-ad149eaaaa3b\", \"categories\": [0], \"series\": [{\"data\": [0.517107879475379]}]}, {\"name\": \"weighted_accuracy\", \"run_id\": \"AutoML_4d4ae00d-b3c4-4fab-9d9b-ad149eaaaa3b\", \"categories\": [0], \"series\": [{\"data\": [0.9809836270291413]}]}, {\"name\": \"log_loss\", \"run_id\": \"AutoML_4d4ae00d-b3c4-4fab-9d9b-ad149eaaaa3b\", \"categories\": [0], \"series\": [{\"data\": [0.36128769225985524]}]}, {\"name\": \"AUC_macro\", \"run_id\": \"AutoML_4d4ae00d-b3c4-4fab-9d9b-ad149eaaaa3b\", \"categories\": [0], \"series\": [{\"data\": [0.6183238946164712]}]}, {\"name\": \"AUC_weighted\", \"run_id\": \"AutoML_4d4ae00d-b3c4-4fab-9d9b-ad149eaaaa3b\", \"categories\": [0], \"series\": [{\"data\": [0.6183238946164711]}]}, {\"name\": \"precision_score_weighted\", \"run_id\": \"AutoML_4d4ae00d-b3c4-4fab-9d9b-ad149eaaaa3b\", \"categories\": [0], \"series\": [{\"data\": [0.879767034650054]}]}, {\"name\": \"average_precision_score_micro\", \"run_id\": \"AutoML_4d4ae00d-b3c4-4fab-9d9b-ad149eaaaa3b\", \"categories\": [0], \"series\": [{\"data\": [0.8863526702255718]}]}, {\"name\": \"f1_score_macro\", \"run_id\": \"AutoML_4d4ae00d-b3c4-4fab-9d9b-ad149eaaaa3b\", \"categories\": [0], \"series\": [{\"data\": [0.5020454945811144]}]}, {\"name\": \"f1_score_micro\", \"run_id\": \"AutoML_4d4ae00d-b3c4-4fab-9d9b-ad149eaaaa3b\", \"categories\": [0], \"series\": [{\"data\": [0.8822466144613257]}]}, {\"name\": \"recall_score_micro\", \"run_id\": \"AutoML_4d4ae00d-b3c4-4fab-9d9b-ad149eaaaa3b\", \"categories\": [0], \"series\": [{\"data\": [0.8822466144613257]}]}, {\"name\": \"f1_score_weighted\", \"run_id\": \"AutoML_4d4ae00d-b3c4-4fab-9d9b-ad149eaaaa3b\", \"categories\": [0], \"series\": [{\"data\": [0.8316884986041069]}]}, {\"name\": \"precision_score_micro\", \"run_id\": \"AutoML_4d4ae00d-b3c4-4fab-9d9b-ad149eaaaa3b\", \"categories\": [0], \"series\": [{\"data\": [0.8822466144613257]}]}, {\"name\": \"recall_score_macro\", \"run_id\": \"AutoML_4d4ae00d-b3c4-4fab-9d9b-ad149eaaaa3b\", \"categories\": [0], \"series\": [{\"data\": [0.517107879475379]}]}, {\"name\": \"recall_score_weighted\", \"run_id\": \"AutoML_4d4ae00d-b3c4-4fab-9d9b-ad149eaaaa3b\", \"categories\": [0], \"series\": [{\"data\": [0.8822466144613257]}]}], \"run_logs\": \"\\nRun is completed.\", \"graph\": {}, \"widget_settings\": {\"childWidgetDisplay\": \"popup\", \"send_telemetry\": false, \"log_level\": \"INFO\", \"sdk_version\": \"1.20.0\"}, \"loading\": false}"
     },
     "metadata": {},
     "output_type": "display_data"
    },
    {
     "name": "stdout",
     "output_type": "stream",
     "text": [
      "\n",
      "Current status: FeaturesGeneration. Generating features for the dataset.\n",
      "Current status: DatasetBalancing. Performing class balancing sweeping\n",
      "Current status: DatasetCrossValidationSplit. Generating individually featurized CV splits.\n",
      "Current status: ModelSelection. Beginning model selection.\n",
      "\n",
      "****************************************************************************************************\n",
      "DATA GUARDRAILS: \n",
      "\n",
      "TYPE:         Class balancing detection\n",
      "STATUS:       ALERTED\n",
      "DESCRIPTION:  To decrease model bias, please cancel the current run and fix balancing problem.\n",
      "              Learn more about imbalanced data: https://aka.ms/AutomatedMLImbalancedData\n",
      "DETAILS:      Imbalanced data can lead to a falsely perceived positive effect of a model's accuracy because the input data has bias towards one class.\n",
      "+---------------------------------+---------------------------------+--------------------------------------+\n",
      "|Size of the smallest class       |Name/Label of the smallest class |Number of samples in the training data|\n",
      "+=================================+=================================+======================================+\n",
      "|405                              |1                                |3346                                  |\n",
      "+---------------------------------+---------------------------------+--------------------------------------+\n",
      "\n",
      "****************************************************************************************************\n",
      "\n",
      "TYPE:         Missing feature values imputation\n",
      "STATUS:       PASSED\n",
      "DESCRIPTION:  No feature missing values were detected in the training data.\n",
      "              Learn more about missing value imputation: https://aka.ms/AutomatedMLFeaturization\n",
      "\n",
      "****************************************************************************************************\n",
      "\n",
      "TYPE:         High cardinality feature detection\n",
      "STATUS:       PASSED\n",
      "DESCRIPTION:  Your inputs were analyzed, and no high cardinality features were detected.\n",
      "              Learn more about high cardinality feature handling: https://aka.ms/AutomatedMLFeaturization\n",
      "\n",
      "****************************************************************************************************\n",
      "\n",
      "****************************************************************************************************\n",
      "ITERATION: The iteration being evaluated.\n",
      "PIPELINE: A summary description of the pipeline being evaluated.\n",
      "DURATION: Time taken for the current iteration.\n",
      "METRIC: The result of computing score on the fitted pipeline.\n",
      "BEST: The best observed score thus far.\n",
      "****************************************************************************************************\n",
      "\n",
      " ITERATION   PIPELINE                                       DURATION      METRIC      BEST\n",
      "         4   MaxAbsScaler RandomForest                      0:00:55       0.6617    0.6617\n",
      "         0   MaxAbsScaler LightGBM                          0:00:50       0.8724    0.8724\n",
      "         1   MaxAbsScaler XGBoostClassifier                 0:01:02       0.8799    0.8799\n",
      "         2   MaxAbsScaler RandomForest                      0:01:05       0.8790    0.8799\n",
      "         8   SparseNormalizer XGBoostClassifier             0:00:55       0.8805    0.8805\n",
      "         9   MaxAbsScaler LightGBM                          0:00:48       0.8790    0.8805\n",
      "        10   StandardScalerWrapper LightGBM                 0:00:49       0.8790    0.8805\n",
      "        11   MaxAbsScaler LightGBM                          0:00:49       0.8790    0.8805\n",
      "         3   MaxAbsScaler RandomForest                      0:05:21       0.8790    0.8805\n",
      "         5   MaxAbsScaler RandomForest                      0:05:23       0.6315    0.8805\n",
      "         7   StandardScalerWrapper LogisticRegression       0:05:25       0.6572    0.8805\n",
      "         6   SparseNormalizer XGBoostClassifier             0:05:30       0.8775    0.8805\n",
      "        12   MaxAbsScaler LogisticRegression                0:00:47       0.8781    0.8805\n",
      "        13   SparseNormalizer XGBoostClassifier             0:00:54       0.8790    0.8805\n",
      "        14   SparseNormalizer LightGBM                      0:00:51       0.8790    0.8805\n",
      "        15   MaxAbsScaler LightGBM                          0:00:48       0.8790    0.8805\n",
      "        16   MaxAbsScaler LightGBM                          0:00:51       0.8790    0.8805\n",
      "        17   StandardScalerWrapper LightGBM                 0:00:52       0.8790    0.8805\n",
      "        18   StandardScalerWrapper XGBoostClassifier        0:00:53       0.8802    0.8805\n",
      "        20   StandardScalerWrapper LightGBM                 0:00:52       0.8790    0.8805\n",
      "        19   MaxAbsScaler LightGBM                          0:00:55       0.8790    0.8805\n",
      "        21   StandardScalerWrapper LightGBM                 0:00:51       0.8793    0.8805\n",
      "        22   SparseNormalizer LightGBM                      0:00:56       0.8790    0.8805\n",
      "        23   StandardScalerWrapper LightGBM                 0:00:54       0.8790    0.8805\n",
      "        25   TruncatedSVDWrapper XGBoostClassifier          0:00:47       0.8790    0.8805\n",
      "        24   MaxAbsScaler ExtremeRandomTrees                0:00:55       0.8790    0.8805\n",
      "        26   StandardScalerWrapper LightGBM                 0:00:52       0.8790    0.8805\n",
      "        27   SparseNormalizer LightGBM                      0:00:59       0.8790    0.8805\n",
      "        28   SparseNormalizer LightGBM                      0:00:49       0.8790    0.8805\n",
      "        31   StandardScalerWrapper XGBoostClassifier        0:00:51       0.8682    0.8805\n",
      "        29   StandardScalerWrapper XGBoostClassifier        0:01:06       0.8607    0.8805\n",
      "        30   StandardScalerWrapper XGBoostClassifier        0:01:04       0.8557    0.8805\n",
      "        32   StandardScalerWrapper XGBoostClassifier        0:00:51       0.8691    0.8805\n",
      "        33   StandardScalerWrapper XGBoostClassifier        0:00:58       0.8589    0.8805\n",
      "        34   SparseNormalizer LightGBM                      0:00:56       0.8790    0.8805\n",
      "        35   SparseNormalizer XGBoostClassifier             0:00:51       0.8790    0.8805\n",
      "        36   MaxAbsScaler ExtremeRandomTrees                0:00:58       0.8790    0.8805\n",
      "        37   StandardScalerWrapper ExtremeRandomTrees       0:00:55       0.8790    0.8805\n",
      "        38   StandardScalerWrapper LightGBM                 0:00:56       0.8790    0.8805\n",
      "        39   SparseNormalizer XGBoostClassifier             0:00:56       0.8802    0.8805\n",
      "        40   SparseNormalizer XGBoostClassifier             0:00:56       0.8790    0.8805\n",
      "        41   SparseNormalizer LightGBM                      0:00:53       0.8790    0.8805\n",
      "        42   SparseNormalizer LightGBM                      0:01:00       0.8790    0.8805\n",
      "        43   SparseNormalizer XGBoostClassifier             0:00:46       0.8793    0.8805\n",
      "        44   StandardScalerWrapper LightGBM                 0:00:56       0.8790    0.8805\n",
      "        45   TruncatedSVDWrapper XGBoostClassifier          0:00:55       0.8790    0.8805\n",
      "        46   StandardScalerWrapper XGBoostClassifier        0:00:57       0.8574    0.8805\n",
      "        47   MaxAbsScaler LightGBM                          0:00:56       0.8790    0.8805\n",
      "        48   StandardScalerWrapper RandomForest             0:00:55       0.8790    0.8805\n",
      "        49   MaxAbsScaler LightGBM                          0:00:46       0.8790    0.8805\n",
      "        50   TruncatedSVDWrapper XGBoostClassifier          0:00:54       0.8790    0.8805\n",
      "        51   SparseNormalizer LightGBM                      0:00:49       0.8790    0.8805\n",
      "        52   SparseNormalizer LightGBM                      0:00:46       0.8790    0.8805\n",
      "        53   StandardScalerWrapper LightGBM                 0:00:52       0.8790    0.8805\n",
      "        55   SparseNormalizer XGBoostClassifier             0:00:49       0.8790    0.8805\n",
      "        56   StandardScalerWrapper LightGBM                 0:00:49       0.8790    0.8805\n",
      "        54   SparseNormalizer XGBoostClassifier             0:01:21       0.8793    0.8805\n",
      "        57   StandardScalerWrapper LightGBM                 0:00:58       0.8790    0.8805\n",
      "        58   SparseNormalizer LightGBM                      0:00:43       0.8790    0.8805\n",
      "ERROR: {\n",
      "    \"additional_properties\": {},\n",
      "    \"error\": {\n",
      "        \"additional_properties\": {\n",
      "            \"debugInfo\": null\n",
      "        },\n",
      "        \"code\": \"UserError\",\n",
      "        \"severity\": null,\n",
      "        \"message\": \"Experiment timeout reached, please consider increasing your experiment timeout.\",\n",
      "        \"message_format\": \"Experiment timeout reached, please consider increasing your experiment timeout.\",\n",
      "        \"message_parameters\": {},\n",
      "        \"reference_code\": null,\n",
      "        \"details_uri\": null,\n",
      "        \"target\": null,\n",
      "        \"details\": [],\n",
      "        \"inner_error\": {\n",
      "            \"additional_properties\": {},\n",
      "            \"code\": \"ResourceExhausted\",\n",
      "            \"inner_error\": {\n",
      "                \"additional_properties\": {},\n",
      "                \"code\": \"Timeout\",\n",
      "                \"inner_error\": {\n",
      "                    \"additional_properties\": {},\n",
      "                    \"code\": \"ExperimentTimeoutForIterations\",\n",
      "                    \"inner_error\": null\n",
      "                }\n",
      "            }\n",
      "        }\n",
      "    },\n",
      "    \"correlation\": null,\n",
      "    \"environment\": null,\n",
      "    \"location\": null,\n",
      "    \"time\": {},\n",
      "    \"component_name\": null\n",
      "}\n"
     ]
    },
    {
     "name": "stdout",
     "output_type": "stream",
     "text": [
      "        59                                                  0:00:19          nan    0.8805\n",
      "ERROR: {\n",
      "    \"additional_properties\": {},\n",
      "    \"error\": {\n",
      "        \"additional_properties\": {\n",
      "            \"debugInfo\": null\n",
      "        },\n",
      "        \"code\": \"UserError\",\n",
      "        \"severity\": null,\n",
      "        \"message\": \"Experiment timeout reached, please consider increasing your experiment timeout.\",\n",
      "        \"message_format\": \"Experiment timeout reached, please consider increasing your experiment timeout.\",\n",
      "        \"message_parameters\": {},\n",
      "        \"reference_code\": null,\n",
      "        \"details_uri\": null,\n",
      "        \"target\": null,\n",
      "        \"details\": [],\n",
      "        \"inner_error\": {\n",
      "            \"additional_properties\": {},\n",
      "            \"code\": \"ResourceExhausted\",\n",
      "            \"inner_error\": {\n",
      "                \"additional_properties\": {},\n",
      "                \"code\": \"Timeout\",\n",
      "                \"inner_error\": {\n",
      "                    \"additional_properties\": {},\n",
      "                    \"code\": \"ExperimentTimeoutForIterations\",\n",
      "                    \"inner_error\": null\n",
      "                }\n",
      "            }\n",
      "        }\n",
      "    },\n",
      "    \"correlation\": null,\n",
      "    \"environment\": null,\n",
      "    \"location\": null,\n",
      "    \"time\": {},\n",
      "    \"component_name\": null\n",
      "}\n",
      "        60                                                  0:00:15          nan    0.8805\n",
      "ERROR: {\n",
      "    \"additional_properties\": {},\n",
      "    \"error\": {\n",
      "        \"additional_properties\": {\n",
      "            \"debugInfo\": null\n",
      "        },\n",
      "        \"code\": \"UserError\",\n",
      "        \"severity\": null,\n",
      "        \"message\": \"Experiment timeout reached, please consider increasing your experiment timeout.\",\n",
      "        \"message_format\": \"Experiment timeout reached, please consider increasing your experiment timeout.\",\n",
      "        \"message_parameters\": {},\n",
      "        \"reference_code\": null,\n",
      "        \"details_uri\": null,\n",
      "        \"target\": null,\n",
      "        \"details\": [],\n",
      "        \"inner_error\": {\n",
      "            \"additional_properties\": {},\n",
      "            \"code\": \"ResourceExhausted\",\n",
      "            \"inner_error\": {\n",
      "                \"additional_properties\": {},\n",
      "                \"code\": \"Timeout\",\n",
      "                \"inner_error\": {\n",
      "                    \"additional_properties\": {},\n",
      "                    \"code\": \"ExperimentTimeoutForIterations\",\n",
      "                    \"inner_error\": null\n",
      "                }\n",
      "            }\n",
      "        }\n",
      "    },\n",
      "    \"correlation\": null,\n",
      "    \"environment\": null,\n",
      "    \"location\": null,\n",
      "    \"time\": {},\n",
      "    \"component_name\": null\n",
      "}\n",
      "        61                                                  0:00:08          nan    0.8805\n",
      "ERROR: {\n",
      "    \"additional_properties\": {},\n",
      "    \"error\": {\n",
      "        \"additional_properties\": {\n",
      "            \"debugInfo\": null\n",
      "        },\n",
      "        \"code\": \"UserError\",\n",
      "        \"severity\": null,\n",
      "        \"message\": \"Experiment timeout reached, please consider increasing your experiment timeout.\",\n",
      "        \"message_format\": \"Experiment timeout reached, please consider increasing your experiment timeout.\",\n",
      "        \"message_parameters\": {},\n",
      "        \"reference_code\": null,\n",
      "        \"details_uri\": null,\n",
      "        \"target\": null,\n",
      "        \"details\": [],\n",
      "        \"inner_error\": {\n",
      "            \"additional_properties\": {},\n",
      "            \"code\": \"ResourceExhausted\",\n",
      "            \"inner_error\": {\n",
      "                \"additional_properties\": {},\n",
      "                \"code\": \"Timeout\",\n",
      "                \"inner_error\": {\n",
      "                    \"additional_properties\": {},\n",
      "                    \"code\": \"ExperimentTimeoutForIterations\",\n",
      "                    \"inner_error\": null\n",
      "                }\n",
      "            }\n",
      "        }\n",
      "    },\n",
      "    \"correlation\": null,\n",
      "    \"environment\": null,\n",
      "    \"location\": null,\n",
      "    \"time\": {},\n",
      "    \"component_name\": null\n",
      "}\n",
      "        62    VotingEnsemble                                0:01:50       0.8822    0.8822\n",
      "        63    StackEnsemble                                 0:01:46       0.8799    0.8822\n"
     ]
    },
    {
     "data": {
      "text/plain": [
       "{'runId': 'AutoML_4d4ae00d-b3c4-4fab-9d9b-ad149eaaaa3b',\n",
       " 'target': 'ccp03aml',\n",
       " 'status': 'Completed',\n",
       " 'startTimeUtc': '2021-01-29T10:33:12.783183Z',\n",
       " 'endTimeUtc': '2021-01-29T11:06:47.974305Z',\n",
       " 'properties': {'num_iterations': '1000',\n",
       "  'training_type': 'TrainFull',\n",
       "  'acquisition_function': 'EI',\n",
       "  'primary_metric': 'accuracy',\n",
       "  'train_split': '0',\n",
       "  'acquisition_parameter': '0',\n",
       "  'num_cross_validation': '5',\n",
       "  'target': 'ccp03aml',\n",
       "  'AMLSettingsJsonString': '{\"path\":null,\"name\":\"expp03ht\",\"subscription_id\":\"1b944a9b-fdae-4f97-aeb1-b7eea0beac53\",\"resource_group\":\"aml-quickstarts-136496\",\"workspace_name\":\"quick-starts-ws-136496\",\"region\":\"southcentralus\",\"compute_target\":\"ccp03aml\",\"spark_service\":null,\"azure_service\":\"remote\",\"many_models\":false,\"pipeline_fetch_max_batch_size\":1,\"iterations\":1000,\"primary_metric\":\"accuracy\",\"task_type\":\"classification\",\"data_script\":null,\"validation_size\":0.0,\"n_cross_validations\":5,\"y_min\":null,\"y_max\":null,\"num_classes\":null,\"featurization\":\"auto\",\"_ignore_package_version_incompatibilities\":false,\"is_timeseries\":false,\"max_cores_per_iteration\":1,\"max_concurrent_iterations\":5,\"iteration_timeout_minutes\":null,\"mem_in_mb\":null,\"enforce_time_on_windows\":false,\"experiment_timeout_minutes\":20,\"experiment_exit_score\":null,\"whitelist_models\":null,\"blacklist_algos\":[\"TensorFlowLinearClassifier\",\"TensorFlowDNN\"],\"supported_models\":[\"LightGBM\",\"AveragedPerceptronClassifier\",\"LogisticRegression\",\"SGD\",\"BernoulliNaiveBayes\",\"MultinomialNaiveBayes\",\"KNN\",\"RandomForest\",\"ExtremeRandomTrees\",\"SVM\",\"XGBoostClassifier\",\"GradientBoosting\",\"TensorFlowLinearClassifier\",\"TensorFlowDNN\",\"DecisionTree\",\"LinearSVM\"],\"auto_blacklist\":true,\"blacklist_samples_reached\":false,\"exclude_nan_labels\":true,\"verbosity\":20,\"_debug_log\":\"azureml_automl.log\",\"show_warnings\":false,\"model_explainability\":true,\"service_url\":null,\"sdk_url\":null,\"sdk_packages\":null,\"enable_onnx_compatible_models\":false,\"enable_split_onnx_featurizer_estimator_models\":false,\"vm_type\":\"STANDARD_D2_V2\",\"telemetry_verbosity\":20,\"send_telemetry\":true,\"enable_dnn\":false,\"scenario\":\"SDK-1.13.0\",\"environment_label\":null,\"force_text_dnn\":false,\"enable_feature_sweeping\":true,\"enable_early_stopping\":false,\"early_stopping_n_iters\":10,\"metrics\":null,\"enable_ensembling\":true,\"enable_stack_ensembling\":true,\"ensemble_iterations\":15,\"enable_tf\":false,\"enable_subsampling\":null,\"subsample_seed\":null,\"enable_nimbusml\":false,\"enable_streaming\":false,\"force_streaming\":false,\"track_child_runs\":true,\"allowed_private_models\":[],\"label_column_name\":\"sexo\",\"weight_column_name\":null,\"cv_split_column_names\":null,\"enable_local_managed\":false,\"_local_managed_run_id\":null,\"cost_mode\":1,\"lag_length\":0,\"metric_operation\":\"maximize\",\"preprocess\":true}',\n",
       "  'DataPrepJsonString': '{\\\\\"training_data\\\\\": \\\\\"{\\\\\\\\\\\\\"blocks\\\\\\\\\\\\\": [{\\\\\\\\\\\\\"id\\\\\\\\\\\\\": \\\\\\\\\\\\\"d781c78a-7bc1-4170-8771-ec781cb006f0\\\\\\\\\\\\\", \\\\\\\\\\\\\"type\\\\\\\\\\\\\": \\\\\\\\\\\\\"Microsoft.DPrep.GetFilesBlock\\\\\\\\\\\\\", \\\\\\\\\\\\\"arguments\\\\\\\\\\\\\": {\\\\\\\\\\\\\"isArchive\\\\\\\\\\\\\": false, \\\\\\\\\\\\\"path\\\\\\\\\\\\\": {\\\\\\\\\\\\\"target\\\\\\\\\\\\\": 4, \\\\\\\\\\\\\"resourceDetails\\\\\\\\\\\\\": [{\\\\\\\\\\\\\"path\\\\\\\\\\\\\": \\\\\\\\\\\\\"https://raw.githubusercontent.com/hftamayo/azuremlproj03/main/cad2018.csv\\\\\\\\\\\\\"}]}}, \\\\\\\\\\\\\"localData\\\\\\\\\\\\\": {}, \\\\\\\\\\\\\"isEnabled\\\\\\\\\\\\\": true, \\\\\\\\\\\\\"name\\\\\\\\\\\\\": null, \\\\\\\\\\\\\"annotation\\\\\\\\\\\\\": null}, {\\\\\\\\\\\\\"id\\\\\\\\\\\\\": \\\\\\\\\\\\\"e0ac160c-c9ef-40fb-9a8e-6bc8635d5908\\\\\\\\\\\\\", \\\\\\\\\\\\\"type\\\\\\\\\\\\\": \\\\\\\\\\\\\"Microsoft.DPrep.ParseDelimitedBlock\\\\\\\\\\\\\", \\\\\\\\\\\\\"arguments\\\\\\\\\\\\\": {\\\\\\\\\\\\\"columnHeadersMode\\\\\\\\\\\\\": 3, \\\\\\\\\\\\\"fileEncoding\\\\\\\\\\\\\": 0, \\\\\\\\\\\\\"handleQuotedLineBreaks\\\\\\\\\\\\\": false, \\\\\\\\\\\\\"preview\\\\\\\\\\\\\": false, \\\\\\\\\\\\\"separator\\\\\\\\\\\\\": \\\\\\\\\\\\\",\\\\\\\\\\\\\", \\\\\\\\\\\\\"skipRows\\\\\\\\\\\\\": 0, \\\\\\\\\\\\\"skipRowsMode\\\\\\\\\\\\\": 0}, \\\\\\\\\\\\\"localData\\\\\\\\\\\\\": {}, \\\\\\\\\\\\\"isEnabled\\\\\\\\\\\\\": true, \\\\\\\\\\\\\"name\\\\\\\\\\\\\": null, \\\\\\\\\\\\\"annotation\\\\\\\\\\\\\": null}, {\\\\\\\\\\\\\"id\\\\\\\\\\\\\": \\\\\\\\\\\\\"66a5e446-94f3-4f37-b0f0-4404b27c2559\\\\\\\\\\\\\", \\\\\\\\\\\\\"type\\\\\\\\\\\\\": \\\\\\\\\\\\\"Microsoft.DPrep.DropColumnsBlock\\\\\\\\\\\\\", \\\\\\\\\\\\\"arguments\\\\\\\\\\\\\": {\\\\\\\\\\\\\"columns\\\\\\\\\\\\\": {\\\\\\\\\\\\\"type\\\\\\\\\\\\\": 0, \\\\\\\\\\\\\"details\\\\\\\\\\\\\": {\\\\\\\\\\\\\"selectedColumns\\\\\\\\\\\\\": [\\\\\\\\\\\\\"Path\\\\\\\\\\\\\"]}}}, \\\\\\\\\\\\\"localData\\\\\\\\\\\\\": {}, \\\\\\\\\\\\\"isEnabled\\\\\\\\\\\\\": true, \\\\\\\\\\\\\"name\\\\\\\\\\\\\": null, \\\\\\\\\\\\\"annotation\\\\\\\\\\\\\": null}, {\\\\\\\\\\\\\"id\\\\\\\\\\\\\": \\\\\\\\\\\\\"be0bb52d-5419-4c3a-880a-6086d37b8cfd\\\\\\\\\\\\\", \\\\\\\\\\\\\"type\\\\\\\\\\\\\": \\\\\\\\\\\\\"Microsoft.DPrep.SetColumnTypesBlock\\\\\\\\\\\\\", \\\\\\\\\\\\\"arguments\\\\\\\\\\\\\": {\\\\\\\\\\\\\"columnConversion\\\\\\\\\\\\\": [{\\\\\\\\\\\\\"column\\\\\\\\\\\\\": {\\\\\\\\\\\\\"type\\\\\\\\\\\\\": 2, \\\\\\\\\\\\\"details\\\\\\\\\\\\\": {\\\\\\\\\\\\\"selectedColumn\\\\\\\\\\\\\": \\\\\\\\\\\\\"id\\\\\\\\\\\\\"}}, \\\\\\\\\\\\\"typeProperty\\\\\\\\\\\\\": 2}, {\\\\\\\\\\\\\"column\\\\\\\\\\\\\": {\\\\\\\\\\\\\"type\\\\\\\\\\\\\": 2, \\\\\\\\\\\\\"details\\\\\\\\\\\\\": {\\\\\\\\\\\\\"selectedColumn\\\\\\\\\\\\\": \\\\\\\\\\\\\"regfalle\\\\\\\\\\\\\"}}, \\\\\\\\\\\\\"typeProperty\\\\\\\\\\\\\": 2}, {\\\\\\\\\\\\\"column\\\\\\\\\\\\\": {\\\\\\\\\\\\\"type\\\\\\\\\\\\\": 2, \\\\\\\\\\\\\"details\\\\\\\\\\\\\": {\\\\\\\\\\\\\"selectedColumn\\\\\\\\\\\\\": \\\\\\\\\\\\\"edad\\\\\\\\\\\\\"}}, \\\\\\\\\\\\\"typeProperty\\\\\\\\\\\\\": 2}, {\\\\\\\\\\\\\"column\\\\\\\\\\\\\": {\\\\\\\\\\\\\"type\\\\\\\\\\\\\": 2, \\\\\\\\\\\\\"details\\\\\\\\\\\\\": {\\\\\\\\\\\\\"selectedColumn\\\\\\\\\\\\\": \\\\\\\\\\\\\"sexo\\\\\\\\\\\\\"}}, \\\\\\\\\\\\\"typeProperty\\\\\\\\\\\\\": 2}, {\\\\\\\\\\\\\"column\\\\\\\\\\\\\": {\\\\\\\\\\\\\"type\\\\\\\\\\\\\": 2, \\\\\\\\\\\\\"details\\\\\\\\\\\\\": {\\\\\\\\\\\\\"selectedColumn\\\\\\\\\\\\\": \\\\\\\\\\\\\"deptoocuhe\\\\\\\\\\\\\"}}, \\\\\\\\\\\\\"typeProperty\\\\\\\\\\\\\": 2}, {\\\\\\\\\\\\\"column\\\\\\\\\\\\\": {\\\\\\\\\\\\\"type\\\\\\\\\\\\\": 2, \\\\\\\\\\\\\"details\\\\\\\\\\\\\": {\\\\\\\\\\\\\"selectedColumn\\\\\\\\\\\\\": \\\\\\\\\\\\\"tipoarma\\\\\\\\\\\\\"}}, \\\\\\\\\\\\\"typeProperty\\\\\\\\\\\\\": 2}, {\\\\\\\\\\\\\"column\\\\\\\\\\\\\": {\\\\\\\\\\\\\"type\\\\\\\\\\\\\": 2, \\\\\\\\\\\\\"details\\\\\\\\\\\\\": {\\\\\\\\\\\\\"selectedColumn\\\\\\\\\\\\\": \\\\\\\\\\\\\"pracaut\\\\\\\\\\\\\"}}, \\\\\\\\\\\\\"typeProperty\\\\\\\\\\\\\": 2}]}, \\\\\\\\\\\\\"localData\\\\\\\\\\\\\": {}, \\\\\\\\\\\\\"isEnabled\\\\\\\\\\\\\": true, \\\\\\\\\\\\\"name\\\\\\\\\\\\\": null, \\\\\\\\\\\\\"annotation\\\\\\\\\\\\\": null}], \\\\\\\\\\\\\"inspectors\\\\\\\\\\\\\": [], \\\\\\\\\\\\\"meta\\\\\\\\\\\\\": {\\\\\\\\\\\\\"savedDatasetId\\\\\\\\\\\\\": \\\\\\\\\\\\\"83126fd9-f456-48a6-ae73-466351bfaa69\\\\\\\\\\\\\", \\\\\\\\\\\\\"datasetType\\\\\\\\\\\\\": \\\\\\\\\\\\\"tabular\\\\\\\\\\\\\", \\\\\\\\\\\\\"subscriptionId\\\\\\\\\\\\\": \\\\\\\\\\\\\"1b944a9b-fdae-4f97-aeb1-b7eea0beac53\\\\\\\\\\\\\", \\\\\\\\\\\\\"workspaceId\\\\\\\\\\\\\": \\\\\\\\\\\\\"2bc4379e-e9ea-4b1a-9fb9-b7297d2b4a58\\\\\\\\\\\\\", \\\\\\\\\\\\\"workspaceLocation\\\\\\\\\\\\\": \\\\\\\\\\\\\"southcentralus\\\\\\\\\\\\\"}}\\\\\", \\\\\"activities\\\\\": 0}',\n",
       "  'EnableSubsampling': None,\n",
       "  'runTemplate': 'AutoML',\n",
       "  'azureml.runsource': 'automl',\n",
       "  'display_task_type': 'classification',\n",
       "  'dependencies_versions': '{\"azureml-widgets\": \"1.20.0\", \"azureml-train\": \"1.20.0\", \"azureml-train-restclients-hyperdrive\": \"1.20.0\", \"azureml-train-core\": \"1.20.0\", \"azureml-train-automl\": \"1.20.0\", \"azureml-train-automl-runtime\": \"1.20.0\", \"azureml-train-automl-client\": \"1.20.0\", \"azureml-tensorboard\": \"1.20.0\", \"azureml-telemetry\": \"1.20.0\", \"azureml-sdk\": \"1.20.0\", \"azureml-samples\": \"0+unknown\", \"azureml-pipeline\": \"1.20.0\", \"azureml-pipeline-steps\": \"1.20.0\", \"azureml-pipeline-core\": \"1.20.0\", \"azureml-opendatasets\": \"1.20.0\", \"azureml-model-management-sdk\": \"1.0.1b6.post1\", \"azureml-mlflow\": \"1.20.0.post1\", \"azureml-interpret\": \"1.20.0\", \"azureml-explain-model\": \"1.20.0\", \"azureml-defaults\": \"1.20.0\", \"azureml-dataset-runtime\": \"1.20.0\", \"azureml-dataprep\": \"2.7.3\", \"azureml-dataprep-rslex\": \"1.5.0\", \"azureml-dataprep-native\": \"27.0.0\", \"azureml-datadrift\": \"1.20.0\", \"azureml-core\": \"1.20.0\", \"azureml-contrib-services\": \"1.20.0\", \"azureml-contrib-server\": \"1.20.0\", \"azureml-contrib-reinforcementlearning\": \"1.20.0\", \"azureml-contrib-pipeline-steps\": \"1.20.0\", \"azureml-contrib-notebook\": \"1.20.0\", \"azureml-contrib-interpret\": \"1.20.0\", \"azureml-contrib-gbdt\": \"1.20.0\", \"azureml-contrib-fairness\": \"1.20.0\", \"azureml-contrib-dataset\": \"1.20.0\", \"azureml-cli-common\": \"1.20.0\", \"azureml-automl-runtime\": \"1.20.0\", \"azureml-automl-core\": \"1.20.0\", \"azureml-accel-models\": \"1.20.0\"}',\n",
       "  '_aml_system_scenario_identification': 'Remote.Parent',\n",
       "  'ClientType': 'SDK',\n",
       "  'environment_cpu_name': 'AzureML-AutoML',\n",
       "  'environment_cpu_label': 'prod',\n",
       "  'environment_gpu_name': 'AzureML-AutoML-GPU',\n",
       "  'environment_gpu_label': 'prod',\n",
       "  'root_attribution': 'automl',\n",
       "  'attribution': 'AutoML',\n",
       "  'Orchestrator': 'AutoML',\n",
       "  'CancelUri': 'https://southcentralus.experiments.azureml.net/jasmine/v1.0/subscriptions/1b944a9b-fdae-4f97-aeb1-b7eea0beac53/resourceGroups/aml-quickstarts-136496/providers/Microsoft.MachineLearningServices/workspaces/quick-starts-ws-136496/experimentids/7229f264-e173-4e00-b190-95618964ceaf/cancel/AutoML_4d4ae00d-b3c4-4fab-9d9b-ad149eaaaa3b',\n",
       "  'ClientSdkVersion': '1.20.0.post1',\n",
       "  'snapshotId': '00000000-0000-0000-0000-000000000000',\n",
       "  'SetupRunId': 'AutoML_4d4ae00d-b3c4-4fab-9d9b-ad149eaaaa3b_setup',\n",
       "  'SetupRunContainerId': 'dcid.AutoML_4d4ae00d-b3c4-4fab-9d9b-ad149eaaaa3b_setup',\n",
       "  'FeaturizationRunJsonPath': 'featurizer_container.json',\n",
       "  'FeaturizationRunId': 'AutoML_4d4ae00d-b3c4-4fab-9d9b-ad149eaaaa3b_featurize',\n",
       "  'ProblemInfoJsonString': '{\"dataset_num_categorical\": 0, \"is_sparse\": true, \"subsampling\": false, \"dataset_classes\": 2, \"dataset_features\": 34, \"dataset_samples\": 3346, \"single_frequency_class_detected\": false}',\n",
       "  'ModelExplainRunId': 'AutoML_4d4ae00d-b3c4-4fab-9d9b-ad149eaaaa3b_ModelExplain'},\n",
       " 'inputDatasets': [{'dataset': {'id': '83126fd9-f456-48a6-ae73-466351bfaa69'}, 'consumptionDetails': {'type': 'RunInput', 'inputName': 'training_data', 'mechanism': 'Direct'}}],\n",
       " 'outputDatasets': [],\n",
       " 'logFiles': {},\n",
       " 'submittedBy': 'ODL_User 136496'}"
      ]
     },
     "execution_count": 7,
     "metadata": {},
     "output_type": "execute_result"
    }
   ],
   "source": [
    "RunDetails(exprun).show()\n",
    "exprun.wait_for_completion(show_output=True)"
   ]
  },
  {
   "cell_type": "markdown",
   "metadata": {},
   "source": [
    "## Best Model\n",
    "\n",
    "TODO: In the cell below, get the best model from the automl experiments and display all the properties of the model.\n",
    "\n"
   ]
  },
  {
   "cell_type": "code",
   "execution_count": 8,
   "metadata": {
    "gather": {
     "logged": 1598431425670
    },
    "jupyter": {
     "outputs_hidden": false,
     "source_hidden": false
    },
    "nteract": {
     "transient": {
      "deleting": false
     }
    },
    "scrolled": true
   },
   "outputs": [
    {
     "name": "stdout",
     "output_type": "stream",
     "text": [
      "Run(Experiment: expp03ht,\n",
      "Id: AutoML_4d4ae00d-b3c4-4fab-9d9b-ad149eaaaa3b_62,\n",
      "Type: azureml.scriptrun,\n",
      "Status: Completed)\n",
      "f1_score_macro 0.5020454945811144\n",
      "f1_score_micro 0.8822466144613257\n",
      "recall_score_weighted 0.8822466144613257\n",
      "accuracy 0.8822466144613257\n",
      "AUC_weighted 0.6183238946164711\n",
      "weighted_accuracy 0.9809836270291413\n",
      "precision_score_micro 0.8822466144613257\n",
      "log_loss 0.36128769225985524\n",
      "AUC_micro 0.9040676022588008\n",
      "precision_score_macro 0.8712795045625406\n",
      "f1_score_weighted 0.8316884986041069\n",
      "AUC_macro 0.6183238946164712\n",
      "average_precision_score_weighted 0.8288356587155766\n",
      "average_precision_score_micro 0.8863526702255718\n",
      "balanced_accuracy 0.517107879475379\n",
      "precision_score_weighted 0.879767034650054\n",
      "matthews_correlation 0.15225145018505634\n",
      "average_precision_score_macro 0.5675343988516062\n",
      "recall_score_macro 0.517107879475379\n",
      "recall_score_micro 0.8822466144613257\n",
      "norm_macro_recall 0.03421575895075786\n",
      "confusion_matrix aml://artifactId/ExperimentRun/dcid.AutoML_4d4ae00d-b3c4-4fab-9d9b-ad149eaaaa3b_62/confusion_matrix\n",
      "accuracy_table aml://artifactId/ExperimentRun/dcid.AutoML_4d4ae00d-b3c4-4fab-9d9b-ad149eaaaa3b_62/accuracy_table\n"
     ]
    }
   ],
   "source": [
    "#import azureml.train.automl\n",
    "# obtaining best run and fitted model\n",
    "brmodel, fmodel = exprun.get_output()\n",
    "\n",
    "# Print the best run\n",
    "print(brmodel)\n",
    "\n",
    "# Get all metrics of the best run model\n",
    "brmetrics = brmodel.get_metrics()\n",
    "\n",
    "# Print all metrics of the best run model\n",
    "for metric_name in brmetrics:\n",
    "    metric = brmetrics[metric_name]\n",
    "    print(metric_name, metric)\n",
    "    "
   ]
  },
  {
   "cell_type": "code",
   "execution_count": 9,
   "metadata": {},
   "outputs": [
    {
     "name": "stdout",
     "output_type": "stream",
     "text": [
      "datatransformer\n",
      "{'enable_dnn': None,\n",
      " 'enable_feature_sweeping': None,\n",
      " 'feature_sweeping_config': None,\n",
      " 'feature_sweeping_timeout': None,\n",
      " 'featurization_config': None,\n",
      " 'force_text_dnn': None,\n",
      " 'is_cross_validation': None,\n",
      " 'is_onnx_compatible': None,\n",
      " 'logger': None,\n",
      " 'observer': None,\n",
      " 'task': None,\n",
      " 'working_dir': None}\n",
      "\n",
      "prefittedsoftvotingclassifier\n",
      "{'estimators': ['8', '39', '18', '1', '54', '13', '0'],\n",
      " 'weights': [0.1111111111111111,\n",
      "             0.2222222222222222,\n",
      "             0.1111111111111111,\n",
      "             0.2222222222222222,\n",
      "             0.1111111111111111,\n",
      "             0.1111111111111111,\n",
      "             0.1111111111111111]}\n",
      "\n",
      "8 - sparsenormalizer\n",
      "{'copy': True, 'norm': 'l2'}\n",
      "\n",
      "8 - xgboostclassifier\n",
      "{'base_score': 0.5,\n",
      " 'booster': 'gbtree',\n",
      " 'colsample_bylevel': 1,\n",
      " 'colsample_bynode': 1,\n",
      " 'colsample_bytree': 0.5,\n",
      " 'eta': 0.1,\n",
      " 'gamma': 0,\n",
      " 'learning_rate': 0.1,\n",
      " 'max_delta_step': 0,\n",
      " 'max_depth': 6,\n",
      " 'max_leaves': 15,\n",
      " 'min_child_weight': 1,\n",
      " 'missing': nan,\n",
      " 'n_estimators': 100,\n",
      " 'n_jobs': 1,\n",
      " 'nthread': None,\n",
      " 'objective': 'reg:logistic',\n",
      " 'random_state': 0,\n",
      " 'reg_alpha': 0,\n",
      " 'reg_lambda': 2.0833333333333335,\n",
      " 'scale_pos_weight': 1,\n",
      " 'seed': None,\n",
      " 'silent': None,\n",
      " 'subsample': 1,\n",
      " 'tree_method': 'auto',\n",
      " 'verbose': -10,\n",
      " 'verbosity': 0}\n",
      "\n",
      "39 - sparsenormalizer\n",
      "{'copy': True, 'norm': 'l2'}\n",
      "\n",
      "39 - xgboostclassifier\n",
      "{'base_score': 0.5,\n",
      " 'booster': 'gbtree',\n",
      " 'colsample_bylevel': 1,\n",
      " 'colsample_bynode': 1,\n",
      " 'colsample_bytree': 1,\n",
      " 'eta': 0.001,\n",
      " 'gamma': 5,\n",
      " 'learning_rate': 0.1,\n",
      " 'max_delta_step': 0,\n",
      " 'max_depth': 6,\n",
      " 'max_leaves': 7,\n",
      " 'min_child_weight': 1,\n",
      " 'missing': nan,\n",
      " 'n_estimators': 200,\n",
      " 'n_jobs': 1,\n",
      " 'nthread': None,\n",
      " 'objective': 'reg:logistic',\n",
      " 'random_state': 0,\n",
      " 'reg_alpha': 1.4583333333333335,\n",
      " 'reg_lambda': 0.625,\n",
      " 'scale_pos_weight': 1,\n",
      " 'seed': None,\n",
      " 'silent': None,\n",
      " 'subsample': 0.6,\n",
      " 'tree_method': 'auto',\n",
      " 'verbose': -10,\n",
      " 'verbosity': 0}\n",
      "\n",
      "18 - standardscalerwrapper\n",
      "{'class_name': 'StandardScaler',\n",
      " 'copy': True,\n",
      " 'module_name': 'sklearn.preprocessing._data',\n",
      " 'with_mean': False,\n",
      " 'with_std': False}\n",
      "\n",
      "18 - xgboostclassifier\n",
      "{'base_score': 0.5,\n",
      " 'booster': 'gbtree',\n",
      " 'colsample_bylevel': 1,\n",
      " 'colsample_bynode': 1,\n",
      " 'colsample_bytree': 0.7,\n",
      " 'eta': 0.3,\n",
      " 'gamma': 0,\n",
      " 'grow_policy': 'lossguide',\n",
      " 'learning_rate': 0.1,\n",
      " 'max_bin': 1023,\n",
      " 'max_delta_step': 0,\n",
      " 'max_depth': 2,\n",
      " 'max_leaves': 0,\n",
      " 'min_child_weight': 1,\n",
      " 'missing': nan,\n",
      " 'n_estimators': 10,\n",
      " 'n_jobs': 1,\n",
      " 'nthread': None,\n",
      " 'objective': 'reg:logistic',\n",
      " 'random_state': 0,\n",
      " 'reg_alpha': 0.9375,\n",
      " 'reg_lambda': 1.0416666666666667,\n",
      " 'scale_pos_weight': 1,\n",
      " 'seed': None,\n",
      " 'silent': None,\n",
      " 'subsample': 1,\n",
      " 'tree_method': 'hist',\n",
      " 'verbose': -10,\n",
      " 'verbosity': 0}\n",
      "\n",
      "1 - maxabsscaler\n",
      "{'copy': True}\n",
      "\n",
      "1 - xgboostclassifier\n",
      "{'base_score': 0.5,\n",
      " 'booster': 'gbtree',\n",
      " 'colsample_bylevel': 1,\n",
      " 'colsample_bynode': 1,\n",
      " 'colsample_bytree': 1,\n",
      " 'gamma': 0,\n",
      " 'learning_rate': 0.1,\n",
      " 'max_delta_step': 0,\n",
      " 'max_depth': 3,\n",
      " 'min_child_weight': 1,\n",
      " 'missing': nan,\n",
      " 'n_estimators': 100,\n",
      " 'n_jobs': 1,\n",
      " 'nthread': None,\n",
      " 'objective': 'binary:logistic',\n",
      " 'random_state': 0,\n",
      " 'reg_alpha': 0,\n",
      " 'reg_lambda': 1,\n",
      " 'scale_pos_weight': 1,\n",
      " 'seed': None,\n",
      " 'silent': None,\n",
      " 'subsample': 1,\n",
      " 'tree_method': 'auto',\n",
      " 'verbose': -10,\n",
      " 'verbosity': 0}\n",
      "\n",
      "54 - sparsenormalizer\n",
      "{'copy': True, 'norm': 'l1'}\n",
      "\n",
      "54 - xgboostclassifier\n",
      "{'base_score': 0.5,\n",
      " 'booster': 'gbtree',\n",
      " 'colsample_bylevel': 1,\n",
      " 'colsample_bynode': 1,\n",
      " 'colsample_bytree': 1,\n",
      " 'eta': 0.05,\n",
      " 'gamma': 0,\n",
      " 'grow_policy': 'lossguide',\n",
      " 'learning_rate': 0.1,\n",
      " 'max_bin': 1023,\n",
      " 'max_delta_step': 0,\n",
      " 'max_depth': 2,\n",
      " 'max_leaves': 0,\n",
      " 'min_child_weight': 1,\n",
      " 'missing': nan,\n",
      " 'n_estimators': 10,\n",
      " 'n_jobs': 1,\n",
      " 'nthread': None,\n",
      " 'objective': 'reg:logistic',\n",
      " 'random_state': 0,\n",
      " 'reg_alpha': 2.1875,\n",
      " 'reg_lambda': 0.625,\n",
      " 'scale_pos_weight': 1,\n",
      " 'seed': None,\n",
      " 'silent': None,\n",
      " 'subsample': 0.6,\n",
      " 'tree_method': 'hist',\n",
      " 'verbose': -10,\n",
      " 'verbosity': 0}\n",
      "\n",
      "13 - sparsenormalizer\n",
      "{'copy': True, 'norm': 'l1'}\n",
      "\n",
      "13 - xgboostclassifier\n",
      "{'base_score': 0.5,\n",
      " 'booster': 'gbtree',\n",
      " 'colsample_bylevel': 1,\n",
      " 'colsample_bynode': 1,\n",
      " 'colsample_bytree': 0.9,\n",
      " 'eta': 0.4,\n",
      " 'gamma': 0,\n",
      " 'learning_rate': 0.1,\n",
      " 'max_delta_step': 0,\n",
      " 'max_depth': 4,\n",
      " 'max_leaves': 3,\n",
      " 'min_child_weight': 1,\n",
      " 'missing': nan,\n",
      " 'n_estimators': 25,\n",
      " 'n_jobs': 1,\n",
      " 'nthread': None,\n",
      " 'objective': 'reg:logistic',\n",
      " 'random_state': 0,\n",
      " 'reg_alpha': 2.5,\n",
      " 'reg_lambda': 2.5,\n",
      " 'scale_pos_weight': 1,\n",
      " 'seed': None,\n",
      " 'silent': None,\n",
      " 'subsample': 0.5,\n",
      " 'tree_method': 'auto',\n",
      " 'verbose': -10,\n",
      " 'verbosity': 0}\n",
      "\n",
      "0 - maxabsscaler\n",
      "{'copy': True}\n",
      "\n",
      "0 - lightgbmclassifier\n",
      "{'boosting_type': 'gbdt',\n",
      " 'class_weight': None,\n",
      " 'colsample_bytree': 1.0,\n",
      " 'importance_type': 'split',\n",
      " 'learning_rate': 0.1,\n",
      " 'max_depth': -1,\n",
      " 'min_child_samples': 20,\n",
      " 'min_child_weight': 0.001,\n",
      " 'min_split_gain': 0.0,\n",
      " 'n_estimators': 100,\n",
      " 'n_jobs': 1,\n",
      " 'num_leaves': 31,\n",
      " 'objective': None,\n",
      " 'random_state': None,\n",
      " 'reg_alpha': 0.0,\n",
      " 'reg_lambda': 0.0,\n",
      " 'silent': True,\n",
      " 'subsample': 1.0,\n",
      " 'subsample_for_bin': 200000,\n",
      " 'subsample_freq': 0,\n",
      " 'verbose': -10}\n",
      "\n"
     ]
    }
   ],
   "source": [
    "# Display parameters of the fitted model\n",
    "def print_model(model, prefix=\"\"):\n",
    "    for step in model.steps:\n",
    "        print(prefix + step[0])\n",
    "        if hasattr(step[1], 'estimators') and hasattr(step[1], 'weights'):\n",
    "            pprint({'estimators': list(\n",
    "                e[0] for e in step[1].estimators), 'weights': step[1].weights})\n",
    "            print()\n",
    "            for estimator in step[1].estimators:\n",
    "                print_model(estimator[1], estimator[0] + ' - ')\n",
    "        else:\n",
    "            pprint(step[1].get_params())\n",
    "            print()\n",
    "\n",
    "print_model(fmodel)"
   ]
  },
  {
   "cell_type": "code",
   "execution_count": 10,
   "metadata": {},
   "outputs": [
    {
     "data": {
      "text/plain": [
       "['model.pkl']"
      ]
     },
     "execution_count": 10,
     "metadata": {},
     "output_type": "execute_result"
    }
   ],
   "source": [
    "import joblib\n",
    "joblib.dump(value=fmodel, filename='model.pkl')"
   ]
  },
  {
   "cell_type": "code",
   "execution_count": 11,
   "metadata": {
    "scrolled": true
   },
   "outputs": [
    {
     "name": "stdout",
     "output_type": "stream",
     "text": [
      "Model(workspace=Workspace.create(name='quick-starts-ws-136496', subscription_id='1b944a9b-fdae-4f97-aeb1-b7eea0beac53', resource_group='aml-quickstarts-136496'), name=p3automl_ht, id=p3automl_ht:1, version=1, tags={'Method of execution': 'Auto ML'}, properties={'Accuracy': '0.8822466144613257'})\n"
     ]
    }
   ],
   "source": [
    "#TODO: Save the best model\n",
    "autobmlp3ht = brmodel.register_model(model_path='outputs/model.pkl', model_name='p3automl_ht',\n",
    "                        tags={'Method of execution':'Auto ML'},\n",
    "                        properties={'Accuracy': brmetrics['accuracy']})\n",
    "\n",
    "print(autobmlp3ht)"
   ]
  },
  {
   "cell_type": "markdown",
   "metadata": {},
   "source": [
    "## Model Deployment\n",
    "\n",
    "Remember you have to deploy only one of the two models you trained.. Perform the steps in the rest of this notebook only if you wish to deploy this model.\n",
    "\n",
    "TODO: In the cell below, register the model, create an inference config and deploy the model as a web service."
   ]
  },
  {
   "cell_type": "code",
   "execution_count": 12,
   "metadata": {},
   "outputs": [],
   "source": [
    "# Download scoring file \n",
    "brmodel.download_file('outputs/scoring_file_v_1_0_0.py', 'scoring.py')\n",
    "\n",
    "# Download environment file\n",
    "brmodel.download_file('outputs/conda_env_v_1_0_0.yml', 'enviro.yml')"
   ]
  },
  {
   "cell_type": "code",
   "execution_count": 13,
   "metadata": {},
   "outputs": [
    {
     "name": "stdout",
     "output_type": "stream",
     "text": [
      "Tips: You can try get_logs(): https://aka.ms/debugimage#dockerlog or local deployment: https://aka.ms/debugimage#debug-locally to debug if deployment takes longer than 10 minutes.\n",
      "Running...............................................................................................................................................................................................\n",
      "Succeeded\n",
      "ACI service creation operation finished, operation \"Succeeded\"\n",
      "Healthy\n",
      "http://e22282ab-b5fd-4865-999c-6f8032231e46.southcentralus.azurecontainer.io/score\n",
      "http://e22282ab-b5fd-4865-999c-6f8032231e46.southcentralus.azurecontainer.io/swagger.json\n"
     ]
    }
   ],
   "source": [
    "from azureml.core.environment import Environment\n",
    "from azureml.core.model import InferenceConfig\n",
    "\n",
    "infcfg = InferenceConfig(entry_script='scoring.py',\n",
    "                                    environment=Environment.from_conda_specification(name='myenv',file_path='enviro.yml'))\n",
    "\n",
    "# deploying the model via WebService\n",
    "from azureml.core.webservice import AciWebservice\n",
    "\n",
    "depcfg = AciWebservice.deploy_configuration(cpu_cores = 1, memory_gb = 1)\n",
    "webservice = Model.deploy(ws, \"wsp03ht01\", [autobmlp3ht], infcfg, depcfg)\n",
    "webservice.wait_for_deployment(show_output = True)\n",
    "print(webservice.state)\n",
    "\n",
    "print(webservice.scoring_uri)\n",
    "\n",
    "print(webservice.swagger_uri)"
   ]
  },
  {
   "cell_type": "code",
   "execution_count": 14,
   "metadata": {
    "scrolled": false
   },
   "outputs": [
    {
     "name": "stdout",
     "output_type": "stream",
     "text": [
      "{\"data\": [{\"id\": 1365, \"regfalle\": 21348, \"edad\": 24, \"deptoocuhe\": 10, \"tipoarma\": 1, \"pracaut\": 1}, {\"id\": 457, \"regfalle\": 12494, \"edad\": 30, \"deptoocuhe\": 5, \"tipoarma\": 1, \"pracaut\": 1}, {\"id\": 2868, \"regfalle\": 23583, \"edad\": 19, \"deptoocuhe\": 1, \"tipoarma\": 1, \"pracaut\": 1}, {\"id\": 2219, \"regfalle\": 23632, \"edad\": 35, \"deptoocuhe\": 6, \"tipoarma\": 1, \"pracaut\": 0}, {\"id\": 144, \"regfalle\": 21066, \"edad\": 32, \"deptoocuhe\": 8, \"tipoarma\": 1, \"pracaut\": 0}, {\"id\": 2032, \"regfalle\": 23671, \"edad\": 25, \"deptoocuhe\": 6, \"tipoarma\": 2, \"pracaut\": 0}, {\"id\": 2996, \"regfalle\": 24526, \"edad\": 54, \"deptoocuhe\": 7, \"tipoarma\": 1, \"pracaut\": 1}, {\"id\": 1847, \"regfalle\": 23264, \"edad\": 27, \"deptoocuhe\": 1, \"tipoarma\": 1, \"pracaut\": 1}, {\"id\": 275, \"regfalle\": 21584, \"edad\": 22, \"deptoocuhe\": 2, \"tipoarma\": 10, \"pracaut\": 1}, {\"id\": 1074, \"regfalle\": 21272, \"edad\": 18, \"deptoocuhe\": 7, \"tipoarma\": 1, \"pracaut\": 1}]}\n"
     ]
    }
   ],
   "source": [
    "import json\n",
    "\n",
    "#Importing the data set for testing \n",
    "tsthomic2018 = pdhomic2018.sample(10) \n",
    "lblhomic2018 = tsthomic2018.pop('sexo')\n",
    "\n",
    "tstdatahomic2018 = json.dumps({'data': tsthomic2018.to_dict(orient='records')})\n",
    "\n",
    "print(tstdatahomic2018)"
   ]
  },
  {
   "cell_type": "markdown",
   "metadata": {
    "collapsed": true,
    "gather": {
     "logged": 1598431657736
    },
    "jupyter": {
     "outputs_hidden": false,
     "source_hidden": false
    },
    "nteract": {
     "transient": {
      "deleting": false
     }
    }
   },
   "source": [
    "TODO: In the cell below, send a request to the web service you deployed to test it."
   ]
  },
  {
   "cell_type": "code",
   "execution_count": 15,
   "metadata": {},
   "outputs": [],
   "source": [
    "import requests\n",
    "\n",
    "headers = {'Content-type': 'application/json'}\n",
    "\n",
    "response = requests.post(webservice.scoring_uri, tstdatahomic2018, headers=headers)"
   ]
  },
  {
   "cell_type": "code",
   "execution_count": 16,
   "metadata": {},
   "outputs": [
    {
     "name": "stdout",
     "output_type": "stream",
     "text": [
      "\"{\\\"result\\\": [0, 0, 0, 0, 0, 0, 0, 0, 0, 0]}\"\n"
     ]
    }
   ],
   "source": [
    "# Print results \n",
    "print(response.text)"
   ]
  },
  {
   "cell_type": "code",
   "execution_count": 17,
   "metadata": {
    "scrolled": true
   },
   "outputs": [
    {
     "name": "stdout",
     "output_type": "stream",
     "text": [
      "1364    0\n",
      "456     0\n",
      "2867    0\n",
      "2218    0\n",
      "143     0\n",
      "2031    0\n",
      "2995    0\n",
      "1846    0\n",
      "274     0\n",
      "1073    0\n",
      "Name: sexo, dtype: int64\n"
     ]
    }
   ],
   "source": [
    "# Print original labels\n",
    "print(lblhomic2018)"
   ]
  },
  {
   "cell_type": "markdown",
   "metadata": {
    "collapsed": true,
    "gather": {
     "logged": 1598432765711
    },
    "jupyter": {
     "outputs_hidden": false,
     "source_hidden": false
    },
    "nteract": {
     "transient": {
      "deleting": false
     }
    }
   },
   "source": [
    "TODO: In the cell below, print the logs of the web service and delete the service"
   ]
  },
  {
   "cell_type": "code",
   "execution_count": 18,
   "metadata": {
    "scrolled": true
   },
   "outputs": [
    {
     "name": "stdout",
     "output_type": "stream",
     "text": [
      "2021-01-29T11:27:18,749393969+00:00 - iot-server/run \n",
      "2021-01-29T11:27:18,748775012+00:00 - gunicorn/run \n",
      "2021-01-29T11:27:18,751836095+00:00 - rsyslog/run \n",
      "2021-01-29T11:27:18,761690507+00:00 - nginx/run \n",
      "/usr/sbin/nginx: /azureml-envs/azureml_4f26b5b9300bb3a3b89415c34dafac63/lib/libcrypto.so.1.0.0: no version information available (required by /usr/sbin/nginx)\n",
      "/usr/sbin/nginx: /azureml-envs/azureml_4f26b5b9300bb3a3b89415c34dafac63/lib/libcrypto.so.1.0.0: no version information available (required by /usr/sbin/nginx)\n",
      "/usr/sbin/nginx: /azureml-envs/azureml_4f26b5b9300bb3a3b89415c34dafac63/lib/libssl.so.1.0.0: no version information available (required by /usr/sbin/nginx)\n",
      "/usr/sbin/nginx: /azureml-envs/azureml_4f26b5b9300bb3a3b89415c34dafac63/lib/libssl.so.1.0.0: no version information available (required by /usr/sbin/nginx)\n",
      "/usr/sbin/nginx: /azureml-envs/azureml_4f26b5b9300bb3a3b89415c34dafac63/lib/libssl.so.1.0.0: no version information available (required by /usr/sbin/nginx)\n",
      "rsyslogd: /azureml-envs/azureml_4f26b5b9300bb3a3b89415c34dafac63/lib/libuuid.so.1: no version information available (required by rsyslogd)\n",
      "EdgeHubConnectionString and IOTEDGE_IOTHUBHOSTNAME are not set. Exiting...\n",
      "2021-01-29T11:27:18,935961832+00:00 - iot-server/finish 1 0\n",
      "2021-01-29T11:27:18,937558080+00:00 - Exit code 1 is normal. Not restarting iot-server.\n",
      "Starting gunicorn 19.9.0\n",
      "Listening at: http://127.0.0.1:31311 (14)\n",
      "Using worker: sync\n",
      "worker timeout is set to 300\n",
      "Booting worker with pid: 43\n",
      "SPARK_HOME not set. Skipping PySpark Initialization.\n",
      "Generating new fontManager, this may take some time...\n",
      "Initializing logger\n",
      "2021-01-29 11:27:20,364 | root | INFO | Starting up app insights client\n",
      "2021-01-29 11:27:20,364 | root | INFO | Starting up request id generator\n",
      "2021-01-29 11:27:20,364 | root | INFO | Starting up app insight hooks\n",
      "2021-01-29 11:27:20,364 | root | INFO | Invoking user's init function\n",
      "2021-01-29 11:27:24,177 | azureml.core | WARNING | Failure while loading azureml_run_type_providers. Failed to load entrypoint automl = azureml.train.automl.run:AutoMLRun._from_run_dto with exception cannot import name 'RunType'.\n",
      "Failure while loading azureml_run_type_providers. Failed to load entrypoint automl = azureml.train.automl.run:AutoMLRun._from_run_dto with exception cannot import name 'RunType'.\n",
      "2021-01-29 11:27:24,212 | root | INFO | Users's init has completed successfully\n",
      "2021-01-29 11:27:24,214 | root | INFO | Skipping middleware: dbg_model_info as it's not enabled.\n",
      "2021-01-29 11:27:24,214 | root | INFO | Skipping middleware: dbg_resource_usage as it's not enabled.\n",
      "2021-01-29 11:27:24,215 | root | INFO | Scoring timeout is found from os.environ: 60000 ms\n",
      "2021-01-29 11:27:32,949 | root | INFO | 200\n",
      "127.0.0.1 - - [29/Jan/2021:11:27:32 +0000] \"GET /swagger.json HTTP/1.0\" 200 2338 \"-\" \"Go-http-client/1.1\"\n",
      "2021-01-29 11:27:37,797 | root | INFO | 200\n",
      "127.0.0.1 - - [29/Jan/2021:11:27:37 +0000] \"GET /swagger.json HTTP/1.0\" 200 2338 \"-\" \"Go-http-client/1.1\"\n",
      "2021-01-29 11:28:14,972 | root | INFO | Validation Request Content-Type\n",
      "2021-01-29 11:28:14,973 | root | INFO | Scoring Timer is set to 60.0 seconds\n",
      "2021-01-29 11:28:15,022 | root | INFO | 200\n",
      "127.0.0.1 - - [29/Jan/2021:11:28:15 +0000] \"POST /score HTTP/1.0\" 200 46 \"-\" \"python-requests/2.25.1\"\n",
      "\n"
     ]
    }
   ],
   "source": [
    "print(webservice.get_logs())"
   ]
  },
  {
   "cell_type": "code",
   "execution_count": 21,
   "metadata": {},
   "outputs": [],
   "source": [
    "#best practice: deleting webservice that it won't be used anymore\n",
    "webservice.delete()"
   ]
  },
  {
   "cell_type": "code",
   "execution_count": 22,
   "metadata": {},
   "outputs": [
    {
     "name": "stdout",
     "output_type": "stream",
     "text": [
      "Current provisioning state of AmlCompute is \"Deleting\"\n",
      "\n"
     ]
    }
   ],
   "source": [
    "#best practice: deleting CCluster that it won't be used anymore\n",
    "ccluster.delete()"
   ]
  },
  {
   "cell_type": "code",
   "execution_count": null,
   "metadata": {},
   "outputs": [],
   "source": []
  }
 ],
 "metadata": {
  "kernel_info": {
   "name": "python3"
  },
  "kernelspec": {
   "display_name": "Python 3",
   "language": "python",
   "name": "python3"
  },
  "language_info": {
   "codemirror_mode": {
    "name": "ipython",
    "version": 3
   },
   "file_extension": ".py",
   "mimetype": "text/x-python",
   "name": "python",
   "nbconvert_exporter": "python",
   "pygments_lexer": "ipython3",
   "version": "3.6.9"
  },
  "nteract": {
   "version": "nteract-front-end@1.0.0"
  }
 },
 "nbformat": 4,
 "nbformat_minor": 2
}
